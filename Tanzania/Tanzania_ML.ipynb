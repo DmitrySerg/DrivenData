{
 "cells": [
  {
   "cell_type": "code",
   "execution_count": 1,
   "metadata": {
    "collapsed": false
   },
   "outputs": [],
   "source": [
    "import numpy as np\n",
    "import pandas as pd\n",
    "import matplotlib.pyplot as plt\n",
    "plt.style.use('ggplot')"
   ]
  },
  {
   "cell_type": "code",
   "execution_count": 2,
   "metadata": {
    "collapsed": true
   },
   "outputs": [],
   "source": [
    "from sklearn.metrics import accuracy_score, log_loss"
   ]
  },
  {
   "cell_type": "code",
   "execution_count": 3,
   "metadata": {
    "collapsed": true
   },
   "outputs": [],
   "source": [
    "from sklearn.preprocessing import LabelEncoder\n",
    "le = LabelEncoder()"
   ]
  },
  {
   "cell_type": "code",
   "execution_count": 4,
   "metadata": {
    "collapsed": true
   },
   "outputs": [],
   "source": [
    "train = pd.read_pickle('/home/dmitry/Desktop/DataDriven/train_prep.pkl')\n",
    "test = pd.read_pickle('/home/dmitry/Desktop/DataDriven/test_prep.pkl')\n",
    "sample = pd.read_csv('/home/dmitry/Desktop/DataDriven/SubmissionFormat.csv')"
   ]
  },
  {
   "cell_type": "code",
   "execution_count": 5,
   "metadata": {
    "collapsed": true
   },
   "outputs": [],
   "source": [
    "train.Season = le.fit_transform(train.Season)\n",
    "test.Season = le.fit_transform(test.Season)"
   ]
  },
  {
   "cell_type": "code",
   "execution_count": 6,
   "metadata": {
    "collapsed": false
   },
   "outputs": [],
   "source": [
    "train = pd.get_dummies(train, columns=['Season'])\n",
    "test = pd.get_dummies(test, columns=['Season'])"
   ]
  },
  {
   "cell_type": "code",
   "execution_count": 7,
   "metadata": {
    "collapsed": true
   },
   "outputs": [],
   "source": [
    "outcome = pd.read_csv('/home/dmitry/Desktop/DataDriven/Labels.csv', squeeze=True)"
   ]
  },
  {
   "cell_type": "code",
   "execution_count": 8,
   "metadata": {
    "collapsed": false
   },
   "outputs": [],
   "source": [
    "y = le.fit_transform(outcome.status_group)"
   ]
  },
  {
   "cell_type": "code",
   "execution_count": 9,
   "metadata": {
    "collapsed": false
   },
   "outputs": [],
   "source": [
    "pd.DataFrame(y).to_csv('/home/dmitry/Desktop/DataDriven/Y.csv') "
   ]
  },
  {
   "cell_type": "code",
   "execution_count": 10,
   "metadata": {
    "collapsed": false
   },
   "outputs": [],
   "source": [
    "from pandas.core.common import array_equivalent\n",
    "\n",
    "def duplicate_columns(frame):\n",
    "    groups = frame.columns.to_series().groupby(frame.dtypes).groups\n",
    "    dups = []\n",
    "\n",
    "    for t, v in groups.items():\n",
    "\n",
    "        cs = frame[v].columns\n",
    "        vs = frame[v]\n",
    "        lcs = len(cs)\n",
    "\n",
    "        for i in range(lcs):\n",
    "            ia = vs.iloc[:,i].values\n",
    "            for j in range(i+1, lcs):\n",
    "                ja = vs.iloc[:,j].values\n",
    "                if array_equivalent(ia, ja):\n",
    "                    dups.append(cs[i])\n",
    "                    break\n",
    "\n",
    "    return dups"
   ]
  },
  {
   "cell_type": "code",
   "execution_count": 11,
   "metadata": {
    "collapsed": false
   },
   "outputs": [],
   "source": [
    "dups = duplicate_columns(train)\n",
    "train = train.drop(dups, axis=1)"
   ]
  },
  {
   "cell_type": "code",
   "execution_count": 12,
   "metadata": {
    "collapsed": true
   },
   "outputs": [],
   "source": [
    "dups = duplicate_columns(test)\n",
    "test = test.drop(dups, axis=1)"
   ]
  },
  {
   "cell_type": "markdown",
   "metadata": {},
   "source": [
    "## Train-Test Split"
   ]
  },
  {
   "cell_type": "code",
   "execution_count": 13,
   "metadata": {
    "collapsed": true
   },
   "outputs": [],
   "source": [
    "X = train"
   ]
  },
  {
   "cell_type": "code",
   "execution_count": 14,
   "metadata": {
    "collapsed": true
   },
   "outputs": [],
   "source": [
    "from sklearn.cross_validation import train_test_split"
   ]
  },
  {
   "cell_type": "code",
   "execution_count": 15,
   "metadata": {
    "collapsed": true
   },
   "outputs": [],
   "source": [
    "Xtr, Xval, ytr, yval = train_test_split(X, y, test_size=0.15, random_state=42)"
   ]
  },
  {
   "cell_type": "code",
   "execution_count": 16,
   "metadata": {
    "collapsed": false
   },
   "outputs": [
    {
     "data": {
      "text/plain": [
       "((50490, 81), (8910, 81))"
      ]
     },
     "execution_count": 16,
     "metadata": {},
     "output_type": "execute_result"
    }
   ],
   "source": [
    "Xtr.shape, Xval.shape"
   ]
  },
  {
   "cell_type": "markdown",
   "metadata": {},
   "source": [
    "## Constant prediction"
   ]
  },
  {
   "cell_type": "code",
   "execution_count": 15,
   "metadata": {
    "collapsed": true
   },
   "outputs": [],
   "source": [
    "const = np.ones(shape=(8910, 1))*0"
   ]
  },
  {
   "cell_type": "code",
   "execution_count": 16,
   "metadata": {
    "collapsed": false
   },
   "outputs": [
    {
     "data": {
      "text/plain": [
       "array([[ 0.],\n",
       "       [ 0.],\n",
       "       [ 0.],\n",
       "       ..., \n",
       "       [ 0.],\n",
       "       [ 0.],\n",
       "       [ 0.]])"
      ]
     },
     "execution_count": 16,
     "metadata": {},
     "output_type": "execute_result"
    }
   ],
   "source": [
    "const"
   ]
  },
  {
   "cell_type": "code",
   "execution_count": 17,
   "metadata": {
    "collapsed": false
   },
   "outputs": [
    {
     "data": {
      "text/plain": [
       "0.54332210998877661"
      ]
     },
     "execution_count": 17,
     "metadata": {},
     "output_type": "execute_result"
    }
   ],
   "source": [
    "accuracy_score(yval, const)"
   ]
  },
  {
   "cell_type": "code",
   "execution_count": 18,
   "metadata": {
    "collapsed": false
   },
   "outputs": [
    {
     "data": {
      "text/plain": [
       "array([0, 0, 2, 0, 2, 2, 2, 0, 0, 2, 2, 2, 2, 0, 0, 0, 0, 2, 2, 1, 0, 2, 2,\n",
       "       0, 2, 0, 0, 0, 0, 2, 2, 2, 0, 0, 0, 0, 2, 2, 2, 2, 0, 0, 0, 0, 2, 0,\n",
       "       0, 2, 0])"
      ]
     },
     "execution_count": 18,
     "metadata": {},
     "output_type": "execute_result"
    }
   ],
   "source": [
    "yval[1:50]"
   ]
  },
  {
   "cell_type": "code",
   "execution_count": 19,
   "metadata": {
    "collapsed": false
   },
   "outputs": [
    {
     "data": {
      "text/plain": [
       "array([ 0.54303823,  0.07292533,  0.38403644])"
      ]
     },
     "execution_count": 19,
     "metadata": {},
     "output_type": "execute_result"
    }
   ],
   "source": [
    "probas = np.array(pd.Series(ytr).value_counts(normalize=True).sort_index().tolist())\n",
    "probas"
   ]
  },
  {
   "cell_type": "code",
   "execution_count": 20,
   "metadata": {
    "collapsed": false
   },
   "outputs": [
    {
     "data": {
      "text/plain": [
       "0.88718610891533223"
      ]
     },
     "execution_count": 20,
     "metadata": {},
     "output_type": "execute_result"
    }
   ],
   "source": [
    "log_loss(yval, np.tile(probas, 8910).reshape(8910, 3))"
   ]
  },
  {
   "cell_type": "code",
   "execution_count": 21,
   "metadata": {
    "collapsed": false
   },
   "outputs": [
    {
     "data": {
      "text/plain": [
       "0    0.543038\n",
       "1    0.072925\n",
       "2    0.384036\n",
       "dtype: float64"
      ]
     },
     "execution_count": 21,
     "metadata": {},
     "output_type": "execute_result"
    }
   ],
   "source": [
    "pd.Series(ytr).value_counts(normalize=True).sort_index()"
   ]
  },
  {
   "cell_type": "markdown",
   "metadata": {},
   "source": [
    "## Logistic Regression"
   ]
  },
  {
   "cell_type": "code",
   "execution_count": 58,
   "metadata": {
    "collapsed": true
   },
   "outputs": [],
   "source": [
    "from sklearn.linear_model import LogisticRegression"
   ]
  },
  {
   "cell_type": "code",
   "execution_count": 23,
   "metadata": {
    "collapsed": false
   },
   "outputs": [
    {
     "data": {
      "text/plain": [
       "LogisticRegression(C=1.0, class_weight=None, dual=False, fit_intercept=True,\n",
       "          intercept_scaling=1, max_iter=100, multi_class='ovr', n_jobs=1,\n",
       "          penalty='l2', random_state=None, solver='liblinear', tol=0.0001,\n",
       "          verbose=0, warm_start=False)"
      ]
     },
     "execution_count": 23,
     "metadata": {},
     "output_type": "execute_result"
    }
   ],
   "source": [
    "lr = LogisticRegression()\n",
    "lr.fit(Xtr, ytr)"
   ]
  },
  {
   "cell_type": "code",
   "execution_count": 24,
   "metadata": {
    "collapsed": false
   },
   "outputs": [
    {
     "name": "stdout",
     "output_type": "stream",
     "text": [
      "Train logloss 0.729860173424\n",
      "Validation logloss 0.73323764495\n"
     ]
    }
   ],
   "source": [
    "print('Train logloss', log_loss(ytr, lr.predict_proba(Xtr)))\n",
    "print('Validation logloss', log_loss(yval, lr.predict_proba(Xval)))"
   ]
  },
  {
   "cell_type": "code",
   "execution_count": 25,
   "metadata": {
    "collapsed": false
   },
   "outputs": [
    {
     "name": "stdout",
     "output_type": "stream",
     "text": [
      "Train accuracy score 0.695147553971\n",
      "Validation accuracy score 0.696071829405\n"
     ]
    }
   ],
   "source": [
    "print('Train accuracy score', accuracy_score(ytr, lr.predict(Xtr)))\n",
    "print('Validation accuracy score', accuracy_score(yval, lr.predict(Xval)))"
   ]
  },
  {
   "cell_type": "markdown",
   "metadata": {},
   "source": [
    "### Hyperparameter optimization"
   ]
  },
  {
   "cell_type": "code",
   "execution_count": 55,
   "metadata": {
    "collapsed": true
   },
   "outputs": [],
   "source": [
    "from sklearn.grid_search import GridSearchCV"
   ]
  },
  {
   "cell_type": "code",
   "execution_count": 56,
   "metadata": {
    "collapsed": false
   },
   "outputs": [
    {
     "data": {
      "text/plain": [
       "array([  1.00000000e-04,   3.72759372e-04,   1.38949549e-03,\n",
       "         5.17947468e-03,   1.93069773e-02,   7.19685673e-02,\n",
       "         2.68269580e-01,   1.00000000e+00,   3.72759372e+00,\n",
       "         1.38949549e+01,   5.17947468e+01,   1.93069773e+02,\n",
       "         7.19685673e+02,   2.68269580e+03,   1.00000000e+04])"
      ]
     },
     "execution_count": 56,
     "metadata": {},
     "output_type": "execute_result"
    }
   ],
   "source": [
    "Cs = 10**np.linspace(-4, 4, num=15)\n",
    "Cs"
   ]
  },
  {
   "cell_type": "code",
   "execution_count": 59,
   "metadata": {
    "collapsed": false
   },
   "outputs": [],
   "source": [
    "grid = {'C': Cs}\n",
    "gridsearch = GridSearchCV(LogisticRegression(), grid, scoring='accuracy', cv=6)"
   ]
  },
  {
   "cell_type": "code",
   "execution_count": 60,
   "metadata": {
    "collapsed": false
   },
   "outputs": [
    {
     "name": "stdout",
     "output_type": "stream",
     "text": [
      "CPU times: user 17min 8s, sys: 2.88 s, total: 17min 11s\n",
      "Wall time: 16min 43s\n"
     ]
    },
    {
     "data": {
      "text/plain": [
       "GridSearchCV(cv=6, error_score='raise',\n",
       "       estimator=LogisticRegression(C=1.0, class_weight=None, dual=False, fit_intercept=True,\n",
       "          intercept_scaling=1, max_iter=100, multi_class='ovr', n_jobs=1,\n",
       "          penalty='l2', random_state=None, solver='liblinear', tol=0.0001,\n",
       "          verbose=0, warm_start=False),\n",
       "       fit_params={}, iid=True, n_jobs=1,\n",
       "       param_grid={'C': array([  1.00000e-04,   3.72759e-04,   1.38950e-03,   5.17947e-03,\n",
       "         1.93070e-02,   7.19686e-02,   2.68270e-01,   1.00000e+00,\n",
       "         3.72759e+00,   1.38950e+01,   5.17947e+01,   1.93070e+02,\n",
       "         7.19686e+02,   2.68270e+03,   1.00000e+04])},\n",
       "       pre_dispatch='2*n_jobs', refit=True, scoring='accuracy', verbose=0)"
      ]
     },
     "execution_count": 60,
     "metadata": {},
     "output_type": "execute_result"
    }
   ],
   "source": [
    "%time gridsearch.fit(ss.fit_transform(X), y)"
   ]
  },
  {
   "cell_type": "code",
   "execution_count": 61,
   "metadata": {
    "collapsed": false
   },
   "outputs": [
    {
     "data": {
      "image/png": "[encoded data removed]",
      "text/plain": [
       "<matplotlib.figure.Figure at 0x7f5d8a244780>"
      ]
     },
     "metadata": {},
     "output_type": "display_data"
    }
   ],
   "source": [
    "%matplotlib inline\n",
    "scores = [x.mean_validation_score for x in  gridsearch.grid_scores_]\n",
    "plt.plot(Cs, scores)\n",
    "plt.scatter(Cs, scores)\n",
    "plt.scatter(Cs[np.argmax(scores)], scores[np.argmax(scores)], c='g', s=100)\n",
    "plt.xscale('log')"
   ]
  },
  {
   "cell_type": "code",
   "execution_count": 65,
   "metadata": {
    "collapsed": false
   },
   "outputs": [
    {
     "data": {
      "text/plain": [
       "3.7275937203149381"
      ]
     },
     "execution_count": 65,
     "metadata": {},
     "output_type": "execute_result"
    }
   ],
   "source": [
    "C = Cs[np.argmax(scores)]\n",
    "C"
   ]
  },
  {
   "cell_type": "code",
   "execution_count": 88,
   "metadata": {
    "collapsed": false
   },
   "outputs": [
    {
     "name": "stdout",
     "output_type": "stream",
     "text": [
      "Train logloss 0.686064820747\n",
      "Validation logloss 0.689009535967\n",
      "Train accuracy score 0.696494355318\n",
      "Validation accuracy score 0.698428731762\n"
     ]
    }
   ],
   "source": [
    "lr = LogisticRegression(C=C)\n",
    "lr.fit(ss.fit_transform(Xtr), ytr)\n",
    "print('Train logloss', log_loss(ytr, lr.predict_proba(ss.fit_transform(Xtr))))\n",
    "print('Validation logloss', log_loss(yval, lr.predict_proba(ss.fit_transform(Xval))))\n",
    "print('Train accuracy score', accuracy_score(ytr, lr.predict(ss.fit_transform(Xtr))))\n",
    "print('Validation accuracy score', accuracy_score(yval, lr.predict(ss.fit_transform(Xval))))"
   ]
  },
  {
   "cell_type": "code",
   "execution_count": 67,
   "metadata": {
    "collapsed": false
   },
   "outputs": [
    {
     "data": {
      "text/plain": [
       "LogisticRegression(C=3.7275937203149381, class_weight=None, dual=False,\n",
       "          fit_intercept=True, intercept_scaling=1, max_iter=100,\n",
       "          multi_class='ovr', n_jobs=1, penalty='l2', random_state=None,\n",
       "          solver='liblinear', tol=0.0001, verbose=0, warm_start=False)"
      ]
     },
     "execution_count": 67,
     "metadata": {},
     "output_type": "execute_result"
    }
   ],
   "source": [
    "lr.fit(X, y)"
   ]
  },
  {
   "cell_type": "markdown",
   "metadata": {},
   "source": [
    "## Random Forest"
   ]
  },
  {
   "cell_type": "code",
   "execution_count": 68,
   "metadata": {
    "collapsed": true
   },
   "outputs": [],
   "source": [
    "from sklearn.ensemble import RandomForestClassifier"
   ]
  },
  {
   "cell_type": "code",
   "execution_count": 69,
   "metadata": {
    "collapsed": false
   },
   "outputs": [
    {
     "name": "stdout",
     "output_type": "stream",
     "text": [
      "0.531519836598\n",
      "0.812570145903\n"
     ]
    }
   ],
   "source": [
    "rf = RandomForestClassifier(n_estimators=200, n_jobs=3)\n",
    "rf.fit(Xtr, ytr)\n",
    "print(log_loss(yval, rf.predict_proba(Xval)))\n",
    "print(accuracy_score(yval, rf.predict(Xval)))"
   ]
  },
  {
   "cell_type": "code",
   "execution_count": 196,
   "metadata": {
    "collapsed": true
   },
   "outputs": [],
   "source": [
    "answ = rf.predict(test)"
   ]
  },
  {
   "cell_type": "code",
   "execution_count": 197,
   "metadata": {
    "collapsed": true
   },
   "outputs": [],
   "source": [
    "answ = list(answ)"
   ]
  },
  {
   "cell_type": "code",
   "execution_count": 198,
   "metadata": {
    "collapsed": false
   },
   "outputs": [],
   "source": [
    "for i in range(len(answ)):\n",
    "    if answ[i] == 0:\n",
    "        answ[i] = 'functional'\n",
    "    elif answ[i] == 1:\n",
    "        answ[i] = 'functional needs repair'\n",
    "    else:\n",
    "        answ[i] = 'non functional'"
   ]
  },
  {
   "cell_type": "code",
   "execution_count": 199,
   "metadata": {
    "collapsed": false
   },
   "outputs": [
    {
     "data": {
      "text/plain": [
       "['functional',\n",
       " 'functional',\n",
       " 'non functional',\n",
       " 'functional',\n",
       " 'functional',\n",
       " 'non functional',\n",
       " 'non functional',\n",
       " 'non functional',\n",
       " 'functional']"
      ]
     },
     "execution_count": 199,
     "metadata": {},
     "output_type": "execute_result"
    }
   ],
   "source": [
    "answ[1:10]"
   ]
  },
  {
   "cell_type": "code",
   "execution_count": 200,
   "metadata": {
    "collapsed": false
   },
   "outputs": [],
   "source": [
    "sub = pd.DataFrame(sample.id)\n",
    "sub['status_group'] = pd.DataFrame(answ, columns=sample.columns[1:])"
   ]
  },
  {
   "cell_type": "code",
   "execution_count": 201,
   "metadata": {
    "collapsed": false
   },
   "outputs": [
    {
     "data": {
      "text/html": [
       "<div style=\"max-height:1000px;max-width:1500px;overflow:auto;\">\n",
       "<table border=\"1\" class=\"dataframe\">\n",
       "  <thead>\n",
       "    <tr style=\"text-align: right;\">\n",
       "      <th></th>\n",
       "      <th>id</th>\n",
       "      <th>status_group</th>\n",
       "    </tr>\n",
       "  </thead>\n",
       "  <tbody>\n",
       "    <tr>\n",
       "      <th>0</th>\n",
       "      <td> 50785</td>\n",
       "      <td>     functional</td>\n",
       "    </tr>\n",
       "    <tr>\n",
       "      <th>1</th>\n",
       "      <td> 51630</td>\n",
       "      <td>     functional</td>\n",
       "    </tr>\n",
       "    <tr>\n",
       "      <th>2</th>\n",
       "      <td> 17168</td>\n",
       "      <td>     functional</td>\n",
       "    </tr>\n",
       "    <tr>\n",
       "      <th>3</th>\n",
       "      <td> 45559</td>\n",
       "      <td> non functional</td>\n",
       "    </tr>\n",
       "    <tr>\n",
       "      <th>4</th>\n",
       "      <td> 49871</td>\n",
       "      <td>     functional</td>\n",
       "    </tr>\n",
       "  </tbody>\n",
       "</table>\n",
       "</div>"
      ],
      "text/plain": [
       "      id    status_group\n",
       "0  50785      functional\n",
       "1  51630      functional\n",
       "2  17168      functional\n",
       "3  45559  non functional\n",
       "4  49871      functional"
      ]
     },
     "execution_count": 201,
     "metadata": {},
     "output_type": "execute_result"
    }
   ],
   "source": [
    "sub.head()"
   ]
  },
  {
   "cell_type": "code",
   "execution_count": 202,
   "metadata": {
    "collapsed": true
   },
   "outputs": [],
   "source": [
    "sub.to_csv('C://Users//Auditore//Desktop//DataDriven//submission.csv', index=False)"
   ]
  },
  {
   "cell_type": "markdown",
   "metadata": {},
   "source": [
    "This random forest gave me 0.8076 score "
   ]
  },
  {
   "cell_type": "code",
   "execution_count": 16,
   "metadata": {
    "collapsed": true
   },
   "outputs": [],
   "source": [
    "from sklearn.calibration import CalibratedClassifierCV"
   ]
  },
  {
   "cell_type": "code",
   "execution_count": 17,
   "metadata": {
    "collapsed": false
   },
   "outputs": [
    {
     "name": "stdout",
     "output_type": "stream",
     "text": [
      "0.477490658757\n",
      "0.816049382716\n"
     ]
    }
   ],
   "source": [
    "calib = CalibratedClassifierCV(RandomForestClassifier(n_jobs=3, n_estimators=200), cv=5, method='isotonic')\n",
    "calib.fit(Xtr, ytr)\n",
    "print(log_loss(yval, calib.predict_proba(Xval)))\n",
    "print(accuracy_score(yval, calib.predict(Xval)))"
   ]
  },
  {
   "cell_type": "code",
   "execution_count": 18,
   "metadata": {
    "collapsed": true
   },
   "outputs": [],
   "source": [
    "answ = calib.predict(test)\n",
    "answ = list(answ)"
   ]
  },
  {
   "cell_type": "code",
   "execution_count": 47,
   "metadata": {
    "collapsed": true
   },
   "outputs": [],
   "source": [
    "def classes_to_names(answ):\n",
    "    clean = answ\n",
    "    for i in range(len(answ)):\n",
    "        if answ[i] == 0:\n",
    "            clean[i] = 'functional'\n",
    "        elif answ[i] == 1:\n",
    "            clean[i] = 'functional needs repair'\n",
    "        else:\n",
    "            clean[i] = 'non functional'\n",
    "    return clean"
   ]
  },
  {
   "cell_type": "code",
   "execution_count": null,
   "metadata": {
    "collapsed": true
   },
   "outputs": [],
   "source": [
    "answ = classes_to_names(answ)"
   ]
  },
  {
   "cell_type": "code",
   "execution_count": 19,
   "metadata": {
    "collapsed": true
   },
   "outputs": [],
   "source": [
    "sub = pd.DataFrame(sample.id)\n",
    "sub['status_group'] = pd.DataFrame(answ, columns=sample.columns[1:])"
   ]
  },
  {
   "cell_type": "code",
   "execution_count": 20,
   "metadata": {
    "collapsed": false
   },
   "outputs": [
    {
     "data": {
      "text/html": [
       "<div>\n",
       "<table border=\"1\" class=\"dataframe\">\n",
       "  <thead>\n",
       "    <tr style=\"text-align: right;\">\n",
       "      <th></th>\n",
       "      <th>id</th>\n",
       "      <th>status_group</th>\n",
       "    </tr>\n",
       "  </thead>\n",
       "  <tbody>\n",
       "    <tr>\n",
       "      <th>0</th>\n",
       "      <td>50785</td>\n",
       "      <td>functional</td>\n",
       "    </tr>\n",
       "    <tr>\n",
       "      <th>1</th>\n",
       "      <td>51630</td>\n",
       "      <td>functional</td>\n",
       "    </tr>\n",
       "    <tr>\n",
       "      <th>2</th>\n",
       "      <td>17168</td>\n",
       "      <td>functional</td>\n",
       "    </tr>\n",
       "    <tr>\n",
       "      <th>3</th>\n",
       "      <td>45559</td>\n",
       "      <td>non functional</td>\n",
       "    </tr>\n",
       "    <tr>\n",
       "      <th>4</th>\n",
       "      <td>49871</td>\n",
       "      <td>functional</td>\n",
       "    </tr>\n",
       "  </tbody>\n",
       "</table>\n",
       "</div>"
      ],
      "text/plain": [
       "      id    status_group\n",
       "0  50785      functional\n",
       "1  51630      functional\n",
       "2  17168      functional\n",
       "3  45559  non functional\n",
       "4  49871      functional"
      ]
     },
     "execution_count": 20,
     "metadata": {},
     "output_type": "execute_result"
    }
   ],
   "source": [
    "sub.head()"
   ]
  },
  {
   "cell_type": "code",
   "execution_count": 21,
   "metadata": {
    "collapsed": true
   },
   "outputs": [],
   "source": [
    "sub.to_csv('/home/dmitry/Desktop/DataDriven/submission.csv', index=False)"
   ]
  },
  {
   "cell_type": "markdown",
   "metadata": {},
   "source": [
    "## XGBoost"
   ]
  },
  {
   "cell_type": "code",
   "execution_count": 17,
   "metadata": {
    "collapsed": true
   },
   "outputs": [],
   "source": [
    "import sys\n",
    "sys.path.append('/home/dmitry/xgboost/python-package/')"
   ]
  },
  {
   "cell_type": "code",
   "execution_count": 18,
   "metadata": {
    "collapsed": false
   },
   "outputs": [],
   "source": [
    "import xgboost as xgb"
   ]
  },
  {
   "cell_type": "code",
   "execution_count": 19,
   "metadata": {
    "collapsed": false
   },
   "outputs": [
    {
     "data": {
      "text/plain": [
       "((59400, 81), (59400,))"
      ]
     },
     "execution_count": 19,
     "metadata": {},
     "output_type": "execute_result"
    }
   ],
   "source": [
    "X.shape, y.shape"
   ]
  },
  {
   "cell_type": "code",
   "execution_count": 20,
   "metadata": {
    "collapsed": false
   },
   "outputs": [],
   "source": [
    "dtrain = xgb.DMatrix(X, label=y)"
   ]
  },
  {
   "cell_type": "code",
   "execution_count": 21,
   "metadata": {
    "collapsed": true
   },
   "outputs": [],
   "source": [
    "params = {\n",
    "    'objective': 'multi:softmax',\n",
    "    'num_class': 3,\n",
    "    'max_depth': 8,\n",
    "    'eta': 2.5\n",
    "}\n",
    "trees = 50"
   ]
  },
  {
   "cell_type": "code",
   "execution_count": 70,
   "metadata": {
    "collapsed": false,
    "scrolled": true
   },
   "outputs": [],
   "source": [
    "cv = xgb.cv(params, dtrain, metrics=('merror'), verbose_eval=False, nfold=7, show_stdv=False, num_boost_round=trees)"
   ]
  },
  {
   "cell_type": "code",
   "execution_count": null,
   "metadata": {
    "collapsed": false
   },
   "outputs": [],
   "source": [
    "cv.head()"
   ]
  },
  {
   "cell_type": "code",
   "execution_count": 35,
   "metadata": {
    "collapsed": false
   },
   "outputs": [
    {
     "data": {
      "text/plain": [
       "<matplotlib.axes._subplots.AxesSubplot at 0x7f218360f240>"
      ]
     },
     "execution_count": 35,
     "metadata": {},
     "output_type": "execute_result"
    },
    {
     "data": {
      "image/png": "[encoded data removed]",
      "text/plain": [
       "<matplotlib.figure.Figure at 0x7f2170d4dd68>"
      ]
     },
     "metadata": {},
     "output_type": "display_data"
    }
   ],
   "source": [
    "%matplotlib inline\n",
    "cv.plot(y=['test-mlogloss-mean', 'train-mlogloss-mean'])"
   ]
  },
  {
   "cell_type": "code",
   "execution_count": 36,
   "metadata": {
    "collapsed": false
   },
   "outputs": [
    {
     "data": {
      "text/plain": [
       "<matplotlib.axes._subplots.AxesSubplot at 0x7f2170d80080>"
      ]
     },
     "execution_count": 36,
     "metadata": {},
     "output_type": "execute_result"
    },
    {
     "data": {
      "image/png": "[encoded data removed]",
      "text/plain": [
       "<matplotlib.figure.Figure at 0x7f217d317b00>"
      ]
     },
     "metadata": {},
     "output_type": "display_data"
    }
   ],
   "source": [
    "cv[50:].plot(y=['test-mlogloss-mean', 'train-mlogloss-mean'], secondary_y='test-mlogloss-mean')"
   ]
  },
  {
   "cell_type": "code",
   "execution_count": 37,
   "metadata": {
    "collapsed": false
   },
   "outputs": [
    {
     "data": {
      "text/plain": [
       "199"
      ]
     },
     "execution_count": 37,
     "metadata": {},
     "output_type": "execute_result"
    }
   ],
   "source": [
    "cv['test-mlogloss-mean'].argmin()"
   ]
  },
  {
   "cell_type": "code",
   "execution_count": 38,
   "metadata": {
    "collapsed": false
   },
   "outputs": [
    {
     "data": {
      "text/plain": [
       "test-mlogloss-mean     0.502146\n",
       "test-mlogloss-std      0.007291\n",
       "train-mlogloss-mean    0.341085\n",
       "train-mlogloss-std     0.002545\n",
       "Name: 199, dtype: float64"
      ]
     },
     "execution_count": 38,
     "metadata": {},
     "output_type": "execute_result"
    }
   ],
   "source": [
    "cv.loc[199]"
   ]
  },
  {
   "cell_type": "code",
   "execution_count": 22,
   "metadata": {
    "collapsed": true
   },
   "outputs": [],
   "source": [
    "params = {\n",
    "    'objective': 'multi:softprob',\n",
    "    'num_class': 3,\n",
    "    'max_depth': 8,\n",
    "    'subsample': 0.9,\n",
    "    'eta': 0.05,\n",
    "    'min_child_weight': 2\n",
    "}\n",
    "trees = 2500"
   ]
  },
  {
   "cell_type": "code",
   "execution_count": 22,
   "metadata": {
    "collapsed": false,
    "scrolled": true
   },
   "outputs": [
    {
     "name": "stderr",
     "output_type": "stream",
     "text": [
      "[0]\tcv-test-merror:0.2603031666666667\tcv-train-merror:0.2496598333333333\n",
      "[1]\tcv-test-merror:0.25868683333333337\tcv-train-merror:0.2496805\n",
      "[2]\tcv-test-merror:0.25865333333333335\tcv-train-merror:0.24899316666666668\n",
      "[3]\tcv-test-merror:0.25828283333333335\tcv-train-merror:0.24814133333333332\n",
      "[4]\tcv-test-merror:0.25730633333333336\tcv-train-merror:0.2468921666666667\n",
      "[5]\tcv-test-merror:0.256801\tcv-train-merror:0.24618183333333332\n",
      "[6]\tcv-test-merror:0.2560773333333333\tcv-train-merror:0.24572733333333333\n",
      "[7]\tcv-test-merror:0.25569000000000003\tcv-train-merror:0.24527266666666667\n",
      "[8]\tcv-test-merror:0.2548146666666667\tcv-train-merror:0.24495616666666667\n",
      "[9]\tcv-test-merror:0.25483150000000004\tcv-train-merror:0.2440135\n",
      "[10]\tcv-test-merror:0.2541413333333333\tcv-train-merror:0.2435151666666667\n",
      "[11]\tcv-test-merror:0.25358583333333334\tcv-train-merror:0.24265\n",
      "[12]\tcv-test-merror:0.25316500000000003\tcv-train-merror:0.2422121666666667\n",
      "[13]\tcv-test-merror:0.2525253333333333\tcv-train-merror:0.24157566666666663\n",
      "[14]\tcv-test-merror:0.25262633333333334\tcv-train-merror:0.24128966666666665\n",
      "[15]\tcv-test-merror:0.2519361666666667\tcv-train-merror:0.24067000000000002\n",
      "[16]\tcv-test-merror:0.2515658333333333\tcv-train-merror:0.24034683333333332\n",
      "[17]\tcv-test-merror:0.25094283333333334\tcv-train-merror:0.23952516666666668\n",
      "[18]\tcv-test-merror:0.25055583333333337\tcv-train-merror:0.23877783333333336\n",
      "[19]\tcv-test-merror:0.249815\tcv-train-merror:0.23786516666666666\n",
      "[20]\tcv-test-merror:0.24904033333333334\tcv-train-merror:0.2372591666666667\n",
      "[21]\tcv-test-merror:0.24870383333333335\tcv-train-merror:0.2367406666666667\n",
      "[22]\tcv-test-merror:0.24804716666666668\tcv-train-merror:0.23578800000000003\n",
      "[23]\tcv-test-merror:0.24747449999999996\tcv-train-merror:0.23515833333333333\n",
      "[24]\tcv-test-merror:0.2472725\tcv-train-merror:0.23473399999999997\n",
      "[25]\tcv-test-merror:0.24646449999999998\tcv-train-merror:0.2339765\n",
      "[26]\tcv-test-merror:0.24614466666666665\tcv-train-merror:0.23356566666666667\n",
      "[27]\tcv-test-merror:0.245993\tcv-train-merror:0.2328685\n",
      "[28]\tcv-test-merror:0.245892\tcv-train-merror:0.23210433333333333\n",
      "[29]\tcv-test-merror:0.24537016666666667\tcv-train-merror:0.23138066666666668\n",
      "[30]\tcv-test-merror:0.2449663333333333\tcv-train-merror:0.2308585\n",
      "[31]\tcv-test-merror:0.2444443333333333\tcv-train-merror:0.23032333333333332\n",
      "[32]\tcv-test-merror:0.24353533333333335\tcv-train-merror:0.229579\n",
      "[33]\tcv-test-merror:0.24294616666666669\tcv-train-merror:0.22897316666666667\n",
      "[34]\tcv-test-merror:0.24242433333333333\tcv-train-merror:0.2283435\n",
      "[35]\tcv-test-merror:0.24208766666666667\tcv-train-merror:0.22771699999999997\n",
      "[36]\tcv-test-merror:0.24149850000000003\tcv-train-merror:0.22720866666666664\n",
      "[37]\tcv-test-merror:0.2409093333333333\tcv-train-merror:0.22633649999999997\n",
      "[38]\tcv-test-merror:0.2407578333333333\tcv-train-merror:0.22567666666666666\n",
      "[39]\tcv-test-merror:0.24016833333333334\tcv-train-merror:0.22491583333333331\n",
      "[40]\tcv-test-merror:0.23941083333333332\tcv-train-merror:0.2241415\n",
      "[41]\tcv-test-merror:0.2392425\tcv-train-merror:0.22382833333333338\n",
      "[42]\tcv-test-merror:0.23860283333333335\tcv-train-merror:0.2231485\n",
      "[43]\tcv-test-merror:0.2382996666666667\tcv-train-merror:0.22237366666666666\n",
      "[44]\tcv-test-merror:0.23811449999999998\tcv-train-merror:0.22191583333333334\n",
      "[45]\tcv-test-merror:0.23757549999999997\tcv-train-merror:0.22127966666666665\n",
      "[46]\tcv-test-merror:0.2372051666666667\tcv-train-merror:0.22056233333333333\n",
      "[47]\tcv-test-merror:0.236818\tcv-train-merror:0.21984849999999997\n",
      "[48]\tcv-test-merror:0.2361615\tcv-train-merror:0.21907416666666665\n",
      "[49]\tcv-test-merror:0.235505\tcv-train-merror:0.21830283333333333\n",
      "[50]\tcv-test-merror:0.23530300000000004\tcv-train-merror:0.21768016666666665\n",
      "[51]\tcv-test-merror:0.23446133333333333\tcv-train-merror:0.2171953333333333\n",
      "[52]\tcv-test-merror:0.23442766666666667\tcv-train-merror:0.21670366666666666\n",
      "[53]\tcv-test-merror:0.2340405\tcv-train-merror:0.2160335\n",
      "[54]\tcv-test-merror:0.23355233333333333\tcv-train-merror:0.21552516666666666\n",
      "[55]\tcv-test-merror:0.23304733333333336\tcv-train-merror:0.21495616666666664\n",
      "[56]\tcv-test-merror:0.23282833333333333\tcv-train-merror:0.21437683333333335\n",
      "[57]\tcv-test-merror:0.23277783333333332\tcv-train-merror:0.21393933333333334\n",
      "[58]\tcv-test-merror:0.23223916666666666\tcv-train-merror:0.21327616666666663\n",
      "[59]\tcv-test-merror:0.23202016666666667\tcv-train-merror:0.21271383333333338\n",
      "[60]\tcv-test-merror:0.23136366666666666\tcv-train-merror:0.21224583333333333\n",
      "[61]\tcv-test-merror:0.23084183333333333\tcv-train-merror:0.21156566666666665\n",
      "[62]\tcv-test-merror:0.2305893333333333\tcv-train-merror:0.21087183333333334\n",
      "[63]\tcv-test-merror:0.229916\tcv-train-merror:0.21029283333333335\n",
      "[64]\tcv-test-merror:0.22917500000000002\tcv-train-merror:0.20956583333333337\n",
      "[65]\tcv-test-merror:0.22872050000000002\tcv-train-merror:0.20899683333333333\n",
      "[66]\tcv-test-merror:0.22851849999999999\tcv-train-merror:0.20841066666666666\n",
      "[67]\tcv-test-merror:0.22819866666666666\tcv-train-merror:0.2078956666666667\n",
      "[68]\tcv-test-merror:0.22792933333333332\tcv-train-merror:0.20729633333333333\n",
      "[69]\tcv-test-merror:0.22762633333333337\tcv-train-merror:0.20689883333333334\n",
      "[70]\tcv-test-merror:0.2273063333333333\tcv-train-merror:0.206367\n",
      "[71]\tcv-test-merror:0.22691916666666667\tcv-train-merror:0.20583166666666664\n",
      "[72]\tcv-test-merror:0.22644783333333332\tcv-train-merror:0.2049561666666667\n",
      "[73]\tcv-test-merror:0.22594266666666665\tcv-train-merror:0.20445116666666666\n",
      "[74]\tcv-test-merror:0.2255891666666667\tcv-train-merror:0.20377433333333336\n",
      "[75]\tcv-test-merror:0.22547133333333333\tcv-train-merror:0.20320866666666668\n",
      "[76]\tcv-test-merror:0.22501683333333333\tcv-train-merror:0.2025285\n",
      "[77]\tcv-test-merror:0.22489900000000004\tcv-train-merror:0.20179116666666663\n",
      "[78]\tcv-test-merror:0.22456233333333334\tcv-train-merror:0.201229\n",
      "[79]\tcv-test-merror:0.224293\tcv-train-merror:0.20072399999999999\n",
      "[80]\tcv-test-merror:0.22377116666666666\tcv-train-merror:0.20017516666666665\n",
      "[81]\tcv-test-merror:0.22340066666666666\tcv-train-merror:0.19951516666666666\n",
      "[82]\tcv-test-merror:0.2231145\tcv-train-merror:0.19895966666666667\n",
      "[83]\tcv-test-merror:0.22235683333333334\tcv-train-merror:0.1983805\n",
      "[84]\tcv-test-merror:0.22220533333333334\tcv-train-merror:0.19785516666666667\n",
      "[85]\tcv-test-merror:0.22207066666666667\tcv-train-merror:0.1972895\n",
      "[86]\tcv-test-merror:0.22166666666666668\tcv-train-merror:0.19670716666666666\n",
      "[87]\tcv-test-merror:0.22121216666666665\tcv-train-merror:0.19612133333333334\n",
      "[88]\tcv-test-merror:0.22099333333333335\tcv-train-merror:0.19564666666666666\n",
      "[89]\tcv-test-merror:0.220724\tcv-train-merror:0.19520866666666667\n",
      "[90]\tcv-test-merror:0.22053883333333332\tcv-train-merror:0.19462966666666667\n",
      "[91]\tcv-test-merror:0.22047149999999996\tcv-train-merror:0.19429633333333332\n",
      "[92]\tcv-test-merror:0.220522\tcv-train-merror:0.1938685\n",
      "[93]\tcv-test-merror:0.22033683333333332\tcv-train-merror:0.19355566666666668\n",
      "[94]\tcv-test-merror:0.21999999999999997\tcv-train-merror:0.19313116666666666\n",
      "[95]\tcv-test-merror:0.2195621666666667\tcv-train-merror:0.19255550000000002\n",
      "[96]\tcv-test-merror:0.21934333333333333\tcv-train-merror:0.1920706666666667\n",
      "[97]\tcv-test-merror:0.2188215\tcv-train-merror:0.19159266666666666\n",
      "[98]\tcv-test-merror:0.21845116666666667\tcv-train-merror:0.19102\n",
      "[99]\tcv-test-merror:0.218266\tcv-train-merror:0.19059250000000003\n",
      "[100]\tcv-test-merror:0.21823233333333333\tcv-train-merror:0.190219\n",
      "[101]\tcv-test-merror:0.21786183333333334\tcv-train-merror:0.189798\n",
      "[102]\tcv-test-merror:0.2176766666666667\tcv-train-merror:0.18925583333333332\n",
      "[103]\tcv-test-merror:0.21762616666666668\tcv-train-merror:0.1886665\n",
      "[104]\tcv-test-merror:0.21740733333333337\tcv-train-merror:0.18828616666666667\n",
      "[105]\tcv-test-merror:0.2172895\tcv-train-merror:0.18807083333333333\n",
      "[106]\tcv-test-merror:0.21696966666666664\tcv-train-merror:0.18763633333333332\n",
      "[107]\tcv-test-merror:0.21644783333333337\tcv-train-merror:0.18718866666666667\n",
      "[108]\tcv-test-merror:0.2162626666666667\tcv-train-merror:0.18686866666666668\n",
      "[109]\tcv-test-merror:0.21602699999999997\tcv-train-merror:0.18661266666666668\n",
      "[110]\tcv-test-merror:0.21597650000000002\tcv-train-merror:0.18624583333333333\n",
      "[111]\tcv-test-merror:0.21584183333333332\tcv-train-merror:0.18586533333333333\n",
      "[112]\tcv-test-merror:0.21567349999999996\tcv-train-merror:0.18535716666666668\n",
      "[113]\tcv-test-merror:0.21560616666666665\tcv-train-merror:0.18490216666666667\n",
      "[114]\tcv-test-merror:0.21540416666666665\tcv-train-merror:0.18455200000000002\n",
      "[115]\tcv-test-merror:0.21528633333333333\tcv-train-merror:0.18419533333333335\n",
      "[116]\tcv-test-merror:0.21518533333333334\tcv-train-merror:0.18374066666666666\n",
      "[117]\tcv-test-merror:0.21476433333333333\tcv-train-merror:0.18337033333333333\n",
      "[118]\tcv-test-merror:0.214596\tcv-train-merror:0.18299316666666668\n",
      "[119]\tcv-test-merror:0.21454550000000003\tcv-train-merror:0.1826295\n",
      "[120]\tcv-test-merror:0.21446133333333336\tcv-train-merror:0.18224249999999997\n",
      "[121]\tcv-test-merror:0.21436033333333335\tcv-train-merror:0.18186866666666668\n",
      "[122]\tcv-test-merror:0.214091\tcv-train-merror:0.18147116666666666\n",
      "[123]\tcv-test-merror:0.21400683333333329\tcv-train-merror:0.18100666666666668\n",
      "[124]\tcv-test-merror:0.2140236666666667\tcv-train-merror:0.180754\n",
      "[125]\tcv-test-merror:0.21383850000000001\tcv-train-merror:0.18043766666666664\n",
      "[126]\tcv-test-merror:0.2135355\tcv-train-merror:0.18003033333333332\n",
      "[127]\tcv-test-merror:0.21343449999999997\tcv-train-merror:0.17970716666666667\n",
      "[128]\tcv-test-merror:0.213182\tcv-train-merror:0.17923583333333334\n",
      "[129]\tcv-test-merror:0.21316499999999997\tcv-train-merror:0.17893599999999998\n",
      "[130]\tcv-test-merror:0.2129291666666667\tcv-train-merror:0.17872049999999998\n",
      "[131]\tcv-test-merror:0.21284483333333334\tcv-train-merror:0.17831983333333334\n",
      "[132]\tcv-test-merror:0.21286183333333333\tcv-train-merror:0.17804016666666667\n",
      "[133]\tcv-test-merror:0.21294616666666663\tcv-train-merror:0.17771383333333332\n",
      "[134]\tcv-test-merror:0.21297983333333334\tcv-train-merror:0.17730633333333334\n",
      "[135]\tcv-test-merror:0.2127271666666667\tcv-train-merror:0.1769295\n",
      "[136]\tcv-test-merror:0.21259249999999996\tcv-train-merror:0.17661616666666666\n",
      "[137]\tcv-test-merror:0.21239033333333335\tcv-train-merror:0.17624916666666668\n",
      "[138]\tcv-test-merror:0.21218849999999997\tcv-train-merror:0.17582816666666667\n",
      "[139]\tcv-test-merror:0.2120368333333333\tcv-train-merror:0.17550833333333335\n",
      "[140]\tcv-test-merror:0.2117675\tcv-train-merror:0.17518533333333333\n",
      "[141]\tcv-test-merror:0.21175066666666667\tcv-train-merror:0.17486866666666664\n",
      "[142]\tcv-test-merror:0.21159916666666667\tcv-train-merror:0.17448816666666667\n",
      "[143]\tcv-test-merror:0.21124566666666666\tcv-train-merror:0.17424583333333332\n",
      "[144]\tcv-test-merror:0.21114466666666667\tcv-train-merror:0.17388233333333333\n",
      "[145]\tcv-test-merror:0.21124566666666666\tcv-train-merror:0.17353216666666668\n",
      "[146]\tcv-test-merror:0.21112783333333332\tcv-train-merror:0.17315500000000003\n",
      "[147]\tcv-test-merror:0.21111099999999997\tcv-train-merror:0.172862\n",
      "[148]\tcv-test-merror:0.2110436666666667\tcv-train-merror:0.17251866666666668\n",
      "[149]\tcv-test-merror:0.2109426666666667\tcv-train-merror:0.1721515\n",
      "[150]\tcv-test-merror:0.2105555\tcv-train-merror:0.1719155\n",
      "[151]\tcv-test-merror:0.210404\tcv-train-merror:0.1716228333333333\n",
      "[152]\tcv-test-merror:0.2103535\tcv-train-merror:0.1713905\n",
      "[153]\tcv-test-merror:0.21003366666666667\tcv-train-merror:0.1710235\n",
      "[154]\tcv-test-merror:0.21\tcv-train-merror:0.1706295\n",
      "[155]\tcv-test-merror:0.20983166666666667\tcv-train-merror:0.17027616666666665\n",
      "[156]\tcv-test-merror:0.209697\tcv-train-merror:0.16989566666666667\n",
      "[157]\tcv-test-merror:0.20961283333333336\tcv-train-merror:0.16956583333333333\n",
      "[158]\tcv-test-merror:0.20971383333333335\tcv-train-merror:0.16931300000000002\n",
      "[159]\tcv-test-merror:0.209697\tcv-train-merror:0.16898966666666668\n",
      "[160]\tcv-test-merror:0.20947816666666666\tcv-train-merror:0.16872383333333332\n",
      "[161]\tcv-test-merror:0.20942766666666668\tcv-train-merror:0.16830966666666666\n",
      "[162]\tcv-test-merror:0.20941083333333332\tcv-train-merror:0.16798666666666665\n",
      "[163]\tcv-test-merror:0.2091751666666667\tcv-train-merror:0.167744\n",
      "[164]\tcv-test-merror:0.20905733333333335\tcv-train-merror:0.16746816666666667\n",
      "[165]\tcv-test-merror:0.20897316666666668\tcv-train-merror:0.16716516666666667\n",
      "[166]\tcv-test-merror:0.20890583333333332\tcv-train-merror:0.1669495\n",
      "[167]\tcv-test-merror:0.20882166666666668\tcv-train-merror:0.16676433333333332\n",
      "[168]\tcv-test-merror:0.20870383333333334\tcv-train-merror:0.16637033333333331\n",
      "[169]\tcv-test-merror:0.20851850000000002\tcv-train-merror:0.16602683333333332\n",
      "[170]\tcv-test-merror:0.20838383333333332\tcv-train-merror:0.1657678333333333\n",
      "[171]\tcv-test-merror:0.20808066666666666\tcv-train-merror:0.16548816666666666\n",
      "[172]\tcv-test-merror:0.20804699999999998\tcv-train-merror:0.16512800000000002\n",
      "[173]\tcv-test-merror:0.20816483333333335\tcv-train-merror:0.164882\n",
      "[174]\tcv-test-merror:0.20804699999999998\tcv-train-merror:0.164616\n",
      "[175]\tcv-test-merror:0.20787866666666668\tcv-train-merror:0.16422866666666666\n",
      "[176]\tcv-test-merror:0.20781133333333332\tcv-train-merror:0.1638653333333333\n",
      "[177]\tcv-test-merror:0.20781133333333335\tcv-train-merror:0.16366666666666665\n",
      "[178]\tcv-test-merror:0.20777766666666667\tcv-train-merror:0.1632863333333333\n",
      "[179]\tcv-test-merror:0.20772716666666666\tcv-train-merror:0.16295616666666665\n",
      "[180]\tcv-test-merror:0.20747466666666667\tcv-train-merror:0.16267016666666667\n",
      "[181]\tcv-test-merror:0.20742416666666666\tcv-train-merror:0.16228616666666665\n",
      "[182]\tcv-test-merror:0.20740733333333336\tcv-train-merror:0.16204366666666667\n",
      "[183]\tcv-test-merror:0.20727266666666666\tcv-train-merror:0.16174400000000003\n",
      "[184]\tcv-test-merror:0.2072895\tcv-train-merror:0.16150516666666667\n",
      "[185]\tcv-test-merror:0.20722216666666668\tcv-train-merror:0.16113483333333334\n",
      "[186]\tcv-test-merror:0.2071043333333333\tcv-train-merror:0.16098333333333334\n",
      "[187]\tcv-test-merror:0.20710433333333333\tcv-train-merror:0.16066\n",
      "[188]\tcv-test-merror:0.20691916666666668\tcv-train-merror:0.16034016666666664\n",
      "[189]\tcv-test-merror:0.20681816666666666\tcv-train-merror:0.160091\n",
      "[190]\tcv-test-merror:0.20661616666666663\tcv-train-merror:0.15980133333333332\n",
      "[191]\tcv-test-merror:0.2064646666666667\tcv-train-merror:0.15950833333333334\n",
      "[192]\tcv-test-merror:0.2063636666666667\tcv-train-merror:0.15914483333333335\n",
      "[193]\tcv-test-merror:0.20614483333333333\tcv-train-merror:0.1587745\n",
      "[194]\tcv-test-merror:0.20599333333333333\tcv-train-merror:0.15856583333333332\n",
      "[195]\tcv-test-merror:0.20601016666666663\tcv-train-merror:0.1583805\n",
      "[196]\tcv-test-merror:0.20614483333333333\tcv-train-merror:0.158064\n",
      "[197]\tcv-test-merror:0.20617849999999996\tcv-train-merror:0.15779783333333333\n",
      "[198]\tcv-test-merror:0.20592599999999997\tcv-train-merror:0.15766666666666668\n",
      "[199]\tcv-test-merror:0.20592600000000003\tcv-train-merror:0.1573535\n",
      "[200]\tcv-test-merror:0.2056566666666667\tcv-train-merror:0.15705716666666666\n",
      "[201]\tcv-test-merror:0.20558933333333337\tcv-train-merror:0.15661266666666665\n",
      "[202]\tcv-test-merror:0.2054546666666667\tcv-train-merror:0.156357\n",
      "[203]\tcv-test-merror:0.20548833333333336\tcv-train-merror:0.156128\n",
      "[204]\tcv-test-merror:0.20538733333333337\tcv-train-merror:0.15583833333333333\n",
      "[205]\tcv-test-merror:0.20523583333333337\tcv-train-merror:0.1556265\n",
      "[206]\tcv-test-merror:0.20525266666666667\tcv-train-merror:0.155394\n",
      "[207]\tcv-test-merror:0.20513483333333335\tcv-train-merror:0.15512116666666667\n",
      "[208]\tcv-test-merror:0.20505066666666663\tcv-train-merror:0.15486533333333333\n",
      "[209]\tcv-test-merror:0.20496649999999997\tcv-train-merror:0.1546635\n",
      "[210]\tcv-test-merror:0.2049495\tcv-train-merror:0.15425916666666667\n",
      "[211]\tcv-test-merror:0.20523566666666668\tcv-train-merror:0.15402683333333336\n",
      "[212]\tcv-test-merror:0.20530316666666662\tcv-train-merror:0.153707\n",
      "[213]\tcv-test-merror:0.20535366666666668\tcv-train-merror:0.15346133333333334\n",
      "[214]\tcv-test-merror:0.20528633333333332\tcv-train-merror:0.15313816666666666\n",
      "[215]\tcv-test-merror:0.20518533333333333\tcv-train-merror:0.15283833333333333\n",
      "[216]\tcv-test-merror:0.20501699999999998\tcv-train-merror:0.15260933333333335\n",
      "[217]\tcv-test-merror:0.20503383333333333\tcv-train-merror:0.15243416666666665\n",
      "[218]\tcv-test-merror:0.20505066666666663\tcv-train-merror:0.152155\n",
      "[219]\tcv-test-merror:0.20503383333333333\tcv-train-merror:0.15195616666666667\n",
      "[220]\tcv-test-merror:0.20493283333333334\tcv-train-merror:0.15172066666666667\n",
      "[221]\tcv-test-merror:0.20471399999999998\tcv-train-merror:0.15134683333333332\n",
      "[222]\tcv-test-merror:0.204815\tcv-train-merror:0.15104700000000001\n",
      "[223]\tcv-test-merror:0.20476433333333333\tcv-train-merror:0.15086866666666665\n",
      "[224]\tcv-test-merror:0.2047475\tcv-train-merror:0.1507071666666667\n",
      "[225]\tcv-test-merror:0.20471383333333334\tcv-train-merror:0.1504075\n",
      "[226]\tcv-test-merror:0.20441083333333332\tcv-train-merror:0.15007066666666666\n",
      "[227]\tcv-test-merror:0.2043435\tcv-train-merror:0.1498418333333333\n",
      "[228]\tcv-test-merror:0.20425933333333332\tcv-train-merror:0.1496431666666667\n",
      "[229]\tcv-test-merror:0.20439399999999996\tcv-train-merror:0.14930633333333335\n",
      "[230]\tcv-test-merror:0.20425933333333332\tcv-train-merror:0.149064\n",
      "[231]\tcv-test-merror:0.2043098333333333\tcv-train-merror:0.14881166666666668\n",
      "[232]\tcv-test-merror:0.20417516666666669\tcv-train-merror:0.14857583333333335\n",
      "[233]\tcv-test-merror:0.20424233333333333\tcv-train-merror:0.14821199999999998\n",
      "[234]\tcv-test-merror:0.20422549999999998\tcv-train-merror:0.14792916666666667\n",
      "[235]\tcv-test-merror:0.20404049999999999\tcv-train-merror:0.14771716666666665\n",
      "[236]\tcv-test-merror:0.20404049999999999\tcv-train-merror:0.14748483333333334\n",
      "[237]\tcv-test-merror:0.20397300000000004\tcv-train-merror:0.14726266666666668\n",
      "[238]\tcv-test-merror:0.20383833333333334\tcv-train-merror:0.14696299999999998\n",
      "[239]\tcv-test-merror:0.20400666666666667\tcv-train-merror:0.14671016666666664\n",
      "[240]\tcv-test-merror:0.20400666666666667\tcv-train-merror:0.14640733333333333\n",
      "[241]\tcv-test-merror:0.203771\tcv-train-merror:0.1461043333333333\n",
      "[242]\tcv-test-merror:0.20382166666666668\tcv-train-merror:0.1458115\n",
      "[243]\tcv-test-merror:0.20387200000000003\tcv-train-merror:0.14567666666666668\n",
      "[244]\tcv-test-merror:0.20393933333333333\tcv-train-merror:0.14544416666666668\n",
      "[245]\tcv-test-merror:0.20393933333333333\tcv-train-merror:0.14519183333333333\n",
      "[246]\tcv-test-merror:0.2037878333333333\tcv-train-merror:0.1449425\n",
      "[247]\tcv-test-merror:0.20373733333333335\tcv-train-merror:0.14464966666666665\n",
      "[248]\tcv-test-merror:0.20340066666666667\tcv-train-merror:0.14444099999999999\n",
      "[249]\tcv-test-merror:0.20345116666666666\tcv-train-merror:0.14409766666666665\n",
      "[250]\tcv-test-merror:0.20353533333333337\tcv-train-merror:0.1439325\n",
      "[251]\tcv-test-merror:0.20345116666666663\tcv-train-merror:0.1435555\n",
      "[252]\tcv-test-merror:0.20345116666666666\tcv-train-merror:0.1433265\n",
      "[253]\tcv-test-merror:0.20323233333333335\tcv-train-merror:0.14297633333333334\n",
      "[254]\tcv-test-merror:0.20319866666666667\tcv-train-merror:0.1426565\n",
      "[255]\tcv-test-merror:0.20319866666666667\tcv-train-merror:0.14243766666666666\n",
      "[256]\tcv-test-merror:0.20318183333333337\tcv-train-merror:0.14210433333333333\n",
      "[257]\tcv-test-merror:0.20301349999999999\tcv-train-merror:0.14195283333333333\n",
      "[258]\tcv-test-merror:0.20311449999999998\tcv-train-merror:0.14166683333333333\n",
      "[259]\tcv-test-merror:0.20303033333333334\tcv-train-merror:0.14152866666666666\n",
      "[260]\tcv-test-merror:0.20306400000000002\tcv-train-merror:0.14123549999999999\n",
      "[261]\tcv-test-merror:0.20287883333333334\tcv-train-merror:0.14102016666666667\n",
      "[262]\tcv-test-merror:0.20271033333333333\tcv-train-merror:0.14075766666666664\n",
      "[263]\tcv-test-merror:0.20257583333333332\tcv-train-merror:0.14047816666666668\n",
      "[264]\tcv-test-merror:0.20255883333333335\tcv-train-merror:0.14030983333333333\n",
      "[265]\tcv-test-merror:0.20257566666666668\tcv-train-merror:0.14012116666666666\n",
      "[266]\tcv-test-merror:0.20247466666666666\tcv-train-merror:0.1398115\n",
      "[267]\tcv-test-merror:0.20257566666666668\tcv-train-merror:0.13958249999999997\n",
      "[268]\tcv-test-merror:0.20267666666666664\tcv-train-merror:0.13926599999999997\n",
      "[269]\tcv-test-merror:0.20267666666666664\tcv-train-merror:0.1389835\n",
      "[270]\tcv-test-merror:0.2026093333333333\tcv-train-merror:0.13880483333333335\n",
      "[271]\tcv-test-merror:0.20262616666666666\tcv-train-merror:0.1386163333333333\n",
      "[272]\tcv-test-merror:0.20257566666666668\tcv-train-merror:0.13832983333333332\n",
      "[273]\tcv-test-merror:0.20244099999999998\tcv-train-merror:0.138091\n",
      "[274]\tcv-test-merror:0.202542\tcv-train-merror:0.13784166666666667\n",
      "[275]\tcv-test-merror:0.20234\tcv-train-merror:0.1375825\n",
      "[276]\tcv-test-merror:0.20227266666666666\tcv-train-merror:0.13741766666666663\n",
      "[277]\tcv-test-merror:0.20222216666666668\tcv-train-merror:0.13716150000000002\n",
      "[278]\tcv-test-merror:0.2023231666666667\tcv-train-merror:0.1369256666666667\n",
      "[279]\tcv-test-merror:0.20212116666666669\tcv-train-merror:0.13672383333333335\n",
      "[280]\tcv-test-merror:0.2020706666666667\tcv-train-merror:0.13649833333333336\n",
      "[281]\tcv-test-merror:0.20195283333333333\tcv-train-merror:0.1362826666666667\n",
      "[282]\tcv-test-merror:0.2018685\tcv-train-merror:0.13610783333333332\n",
      "[283]\tcv-test-merror:0.202037\tcv-train-merror:0.1358386666666667\n",
      "[284]\tcv-test-merror:0.20188533333333333\tcv-train-merror:0.13563316666666667\n",
      "[285]\tcv-test-merror:0.20191900000000004\tcv-train-merror:0.13543433333333332\n",
      "[286]\tcv-test-merror:0.2020033333333333\tcv-train-merror:0.1351245\n",
      "[287]\tcv-test-merror:0.20198633333333335\tcv-train-merror:0.13489883333333333\n",
      "[288]\tcv-test-merror:0.20183483333333332\tcv-train-merror:0.13462983333333334\n",
      "[289]\tcv-test-merror:0.20190216666666663\tcv-train-merror:0.13439033333333336\n",
      "[290]\tcv-test-merror:0.201835\tcv-train-merror:0.13413450000000002\n",
      "[291]\tcv-test-merror:0.20185166666666665\tcv-train-merror:0.13389216666666667\n",
      "[292]\tcv-test-merror:0.20180116666666667\tcv-train-merror:0.13362283333333336\n",
      "[293]\tcv-test-merror:0.20170016666666668\tcv-train-merror:0.133387\n",
      "[294]\tcv-test-merror:0.20153183333333333\tcv-train-merror:0.13316833333333333\n",
      "[295]\tcv-test-merror:0.2015486666666667\tcv-train-merror:0.13301683333333333\n",
      "[296]\tcv-test-merror:0.20163283333333334\tcv-train-merror:0.132842\n",
      "[297]\tcv-test-merror:0.2015823333333334\tcv-train-merror:0.13268349999999998\n",
      "[298]\tcv-test-merror:0.201616\tcv-train-merror:0.13243783333333334\n",
      "[299]\tcv-test-merror:0.20143083333333334\tcv-train-merror:0.13222883333333332\n",
      "[300]\tcv-test-merror:0.20132983333333332\tcv-train-merror:0.13208399999999998\n",
      "[301]\tcv-test-merror:0.2012961666666667\tcv-train-merror:0.13178116666666667\n",
      "[302]\tcv-test-merror:0.20119516666666667\tcv-train-merror:0.13165983333333334\n",
      "[303]\tcv-test-merror:0.20127933333333334\tcv-train-merror:0.13136383333333332\n",
      "[304]\tcv-test-merror:0.2013803333333333\tcv-train-merror:0.13116816666666667\n",
      "[305]\tcv-test-merror:0.20122883333333333\tcv-train-merror:0.13093266666666667\n",
      "[306]\tcv-test-merror:0.20112783333333337\tcv-train-merror:0.13066333333333333\n",
      "[307]\tcv-test-merror:0.20122883333333333\tcv-train-merror:0.13042083333333332\n",
      "[308]\tcv-test-merror:0.2012625\tcv-train-merror:0.13006716666666665\n",
      "[309]\tcv-test-merror:0.20124566666666666\tcv-train-merror:0.12987883333333333\n",
      "[310]\tcv-test-merror:0.2012961666666667\tcv-train-merror:0.12977783333333334\n",
      "[311]\tcv-test-merror:0.20138033333333336\tcv-train-merror:0.1295085\n",
      "[312]\tcv-test-merror:0.20132983333333335\tcv-train-merror:0.1292995\n",
      "[313]\tcv-test-merror:0.20121200000000003\tcv-train-merror:0.12900999999999999\n",
      "[314]\tcv-test-merror:0.20134666666666667\tcv-train-merror:0.12883166666666668\n",
      "[315]\tcv-test-merror:0.20134666666666667\tcv-train-merror:0.12866333333333332\n",
      "[316]\tcv-test-merror:0.20154866666666663\tcv-train-merror:0.12847133333333335\n",
      "[317]\tcv-test-merror:0.201515\tcv-train-merror:0.12835666666666665\n",
      "[318]\tcv-test-merror:0.20121199999999997\tcv-train-merror:0.1281145\n",
      "[319]\tcv-test-merror:0.2010605\tcv-train-merror:0.12786533333333333\n",
      "[320]\tcv-test-merror:0.20092583333333333\tcv-train-merror:0.12764666666666666\n",
      "[321]\tcv-test-merror:0.20095949999999999\tcv-train-merror:0.12740733333333334\n",
      "[322]\tcv-test-merror:0.200909\tcv-train-merror:0.12720883333333335\n",
      "[323]\tcv-test-merror:0.20094266666666663\tcv-train-merror:0.12694283333333334\n",
      "[324]\tcv-test-merror:0.20094266666666669\tcv-train-merror:0.1266868333333333\n",
      "[325]\tcv-test-merror:0.20090899999999998\tcv-train-merror:0.12637383333333332\n",
      "[326]\tcv-test-merror:0.2009763333333333\tcv-train-merror:0.12620866666666666\n",
      "[327]\tcv-test-merror:0.20082483333333334\tcv-train-merror:0.12597966666666666\n",
      "[328]\tcv-test-merror:0.20065650000000002\tcv-train-merror:0.12575083333333334\n",
      "[329]\tcv-test-merror:0.20070699999999997\tcv-train-merror:0.12545433333333333\n",
      "[330]\tcv-test-merror:0.20082483333333334\tcv-train-merror:0.1251885\n",
      "[331]\tcv-test-merror:0.20084166666666667\tcv-train-merror:0.1249425\n",
      "[332]\tcv-test-merror:0.20074066666666668\tcv-train-merror:0.12464666666666667\n",
      "[333]\tcv-test-merror:0.20074066666666668\tcv-train-merror:0.12450500000000002\n",
      "[334]\tcv-test-merror:0.20063966666666666\tcv-train-merror:0.12424233333333334\n",
      "[335]\tcv-test-merror:0.20052183333333332\tcv-train-merror:0.12402350000000001\n",
      "[336]\tcv-test-merror:0.20047133333333333\tcv-train-merror:0.12385516666666668\n",
      "[337]\tcv-test-merror:0.20053866666666667\tcv-train-merror:0.12365316666666669\n",
      "[338]\tcv-test-merror:0.20033666666666664\tcv-train-merror:0.12334666666666667\n",
      "[339]\tcv-test-merror:0.20045449999999998\tcv-train-merror:0.12308083333333335\n",
      "[340]\tcv-test-merror:0.20021883333333332\tcv-train-merror:0.12283833333333333\n",
      "[341]\tcv-test-merror:0.20026933333333333\tcv-train-merror:0.12265983333333332\n",
      "[342]\tcv-test-merror:0.200084\tcv-train-merror:0.12233000000000001\n",
      "[343]\tcv-test-merror:0.20001666666666665\tcv-train-merror:0.12211766666666667\n",
      "[344]\tcv-test-merror:0.19984833333333332\tcv-train-merror:0.12180133333333332\n",
      "[345]\tcv-test-merror:0.19989883333333336\tcv-train-merror:0.12155216666666667\n",
      "[346]\tcv-test-merror:0.20003349999999998\tcv-train-merror:0.12137716666666666\n",
      "[347]\tcv-test-merror:0.199781\tcv-train-merror:0.1210875\n",
      "[348]\tcv-test-merror:0.19968\tcv-train-merror:0.120798\n",
      "[349]\tcv-test-merror:0.19979783333333334\tcv-train-merror:0.12050166666666666\n",
      "[350]\tcv-test-merror:0.19989883333333333\tcv-train-merror:0.12034016666666668\n",
      "[351]\tcv-test-merror:0.19996616666666667\tcv-train-merror:0.12009766666666666\n",
      "[352]\tcv-test-merror:0.20011766666666667\tcv-train-merror:0.119882\n",
      "[353]\tcv-test-merror:0.20006716666666668\tcv-train-merror:0.11970049999999999\n",
      "[354]\tcv-test-merror:0.19998300000000002\tcv-train-merror:0.11949833333333333\n",
      "[355]\tcv-test-merror:0.19998316666666663\tcv-train-merror:0.11923566666666667\n",
      "[356]\tcv-test-merror:0.19986516666666665\tcv-train-merror:0.11898633333333335\n",
      "[357]\tcv-test-merror:0.19991566666666669\tcv-train-merror:0.11877766666666666\n",
      "[358]\tcv-test-merror:0.19998300000000002\tcv-train-merror:0.1185825\n",
      "[359]\tcv-test-merror:0.2001008333333333\tcv-train-merror:0.11841066666666666\n",
      "[360]\tcv-test-merror:0.19993249999999999\tcv-train-merror:0.11817183333333332\n",
      "[361]\tcv-test-merror:0.19986516666666668\tcv-train-merror:0.1180605\n",
      "[362]\tcv-test-merror:0.19971366666666665\tcv-train-merror:0.11777783333333332\n",
      "[363]\tcv-test-merror:0.19967999999999997\tcv-train-merror:0.11756250000000001\n",
      "[364]\tcv-test-merror:0.1997305\tcv-train-merror:0.11736683333333335\n",
      "[365]\tcv-test-merror:0.1996295\tcv-train-merror:0.11709766666666666\n",
      "[366]\tcv-test-merror:0.19956216666666668\tcv-train-merror:0.11683516666666667\n",
      "[367]\tcv-test-merror:0.19956216666666668\tcv-train-merror:0.11665000000000002\n",
      "[368]\tcv-test-merror:0.19962950000000002\tcv-train-merror:0.11644783333333335\n",
      "[369]\tcv-test-merror:0.19956216666666668\tcv-train-merror:0.11618183333333333\n",
      "[370]\tcv-test-merror:0.19956216666666662\tcv-train-merror:0.11603699999999999\n",
      "[371]\tcv-test-merror:0.19941066666666665\tcv-train-merror:0.11578116666666667\n",
      "[372]\tcv-test-merror:0.19961266666666666\tcv-train-merror:0.11561966666666668\n",
      "[373]\tcv-test-merror:0.19949483333333337\tcv-train-merror:0.11548483333333333\n",
      "[374]\tcv-test-merror:0.19942749999999998\tcv-train-merror:0.11533316666666665\n",
      "[375]\tcv-test-merror:0.1993938333333333\tcv-train-merror:0.11516183333333335\n",
      "[376]\tcv-test-merror:0.1993265\tcv-train-merror:0.11499333333333332\n",
      "[377]\tcv-test-merror:0.19947799999999996\tcv-train-merror:0.11485183333333333\n",
      "[378]\tcv-test-merror:0.19941066666666665\tcv-train-merror:0.114643\n",
      "[379]\tcv-test-merror:0.1994275\tcv-train-merror:0.11436683333333335\n",
      "[380]\tcv-test-merror:0.19944433333333333\tcv-train-merror:0.11416516666666666\n",
      "[381]\tcv-test-merror:0.1994275\tcv-train-merror:0.11399666666666668\n",
      "[382]\tcv-test-merror:0.19949483333333337\tcv-train-merror:0.11385183333333333\n",
      "[383]\tcv-test-merror:0.19941066666666665\tcv-train-merror:0.113687\n",
      "[384]\tcv-test-merror:0.19920866666666667\tcv-train-merror:0.11348816666666668\n",
      "[385]\tcv-test-merror:0.19925916666666665\tcv-train-merror:0.11335016666666668\n",
      "[386]\tcv-test-merror:0.19922549999999997\tcv-train-merror:0.11309766666666667\n",
      "[387]\tcv-test-merror:0.19927599999999998\tcv-train-merror:0.11294966666666667\n",
      "[388]\tcv-test-merror:0.19927599999999998\tcv-train-merror:0.11274733333333332\n",
      "[389]\tcv-test-merror:0.1990571666666667\tcv-train-merror:0.112441\n",
      "[390]\tcv-test-merror:0.19919183333333332\tcv-train-merror:0.11226950000000001\n",
      "[391]\tcv-test-merror:0.19925916666666665\tcv-train-merror:0.11205050000000001\n",
      "[392]\tcv-test-merror:0.19924233333333333\tcv-train-merror:0.11186533333333333\n",
      "[393]\tcv-test-merror:0.1989898333333333\tcv-train-merror:0.11154533333333333\n",
      "[394]\tcv-test-merror:0.199074\tcv-train-merror:0.11140066666666666\n",
      "[395]\tcv-test-merror:0.19909083333333333\tcv-train-merror:0.11123233333333334\n",
      "[396]\tcv-test-merror:0.19909083333333333\tcv-train-merror:0.11101683333333333\n",
      "[397]\tcv-test-merror:0.1990235\tcv-train-merror:0.11088533333333332\n",
      "[398]\tcv-test-merror:0.19888883333333332\tcv-train-merror:0.11058583333333334\n",
      "[399]\tcv-test-merror:0.19887200000000002\tcv-train-merror:0.11040749999999999\n",
      "[400]\tcv-test-merror:0.1987878333333333\tcv-train-merror:0.110256\n",
      "[401]\tcv-test-merror:0.19867\tcv-train-merror:0.11001016666666667\n",
      "[402]\tcv-test-merror:0.19880466666666666\tcv-train-merror:0.10974066666666667\n",
      "[403]\tcv-test-merror:0.19883833333333334\tcv-train-merror:0.1095925\n",
      "[404]\tcv-test-merror:0.19878783333333336\tcv-train-merror:0.10938716666666666\n",
      "[405]\tcv-test-merror:0.19875416666666668\tcv-train-merror:0.10919216666666666\n",
      "[406]\tcv-test-merror:0.1987205\tcv-train-merror:0.10897983333333335\n",
      "[407]\tcv-test-merror:0.19867\tcv-train-merror:0.10883516666666666\n",
      "[408]\tcv-test-merror:0.19882149999999998\tcv-train-merror:0.1087135\n",
      "[409]\tcv-test-merror:0.19880466666666666\tcv-train-merror:0.10855549999999999\n",
      "[410]\tcv-test-merror:0.19875416666666668\tcv-train-merror:0.10836683333333334\n",
      "[411]\tcv-test-merror:0.19865316666666666\tcv-train-merror:0.10813466666666666\n",
      "[412]\tcv-test-merror:0.19878783333333336\tcv-train-merror:0.10795966666666666\n",
      "[413]\tcv-test-merror:0.19883833333333334\tcv-train-merror:0.10778433333333333\n",
      "[414]\tcv-test-merror:0.19858583333333332\tcv-train-merror:0.10755883333333334\n",
      "[415]\tcv-test-merror:0.19863633333333333\tcv-train-merror:0.10738383333333333\n",
      "[416]\tcv-test-merror:0.19855216666666667\tcv-train-merror:0.10721549999999998\n",
      "[417]\tcv-test-merror:0.19840066666666667\tcv-train-merror:0.10712100000000001\n",
      "[418]\tcv-test-merror:0.19823233333333334\tcv-train-merror:0.10684166666666667\n",
      "[419]\tcv-test-merror:0.1982155\tcv-train-merror:0.10666016666666667\n",
      "[420]\tcv-test-merror:0.1982155\tcv-train-merror:0.10648149999999999\n",
      "[421]\tcv-test-merror:0.19823233333333334\tcv-train-merror:0.10614833333333333\n",
      "[422]\tcv-test-merror:0.19826600000000003\tcv-train-merror:0.10599333333333334\n",
      "[423]\tcv-test-merror:0.1981145\tcv-train-merror:0.10574416666666665\n",
      "[424]\tcv-test-merror:0.19806400000000002\tcv-train-merror:0.10565983333333333\n",
      "[425]\tcv-test-merror:0.19809766666666664\tcv-train-merror:0.1055455\n",
      "[426]\tcv-test-merror:0.19809766666666664\tcv-train-merror:0.10543416666666666\n",
      "[427]\tcv-test-merror:0.19804716666666666\tcv-train-merror:0.10515833333333334\n",
      "[428]\tcv-test-merror:0.19814816666666665\tcv-train-merror:0.10502033333333334\n",
      "[429]\tcv-test-merror:0.19818183333333336\tcv-train-merror:0.104872\n",
      "[430]\tcv-test-merror:0.198165\tcv-train-merror:0.10462266666666666\n",
      "[431]\tcv-test-merror:0.19814816666666668\tcv-train-merror:0.104404\n",
      "[432]\tcv-test-merror:0.19821550000000002\tcv-train-merror:0.10425249999999998\n",
      "[433]\tcv-test-merror:0.1981145\tcv-train-merror:0.1040505\n",
      "[434]\tcv-test-merror:0.19799666666666668\tcv-train-merror:0.10381833333333333\n",
      "[435]\tcv-test-merror:0.19799666666666663\tcv-train-merror:0.10364666666666666\n",
      "[436]\tcv-test-merror:0.19796300000000003\tcv-train-merror:0.10347133333333332\n",
      "[437]\tcv-test-merror:0.19789566666666666\tcv-train-merror:0.10330966666666667\n",
      "[438]\tcv-test-merror:0.197862\tcv-train-merror:0.103148\n",
      "[439]\tcv-test-merror:0.19787883333333334\tcv-train-merror:0.10293249999999998\n",
      "[440]\tcv-test-merror:0.19777783333333332\tcv-train-merror:0.10283816666666667\n",
      "[441]\tcv-test-merror:0.19781150000000003\tcv-train-merror:0.10260266666666668\n",
      "[442]\tcv-test-merror:0.19789566666666666\tcv-train-merror:0.10244433333333335\n",
      "[443]\tcv-test-merror:0.19799666666666668\tcv-train-merror:0.10221216666666666\n",
      "[444]\tcv-test-merror:0.19786199999999998\tcv-train-merror:0.10200333333333333\n",
      "[445]\tcv-test-merror:0.19787883333333334\tcv-train-merror:0.10184850000000001\n",
      "[446]\tcv-test-merror:0.197862\tcv-train-merror:0.10163633333333333\n",
      "[447]\tcv-test-merror:0.1978956666666667\tcv-train-merror:0.101451\n",
      "[448]\tcv-test-merror:0.19792933333333332\tcv-train-merror:0.10132333333333332\n",
      "[449]\tcv-test-merror:0.1978115\tcv-train-merror:0.10119183333333333\n",
      "[450]\tcv-test-merror:0.197862\tcv-train-merror:0.10096966666666667\n",
      "[451]\tcv-test-merror:0.197963\tcv-train-merror:0.10081149999999998\n",
      "[452]\tcv-test-merror:0.19779466666666667\tcv-train-merror:0.10060600000000001\n",
      "[453]\tcv-test-merror:0.197761\tcv-train-merror:0.10044133333333333\n",
      "[454]\tcv-test-merror:0.19786199999999998\tcv-train-merror:0.10019533333333334\n",
      "[455]\tcv-test-merror:0.1977441666666667\tcv-train-merror:0.10000666666666667\n",
      "[456]\tcv-test-merror:0.19767683333333333\tcv-train-merror:0.09984516666666667\n",
      "[457]\tcv-test-merror:0.19772733333333334\tcv-train-merror:0.09972366666666667\n",
      "[458]\tcv-test-merror:0.19769366666666666\tcv-train-merror:0.099522\n",
      "[459]\tcv-test-merror:0.19750849999999998\tcv-train-merror:0.09935683333333334\n",
      "[460]\tcv-test-merror:0.19742433333333334\tcv-train-merror:0.09923549999999999\n",
      "[461]\tcv-test-merror:0.197458\tcv-train-merror:0.09911799999999998\n",
      "[462]\tcv-test-merror:0.19742433333333334\tcv-train-merror:0.09896616666666667\n",
      "[463]\tcv-test-merror:0.19742433333333334\tcv-train-merror:0.09874083333333333\n",
      "[464]\tcv-test-merror:0.1973233333333333\tcv-train-merror:0.098586\n",
      "[465]\tcv-test-merror:0.19732333333333332\tcv-train-merror:0.09833683333333333\n",
      "[466]\tcv-test-merror:0.19730650000000002\tcv-train-merror:0.09820866666666667\n",
      "[467]\tcv-test-merror:0.19732333333333332\tcv-train-merror:0.09808083333333334\n",
      "[468]\tcv-test-merror:0.19717183333333335\tcv-train-merror:0.09790583333333334\n",
      "[469]\tcv-test-merror:0.19717183333333332\tcv-train-merror:0.09772399999999999\n",
      "[470]\tcv-test-merror:0.19708766666666666\tcv-train-merror:0.09753200000000001\n",
      "[471]\tcv-test-merror:0.1972055\tcv-train-merror:0.09729283333333334\n",
      "[472]\tcv-test-merror:0.19727283333333334\tcv-train-merror:0.09711466666666668\n",
      "[473]\tcv-test-merror:0.19720550000000003\tcv-train-merror:0.09688216666666667\n",
      "[474]\tcv-test-merror:0.19730650000000002\tcv-train-merror:0.09661950000000001\n",
      "[475]\tcv-test-merror:0.19713816666666664\tcv-train-merror:0.0964715\n",
      "[476]\tcv-test-merror:0.19713816666666664\tcv-train-merror:0.09627283333333335\n",
      "[477]\tcv-test-merror:0.197155\tcv-train-merror:0.096165\n",
      "[478]\tcv-test-merror:0.19718866666666665\tcv-train-merror:0.09595283333333333\n",
      "[479]\tcv-test-merror:0.19723916666666666\tcv-train-merror:0.09581483333333334\n",
      "[480]\tcv-test-merror:0.19723916666666663\tcv-train-merror:0.09566666666666666\n",
      "[481]\tcv-test-merror:0.19707083333333333\tcv-train-merror:0.09551166666666666\n",
      "[482]\tcv-test-merror:0.197155\tcv-train-merror:0.09540066666666669\n",
      "[483]\tcv-test-merror:0.19702033333333333\tcv-train-merror:0.09526916666666667\n",
      "[484]\tcv-test-merror:0.19698666666666667\tcv-train-merror:0.09511116666666668\n",
      "[485]\tcv-test-merror:0.19713816666666664\tcv-train-merror:0.09499666666666667\n",
      "[486]\tcv-test-merror:0.19710450000000002\tcv-train-merror:0.09483833333333332\n",
      "[487]\tcv-test-merror:0.19698666666666667\tcv-train-merror:0.09461966666666666\n",
      "[488]\tcv-test-merror:0.197155\tcv-train-merror:0.094458\n",
      "[489]\tcv-test-merror:0.19705400000000003\tcv-train-merror:0.09422916666666666\n",
      "[490]\tcv-test-merror:0.19702033333333335\tcv-train-merror:0.0940775\n",
      "[491]\tcv-test-merror:0.19705400000000003\tcv-train-merror:0.09393583333333333\n",
      "[492]\tcv-test-merror:0.19715500000000005\tcv-train-merror:0.09386549999999999\n",
      "[493]\tcv-test-merror:0.19710450000000002\tcv-train-merror:0.09366683333333332\n",
      "[494]\tcv-test-merror:0.1969025\tcv-train-merror:0.09347133333333334\n",
      "[495]\tcv-test-merror:0.196852\tcv-train-merror:0.09332983333333333\n",
      "[496]\tcv-test-merror:0.1968015\tcv-train-merror:0.09315483333333334\n",
      "[497]\tcv-test-merror:0.1968015\tcv-train-merror:0.0930035\n",
      "[498]\tcv-test-merror:0.1967846666666667\tcv-train-merror:0.09290916666666667\n",
      "[499]\tcv-test-merror:0.19681833333333332\tcv-train-merror:0.09270366666666667\n",
      "[500]\tcv-test-merror:0.19685200000000003\tcv-train-merror:0.09255200000000001\n",
      "[501]\tcv-test-merror:0.19663316666666666\tcv-train-merror:0.09239383333333334\n",
      "[502]\tcv-test-merror:0.19668366666666667\tcv-train-merror:0.09221900000000001\n",
      "[503]\tcv-test-merror:0.19671733333333333\tcv-train-merror:0.09210783333333333\n",
      "[504]\tcv-test-merror:0.19673416666666668\tcv-train-merror:0.09192283333333333\n",
      "[505]\tcv-test-merror:0.19668366666666667\tcv-train-merror:0.09176783333333334\n",
      "[506]\tcv-test-merror:0.196751\tcv-train-merror:0.091596\n",
      "[507]\tcv-test-merror:0.19678466666666664\tcv-train-merror:0.09138016666666667\n",
      "[508]\tcv-test-merror:0.19670049999999997\tcv-train-merror:0.09122216666666667\n",
      "[509]\tcv-test-merror:0.196751\tcv-train-merror:0.09103716666666666\n",
      "[510]\tcv-test-merror:0.1968015\tcv-train-merror:0.09096300000000002\n",
      "[511]\tcv-test-merror:0.1967846666666667\tcv-train-merror:0.09085183333333334\n",
      "[512]\tcv-test-merror:0.19676783333333334\tcv-train-merror:0.090707\n",
      "[513]\tcv-test-merror:0.196852\tcv-train-merror:0.09055200000000001\n",
      "[514]\tcv-test-merror:0.19673416666666665\tcv-train-merror:0.090384\n",
      "[515]\tcv-test-merror:0.19676783333333334\tcv-train-merror:0.09024933333333333\n",
      "[516]\tcv-test-merror:0.19678466666666664\tcv-train-merror:0.09008066666666668\n",
      "[517]\tcv-test-merror:0.19668366666666667\tcv-train-merror:0.08993266666666666\n",
      "[518]\tcv-test-merror:0.1965995\tcv-train-merror:0.08972033333333333\n",
      "[519]\tcv-test-merror:0.19665\tcv-train-merror:0.089458\n",
      "[520]\tcv-test-merror:0.1965995\tcv-train-merror:0.08932333333333335\n",
      "[521]\tcv-test-merror:0.19656583333333333\tcv-train-merror:0.0891885\n",
      "[522]\tcv-test-merror:0.19656583333333333\tcv-train-merror:0.08903349999999999\n",
      "[523]\tcv-test-merror:0.19659949999999995\tcv-train-merror:0.08880133333333333\n",
      "[524]\tcv-test-merror:0.19656583333333333\tcv-train-merror:0.0887205\n",
      "[525]\tcv-test-merror:0.19656583333333333\tcv-train-merror:0.08862950000000001\n",
      "[526]\tcv-test-merror:0.19663316666666666\tcv-train-merror:0.08845766666666667\n",
      "[527]\tcv-test-merror:0.19673416666666665\tcv-train-merror:0.08830316666666667\n",
      "[528]\tcv-test-merror:0.196751\tcv-train-merror:0.0881785\n",
      "[529]\tcv-test-merror:0.19676783333333336\tcv-train-merror:0.08801016666666667\n",
      "[530]\tcv-test-merror:0.196852\tcv-train-merror:0.08784516666666668\n",
      "[531]\tcv-test-merror:0.1969025\tcv-train-merror:0.08766333333333333\n",
      "[532]\tcv-test-merror:0.19702033333333333\tcv-train-merror:0.08750833333333334\n",
      "[533]\tcv-test-merror:0.19688566666666665\tcv-train-merror:0.08735333333333334\n",
      "[534]\tcv-test-merror:0.19695300000000002\tcv-train-merror:0.087256\n",
      "[535]\tcv-test-merror:0.19688566666666665\tcv-train-merror:0.08708049999999999\n",
      "[536]\tcv-test-merror:0.19676783333333334\tcv-train-merror:0.08690550000000001\n",
      "[537]\tcv-test-merror:0.1968351666666667\tcv-train-merror:0.08679783333333334\n",
      "[538]\tcv-test-merror:0.19673416666666665\tcv-train-merror:0.08668683333333332\n",
      "[539]\tcv-test-merror:0.19671733333333333\tcv-train-merror:0.08652516666666665\n",
      "[540]\tcv-test-merror:0.19670050000000003\tcv-train-merror:0.0863705\n",
      "[541]\tcv-test-merror:0.19666683333333335\tcv-train-merror:0.08617849999999999\n",
      "[542]\tcv-test-merror:0.19683516666666667\tcv-train-merror:0.08599666666666667\n",
      "[543]\tcv-test-merror:0.19683516666666667\tcv-train-merror:0.085889\n",
      "[544]\tcv-test-merror:0.19663316666666666\tcv-train-merror:0.08577433333333333\n",
      "[545]\tcv-test-merror:0.1965995\tcv-train-merror:0.08563633333333333\n",
      "[546]\tcv-test-merror:0.19651533333333335\tcv-train-merror:0.08550849999999999\n",
      "[547]\tcv-test-merror:0.19649850000000002\tcv-train-merror:0.08531316666666668\n",
      "[548]\tcv-test-merror:0.19656583333333333\tcv-train-merror:0.08514816666666668\n",
      "[549]\tcv-test-merror:0.19668366666666662\tcv-train-merror:0.08497633333333333\n",
      "[550]\tcv-test-merror:0.19670049999999997\tcv-train-merror:0.08486533333333333\n",
      "[551]\tcv-test-merror:0.19661633333333337\tcv-train-merror:0.084717\n",
      "[552]\tcv-test-merror:0.1965995\tcv-train-merror:0.08453866666666665\n",
      "[553]\tcv-test-merror:0.19658266666666668\tcv-train-merror:0.0843905\n",
      "[554]\tcv-test-merror:0.19653216666666665\tcv-train-merror:0.08425616666666667\n",
      "[555]\tcv-test-merror:0.19666683333333332\tcv-train-merror:0.08409100000000001\n",
      "[556]\tcv-test-merror:0.19676783333333334\tcv-train-merror:0.08395283333333332\n",
      "[557]\tcv-test-merror:0.196751\tcv-train-merror:0.08379466666666667\n",
      "[558]\tcv-test-merror:0.1967846666666667\tcv-train-merror:0.08362633333333334\n",
      "[559]\tcv-test-merror:0.19688566666666665\tcv-train-merror:0.08347816666666667\n",
      "[560]\tcv-test-merror:0.19665000000000002\tcv-train-merror:0.0832525\n",
      "[561]\tcv-test-merror:0.1966163333333333\tcv-train-merror:0.08307733333333332\n",
      "[562]\tcv-test-merror:0.19675099999999998\tcv-train-merror:0.08299983333333333\n",
      "[563]\tcv-test-merror:0.19676783333333334\tcv-train-merror:0.08281833333333333\n",
      "[564]\tcv-test-merror:0.1965321666666667\tcv-train-merror:0.08263983333333334\n",
      "[565]\tcv-test-merror:0.19670050000000003\tcv-train-merror:0.082468\n",
      "[566]\tcv-test-merror:0.19661633333333337\tcv-train-merror:0.08228983333333333\n",
      "[567]\tcv-test-merror:0.19656583333333333\tcv-train-merror:0.08218866666666666\n",
      "[568]\tcv-test-merror:0.19653216666666665\tcv-train-merror:0.0820475\n",
      "[569]\tcv-test-merror:0.19661633333333337\tcv-train-merror:0.08195299999999998\n",
      "[570]\tcv-test-merror:0.19658266666666666\tcv-train-merror:0.08179783333333333\n",
      "[571]\tcv-test-merror:0.19653216666666665\tcv-train-merror:0.08160250000000001\n",
      "[572]\tcv-test-merror:0.19643116666666663\tcv-train-merror:0.08138383333333334\n",
      "[573]\tcv-test-merror:0.19649850000000002\tcv-train-merror:0.08130316666666666\n",
      "[574]\tcv-test-merror:0.19663316666666666\tcv-train-merror:0.08112433333333334\n",
      "[575]\tcv-test-merror:0.19651533333333338\tcv-train-merror:0.08091933333333333\n",
      "[576]\tcv-test-merror:0.19643116666666663\tcv-train-merror:0.08079433333333333\n",
      "[577]\tcv-test-merror:0.1963975\tcv-train-merror:0.0806565\n",
      "[578]\tcv-test-merror:0.19648166666666667\tcv-train-merror:0.08043783333333333\n",
      "[579]\tcv-test-merror:0.19641433333333333\tcv-train-merror:0.08037383333333332\n",
      "[580]\tcv-test-merror:0.1964985\tcv-train-merror:0.08027616666666666\n",
      "[581]\tcv-test-merror:0.19649850000000002\tcv-train-merror:0.08018850000000001\n",
      "[582]\tcv-test-merror:0.19653216666666665\tcv-train-merror:0.08003366666666667\n",
      "[583]\tcv-test-merror:0.19663316666666666\tcv-train-merror:0.07983833333333333\n",
      "[584]\tcv-test-merror:0.19651533333333335\tcv-train-merror:0.07966000000000001\n",
      "[585]\tcv-test-merror:0.19633016666666667\tcv-train-merror:0.07957583333333335\n",
      "[586]\tcv-test-merror:0.19636383333333332\tcv-train-merror:0.07941750000000002\n",
      "[587]\tcv-test-merror:0.19633016666666667\tcv-train-merror:0.07932333333333332\n",
      "[588]\tcv-test-merror:0.19626283333333336\tcv-train-merror:0.07919533333333334\n",
      "[589]\tcv-test-merror:0.19612816666666666\tcv-train-merror:0.07905733333333333\n",
      "[590]\tcv-test-merror:0.19607766666666668\tcv-train-merror:0.07892266666666665\n",
      "[591]\tcv-test-merror:0.19602716666666664\tcv-train-merror:0.07877116666666667\n",
      "[592]\tcv-test-merror:0.19602716666666664\tcv-train-merror:0.07858916666666667\n",
      "[593]\tcv-test-merror:0.19609450000000003\tcv-train-merror:0.07843099999999999\n",
      "[594]\tcv-test-merror:0.1961955\tcv-train-merror:0.07834683333333335\n",
      "[595]\tcv-test-merror:0.196246\tcv-train-merror:0.07819533333333333\n",
      "[596]\tcv-test-merror:0.19629649999999998\tcv-train-merror:0.07806383333333335\n",
      "[597]\tcv-test-merror:0.1962965\tcv-train-merror:0.077973\n",
      "[598]\tcv-test-merror:0.19621233333333332\tcv-train-merror:0.07780466666666667\n",
      "[599]\tcv-test-merror:0.19622916666666668\tcv-train-merror:0.077687\n",
      "[600]\tcv-test-merror:0.19626283333333336\tcv-train-merror:0.0776095\n",
      "[601]\tcv-test-merror:0.1962965\tcv-train-merror:0.07747483333333334\n",
      "[602]\tcv-test-merror:0.19626283333333336\tcv-train-merror:0.0773235\n",
      "[603]\tcv-test-merror:0.19616183333333334\tcv-train-merror:0.07720883333333332\n",
      "[604]\tcv-test-merror:0.19617866666666664\tcv-train-merror:0.07706733333333333\n",
      "[605]\tcv-test-merror:0.1961955\tcv-train-merror:0.07697983333333333\n",
      "[606]\tcv-test-merror:0.19616183333333334\tcv-train-merror:0.07679116666666667\n",
      "[607]\tcv-test-merror:0.19626283333333336\tcv-train-merror:0.07666666666666666\n",
      "[608]\tcv-test-merror:0.19612816666666666\tcv-train-merror:0.076542\n",
      "[609]\tcv-test-merror:0.19612816666666666\tcv-train-merror:0.076377\n",
      "[610]\tcv-test-merror:0.1961955\tcv-train-merror:0.07619550000000001\n",
      "[611]\tcv-test-merror:0.1961955\tcv-train-merror:0.076017\n",
      "[612]\tcv-test-merror:0.19622916666666668\tcv-train-merror:0.07589566666666667\n",
      "[613]\tcv-test-merror:0.196246\tcv-train-merror:0.07576766666666666\n",
      "[614]\tcv-test-merror:0.19616183333333334\tcv-train-merror:0.07560283333333333\n",
      "[615]\tcv-test-merror:0.196145\tcv-train-merror:0.075458\n",
      "[616]\tcv-test-merror:0.19606083333333332\tcv-train-merror:0.07529300000000001\n",
      "[617]\tcv-test-merror:0.19617866666666664\tcv-train-merror:0.07519533333333332\n",
      "[618]\tcv-test-merror:0.19609449999999998\tcv-train-merror:0.07498299999999998\n",
      "[619]\tcv-test-merror:0.1961281666666667\tcv-train-merror:0.07480816666666666\n",
      "[620]\tcv-test-merror:0.196145\tcv-train-merror:0.07466983333333332\n",
      "[621]\tcv-test-merror:0.1961281666666667\tcv-train-merror:0.07445799999999998\n",
      "[622]\tcv-test-merror:0.19607766666666668\tcv-train-merror:0.07434333333333333\n",
      "[623]\tcv-test-merror:0.19606083333333332\tcv-train-merror:0.07424583333333333\n",
      "[624]\tcv-test-merror:0.19597666666666666\tcv-train-merror:0.07410416666666667\n",
      "[625]\tcv-test-merror:0.19601033333333331\tcv-train-merror:0.073889\n",
      "[626]\tcv-test-merror:0.19585883333333332\tcv-train-merror:0.07373066666666667\n",
      "[627]\tcv-test-merror:0.195842\tcv-train-merror:0.07362983333333334\n",
      "[628]\tcv-test-merror:0.19592616666666665\tcv-train-merror:0.073559\n",
      "[629]\tcv-test-merror:0.1958925\tcv-train-merror:0.07343766666666666\n",
      "[630]\tcv-test-merror:0.19590933333333335\tcv-train-merror:0.0733705\n",
      "[631]\tcv-test-merror:0.19585883333333334\tcv-train-merror:0.07320549999999999\n",
      "[632]\tcv-test-merror:0.1957915\tcv-train-merror:0.07315816666666666\n",
      "[633]\tcv-test-merror:0.1958251666666667\tcv-train-merror:0.07301999999999999\n",
      "[634]\tcv-test-merror:0.1957915\tcv-train-merror:0.07279133333333333\n",
      "[635]\tcv-test-merror:0.19570733333333334\tcv-train-merror:0.07266666666666667\n",
      "[636]\tcv-test-merror:0.19570733333333334\tcv-train-merror:0.07249816666666667\n",
      "[637]\tcv-test-merror:0.19567366666666666\tcv-train-merror:0.07237716666666666\n",
      "[638]\tcv-test-merror:0.19565683333333336\tcv-train-merror:0.072266\n",
      "[639]\tcv-test-merror:0.1956905\tcv-train-merror:0.072138\n",
      "[640]\tcv-test-merror:0.19574100000000003\tcv-train-merror:0.07205733333333333\n",
      "[641]\tcv-test-merror:0.19562316666666665\tcv-train-merror:0.07190916666666668\n",
      "[642]\tcv-test-merror:0.195539\tcv-train-merror:0.0717475\n",
      "[643]\tcv-test-merror:0.1955895\tcv-train-merror:0.0716365\n",
      "[644]\tcv-test-merror:0.19553900000000002\tcv-train-merror:0.07153849999999999\n",
      "[645]\tcv-test-merror:0.19553900000000002\tcv-train-merror:0.07141416666666667\n",
      "[646]\tcv-test-merror:0.19564\tcv-train-merror:0.07128616666666666\n",
      "[647]\tcv-test-merror:0.19562316666666668\tcv-train-merror:0.071185\n",
      "[648]\tcv-test-merror:0.19575783333333333\tcv-train-merror:0.07107083333333332\n",
      "[649]\tcv-test-merror:0.1957915\tcv-train-merror:0.0709495\n",
      "[650]\tcv-test-merror:0.19579149999999998\tcv-train-merror:0.07084516666666667\n",
      "[651]\tcv-test-merror:0.195842\tcv-train-merror:0.0707745\n",
      "[652]\tcv-test-merror:0.19572416666666667\tcv-train-merror:0.07066333333333333\n",
      "[653]\tcv-test-merror:0.1956905\tcv-train-merror:0.07051183333333334\n",
      "[654]\tcv-test-merror:0.1958251666666667\tcv-train-merror:0.07037716666666667\n",
      "[655]\tcv-test-merror:0.19577466666666665\tcv-train-merror:0.0702965\n",
      "[656]\tcv-test-merror:0.19574083333333334\tcv-train-merror:0.07011783333333332\n",
      "[657]\tcv-test-merror:0.19575766666666664\tcv-train-merror:0.06998633333333333\n",
      "[658]\tcv-test-merror:0.19574083333333334\tcv-train-merror:0.06989233333333333\n",
      "[659]\tcv-test-merror:0.19590916666666666\tcv-train-merror:0.06978766666666668\n",
      "[660]\tcv-test-merror:0.19579133333333332\tcv-train-merror:0.0696365\n",
      "[661]\tcv-test-merror:0.19585866666666665\tcv-train-merror:0.0694985\n",
      "[662]\tcv-test-merror:0.19580816666666667\tcv-train-merror:0.06930633333333333\n",
      "[663]\tcv-test-merror:0.1957915\tcv-train-merror:0.06920533333333334\n",
      "[664]\tcv-test-merror:0.1957745\tcv-train-merror:0.06907416666666667\n",
      "[665]\tcv-test-merror:0.19553883333333333\tcv-train-merror:0.06890566666666667\n",
      "[666]\tcv-test-merror:0.1955893333333333\tcv-train-merror:0.0687745\n",
      "[667]\tcv-test-merror:0.19565666666666667\tcv-train-merror:0.06865333333333333\n",
      "[668]\tcv-test-merror:0.19563983333333335\tcv-train-merror:0.06854216666666667\n",
      "[669]\tcv-test-merror:0.19560616666666666\tcv-train-merror:0.06843416666666667\n",
      "[670]\tcv-test-merror:0.19569033333333333\tcv-train-merror:0.06828283333333333\n",
      "[671]\tcv-test-merror:0.195623\tcv-train-merror:0.068138\n",
      "[672]\tcv-test-merror:0.19560616666666666\tcv-train-merror:0.067993\n",
      "[673]\tcv-test-merror:0.195623\tcv-train-merror:0.06788216666666666\n",
      "[674]\tcv-test-merror:0.19555566666666668\tcv-train-merror:0.06776399999999999\n",
      "[675]\tcv-test-merror:0.19560616666666666\tcv-train-merror:0.06766\n",
      "[676]\tcv-test-merror:0.19555566666666666\tcv-train-merror:0.06752183333333332\n",
      "[677]\tcv-test-merror:0.19548833333333335\tcv-train-merror:0.06746116666666667\n",
      "[678]\tcv-test-merror:0.19547150000000002\tcv-train-merror:0.06730633333333333\n",
      "[679]\tcv-test-merror:0.19570733333333332\tcv-train-merror:0.06719883333333333\n",
      "[680]\tcv-test-merror:0.1956905\tcv-train-merror:0.06710766666666666\n",
      "[681]\tcv-test-merror:0.195623\tcv-train-merror:0.06697316666666665\n",
      "[682]\tcv-test-merror:0.19567349999999997\tcv-train-merror:0.06684166666666666\n",
      "[683]\tcv-test-merror:0.19552199999999997\tcv-train-merror:0.06665666666666666\n",
      "[684]\tcv-test-merror:0.1955725\tcv-train-merror:0.06649833333333334\n",
      "[685]\tcv-test-merror:0.1956568333333333\tcv-train-merror:0.066303\n",
      "[686]\tcv-test-merror:0.19558933333333337\tcv-train-merror:0.0662525\n",
      "[687]\tcv-test-merror:0.19579149999999998\tcv-train-merror:0.06611783333333333\n",
      "[688]\tcv-test-merror:0.19592616666666665\tcv-train-merror:0.06594966666666667\n",
      "[689]\tcv-test-merror:0.19579149999999998\tcv-train-merror:0.065899\n",
      "[690]\tcv-test-merror:0.19580833333333336\tcv-train-merror:0.06579133333333333\n",
      "[691]\tcv-test-merror:0.1956905\tcv-train-merror:0.06564983333333334\n",
      "[692]\tcv-test-merror:0.19585883333333334\tcv-train-merror:0.0656095\n",
      "[693]\tcv-test-merror:0.19585866666666665\tcv-train-merror:0.06552200000000001\n",
      "[694]\tcv-test-merror:0.19590933333333335\tcv-train-merror:0.06538733333333334\n",
      "[695]\tcv-test-merror:0.1959766666666667\tcv-train-merror:0.0652255\n",
      "[696]\tcv-test-merror:0.19595983333333333\tcv-train-merror:0.06512466666666666\n",
      "[697]\tcv-test-merror:0.19592616666666665\tcv-train-merror:0.06500683333333333\n",
      "[698]\tcv-test-merror:0.1958925\tcv-train-merror:0.06489233333333333\n",
      "[699]\tcv-test-merror:0.19585883333333332\tcv-train-merror:0.064805\n",
      "[700]\tcv-test-merror:0.19585883333333332\tcv-train-merror:0.0647205\n",
      "[701]\tcv-test-merror:0.1958251666666667\tcv-train-merror:0.06461266666666667\n",
      "[702]\tcv-test-merror:0.19560633333333333\tcv-train-merror:0.06448816666666667\n",
      "[703]\tcv-test-merror:0.19570733333333334\tcv-train-merror:0.06436033333333334\n",
      "[704]\tcv-test-merror:0.1956905\tcv-train-merror:0.06422216666666666\n",
      "[705]\tcv-test-merror:0.1955726666666667\tcv-train-merror:0.064128\n",
      "[706]\tcv-test-merror:0.1955726666666667\tcv-train-merror:0.06392933333333332\n",
      "[707]\tcv-test-merror:0.19564\tcv-train-merror:0.0638315\n",
      "[708]\tcv-test-merror:0.19564\tcv-train-merror:0.06371366666666667\n",
      "[709]\tcv-test-merror:0.19567350000000003\tcv-train-merror:0.06359250000000001\n",
      "[710]\tcv-test-merror:0.19555566666666668\tcv-train-merror:0.06349500000000001\n",
      "[711]\tcv-test-merror:0.1955725\tcv-train-merror:0.06337366666666668\n",
      "[712]\tcv-test-merror:0.19560616666666666\tcv-train-merror:0.06324916666666666\n",
      "[713]\tcv-test-merror:0.19560616666666666\tcv-train-merror:0.06314483333333333\n",
      "[714]\tcv-test-merror:0.19543783333333334\tcv-train-merror:0.06298316666666667\n",
      "[715]\tcv-test-merror:0.19563983333333335\tcv-train-merror:0.06286866666666667\n",
      "[716]\tcv-test-merror:0.19562316666666668\tcv-train-merror:0.06278783333333333\n",
      "[717]\tcv-test-merror:0.1955895\tcv-train-merror:0.06268016666666666\n",
      "[718]\tcv-test-merror:0.19564\tcv-train-merror:0.06259949999999999\n",
      "[719]\tcv-test-merror:0.19560616666666666\tcv-train-merror:0.06252183333333333\n",
      "[720]\tcv-test-merror:0.19562316666666665\tcv-train-merror:0.062447833333333334\n",
      "[721]\tcv-test-merror:0.19557266666666664\tcv-train-merror:0.06236366666666666\n",
      "[722]\tcv-test-merror:0.1955895\tcv-train-merror:0.06223566666666667\n",
      "[723]\tcv-test-merror:0.1955726666666667\tcv-train-merror:0.06214133333333333\n",
      "[724]\tcv-test-merror:0.19545483333333333\tcv-train-merror:0.062023666666666664\n",
      "[725]\tcv-test-merror:0.19562316666666668\tcv-train-merror:0.06184866666666666\n",
      "[726]\tcv-test-merror:0.1956905\tcv-train-merror:0.061761\n",
      "[727]\tcv-test-merror:0.1956905\tcv-train-merror:0.061619500000000015\n",
      "[728]\tcv-test-merror:0.19569050000000002\tcv-train-merror:0.061464500000000005\n",
      "[729]\tcv-test-merror:0.19569050000000002\tcv-train-merror:0.061447833333333333\n",
      "[730]\tcv-test-merror:0.19560633333333333\tcv-train-merror:0.06131316666666666\n",
      "[731]\tcv-test-merror:0.19565666666666667\tcv-train-merror:0.061198833333333334\n",
      "[732]\tcv-test-merror:0.1957745\tcv-train-merror:0.061073999999999996\n",
      "[733]\tcv-test-merror:0.19580816666666667\tcv-train-merror:0.060919333333333325\n",
      "[734]\tcv-test-merror:0.19569033333333333\tcv-train-merror:0.0608115\n",
      "[735]\tcv-test-merror:0.19562300000000002\tcv-train-merror:0.06072366666666667\n",
      "[736]\tcv-test-merror:0.195623\tcv-train-merror:0.06062633333333333\n",
      "[737]\tcv-test-merror:0.19570716666666665\tcv-train-merror:0.060478000000000004\n",
      "[738]\tcv-test-merror:0.19562300000000002\tcv-train-merror:0.06039049999999999\n",
      "[739]\tcv-test-merror:0.19560616666666666\tcv-train-merror:0.06027933333333333\n",
      "[740]\tcv-test-merror:0.195623\tcv-train-merror:0.06014466666666666\n",
      "[741]\tcv-test-merror:0.19553883333333333\tcv-train-merror:0.060027000000000004\n",
      "[742]\tcv-test-merror:0.19548833333333335\tcv-train-merror:0.05996983333333333\n",
      "[743]\tcv-test-merror:0.19545466666666667\tcv-train-merror:0.05981816666666667\n",
      "[744]\tcv-test-merror:0.19542099999999998\tcv-train-merror:0.059703666666666676\n",
      "[745]\tcv-test-merror:0.19545466666666667\tcv-train-merror:0.059579\n",
      "[746]\tcv-test-merror:0.19547150000000002\tcv-train-merror:0.059491666666666665\n",
      "[747]\tcv-test-merror:0.1954378333333333\tcv-train-merror:0.05944116666666666\n",
      "[748]\tcv-test-merror:0.1953705\tcv-train-merror:0.05934683333333333\n",
      "[749]\tcv-test-merror:0.19547150000000002\tcv-train-merror:0.05922549999999999\n",
      "[750]\tcv-test-merror:0.1954715\tcv-train-merror:0.05909416666666667\n",
      "[751]\tcv-test-merror:0.19550516666666665\tcv-train-merror:0.05893616666666666\n",
      "[752]\tcv-test-merror:0.19565666666666667\tcv-train-merror:0.05882133333333334\n",
      "[753]\tcv-test-merror:0.19579133333333332\tcv-train-merror:0.058707166666666664\n",
      "[754]\tcv-test-merror:0.19580816666666667\tcv-train-merror:0.05864983333333334\n",
      "[755]\tcv-test-merror:0.19567349999999997\tcv-train-merror:0.05855899999999999\n",
      "[756]\tcv-test-merror:0.19569033333333333\tcv-train-merror:0.05843083333333333\n",
      "[757]\tcv-test-merror:0.195724\tcv-train-merror:0.05830283333333334\n",
      "[758]\tcv-test-merror:0.19562300000000002\tcv-train-merror:0.05814466666666667\n",
      "[759]\tcv-test-merror:0.19558933333333337\tcv-train-merror:0.058046999999999994\n",
      "[760]\tcv-test-merror:0.19562316666666665\tcv-train-merror:0.0579125\n",
      "[761]\tcv-test-merror:0.19560616666666664\tcv-train-merror:0.05785883333333334\n",
      "[762]\tcv-test-merror:0.19560616666666666\tcv-train-merror:0.057727499999999994\n",
      "[763]\tcv-test-merror:0.19563983333333335\tcv-train-merror:0.057639833333333335\n",
      "[764]\tcv-test-merror:0.19563983333333335\tcv-train-merror:0.05752533333333334\n",
      "[765]\tcv-test-merror:0.19548833333333335\tcv-train-merror:0.057404000000000004\n",
      "[766]\tcv-test-merror:0.19545466666666667\tcv-train-merror:0.05730983333333334\n",
      "[767]\tcv-test-merror:0.1954715\tcv-train-merror:0.05718183333333333\n",
      "[768]\tcv-test-merror:0.19553883333333333\tcv-train-merror:0.057101000000000006\n",
      "[769]\tcv-test-merror:0.19553883333333333\tcv-train-merror:0.05695633333333333\n",
      "[770]\tcv-test-merror:0.19547150000000002\tcv-train-merror:0.056808\n",
      "[771]\tcv-test-merror:0.19540416666666668\tcv-train-merror:0.05673416666666667\n",
      "[772]\tcv-test-merror:0.19548833333333335\tcv-train-merror:0.05661616666666666\n",
      "[773]\tcv-test-merror:0.19552199999999997\tcv-train-merror:0.056427666666666675\n",
      "[774]\tcv-test-merror:0.19547150000000002\tcv-train-merror:0.05635683333333333\n",
      "[775]\tcv-test-merror:0.1953705\tcv-train-merror:0.056205333333333336\n",
      "[776]\tcv-test-merror:0.1954378333333333\tcv-train-merror:0.056107833333333336\n",
      "[777]\tcv-test-merror:0.19553883333333333\tcv-train-merror:0.05594633333333334\n",
      "[778]\tcv-test-merror:0.19547150000000002\tcv-train-merror:0.055841833333333334\n",
      "[779]\tcv-test-merror:0.19555566666666666\tcv-train-merror:0.05581149999999999\n",
      "[780]\tcv-test-merror:0.19545466666666667\tcv-train-merror:0.055710499999999996\n",
      "[781]\tcv-test-merror:0.19545483333333333\tcv-train-merror:0.05561633333333333\n",
      "[782]\tcv-test-merror:0.19545466666666667\tcv-train-merror:0.055518500000000005\n",
      "[783]\tcv-test-merror:0.195522\tcv-train-merror:0.055410666666666664\n",
      "[784]\tcv-test-merror:0.19553883333333336\tcv-train-merror:0.055286\n",
      "[785]\tcv-test-merror:0.19552199999999997\tcv-train-merror:0.055175166666666664\n",
      "[786]\tcv-test-merror:0.19542099999999998\tcv-train-merror:0.0550945\n",
      "[787]\tcv-test-merror:0.19540416666666663\tcv-train-merror:0.0550305\n",
      "[788]\tcv-test-merror:0.19538733333333336\tcv-train-merror:0.05494633333333334\n",
      "[789]\tcv-test-merror:0.19542100000000004\tcv-train-merror:0.054868499999999994\n",
      "[790]\tcv-test-merror:0.19537049999999997\tcv-train-merror:0.05478449999999999\n",
      "[791]\tcv-test-merror:0.19535366666666668\tcv-train-merror:0.054643166666666666\n",
      "[792]\tcv-test-merror:0.19523583333333336\tcv-train-merror:0.054505\n",
      "[793]\tcv-test-merror:0.195219\tcv-train-merror:0.054383999999999995\n",
      "[794]\tcv-test-merror:0.195219\tcv-train-merror:0.054323\n",
      "[795]\tcv-test-merror:0.1951516666666667\tcv-train-merror:0.054272666666666664\n",
      "[796]\tcv-test-merror:0.19528633333333334\tcv-train-merror:0.054144833333333336\n",
      "[797]\tcv-test-merror:0.19531999999999997\tcv-train-merror:0.054047000000000005\n",
      "[798]\tcv-test-merror:0.19538733333333333\tcv-train-merror:0.0539125\n",
      "[799]\tcv-test-merror:0.19532000000000002\tcv-train-merror:0.053821499999999994\n",
      "[800]\tcv-test-merror:0.19513483333333334\tcv-train-merror:0.053761166666666665\n",
      "[801]\tcv-test-merror:0.19518533333333332\tcv-train-merror:0.053697166666666664\n",
      "[802]\tcv-test-merror:0.19533683333333332\tcv-train-merror:0.05358583333333333\n",
      "[803]\tcv-test-merror:0.19533683333333332\tcv-train-merror:0.05345466666666667\n",
      "[804]\tcv-test-merror:0.19540416666666663\tcv-train-merror:0.053356999999999995\n",
      "[805]\tcv-test-merror:0.19540416666666668\tcv-train-merror:0.053249333333333336\n",
      "[806]\tcv-test-merror:0.19535366666666668\tcv-train-merror:0.053168333333333324\n",
      "[807]\tcv-test-merror:0.19525266666666666\tcv-train-merror:0.0530305\n",
      "[808]\tcv-test-merror:0.19510116666666666\tcv-train-merror:0.05285199999999999\n",
      "[809]\tcv-test-merror:0.19498333333333331\tcv-train-merror:0.05275099999999999\n",
      "[810]\tcv-test-merror:0.195118\tcv-train-merror:0.05266333333333334\n",
      "[811]\tcv-test-merror:0.1952526666666667\tcv-train-merror:0.052636499999999996\n",
      "[812]\tcv-test-merror:0.19520216666666668\tcv-train-merror:0.05252516666666667\n",
      "[813]\tcv-test-merror:0.1951685\tcv-train-merror:0.05243433333333333\n",
      "[814]\tcv-test-merror:0.19523583333333336\tcv-train-merror:0.05235700000000001\n",
      "[815]\tcv-test-merror:0.19518533333333332\tcv-train-merror:0.052242333333333335\n",
      "[816]\tcv-test-merror:0.19518533333333332\tcv-train-merror:0.05214133333333334\n",
      "[817]\tcv-test-merror:0.19516849999999997\tcv-train-merror:0.05204716666666667\n",
      "[818]\tcv-test-merror:0.19520216666666668\tcv-train-merror:0.05199983333333333\n",
      "[819]\tcv-test-merror:0.19518533333333332\tcv-train-merror:0.051861833333333336\n",
      "[820]\tcv-test-merror:0.19506749999999998\tcv-train-merror:0.051761\n",
      "[821]\tcv-test-merror:0.19510116666666666\tcv-train-merror:0.05167016666666666\n",
      "[822]\tcv-test-merror:0.19523583333333336\tcv-train-merror:0.05156233333333333\n",
      "[823]\tcv-test-merror:0.19542100000000004\tcv-train-merror:0.05147833333333334\n",
      "[824]\tcv-test-merror:0.19543783333333334\tcv-train-merror:0.051390500000000006\n",
      "[825]\tcv-test-merror:0.19545466666666667\tcv-train-merror:0.05128616666666667\n",
      "[826]\tcv-test-merror:0.19548833333333335\tcv-train-merror:0.05119533333333334\n",
      "[827]\tcv-test-merror:0.19547150000000002\tcv-train-merror:0.051064000000000005\n",
      "[828]\tcv-test-merror:0.1954378333333333\tcv-train-merror:0.051006666666666665\n",
      "[829]\tcv-test-merror:0.1954378333333333\tcv-train-merror:0.050909333333333334\n",
      "[830]\tcv-test-merror:0.19545466666666667\tcv-train-merror:0.05081150000000001\n",
      "[831]\tcv-test-merror:0.19555566666666666\tcv-train-merror:0.0507205\n",
      "[832]\tcv-test-merror:0.1955725\tcv-train-merror:0.0506635\n",
      "[833]\tcv-test-merror:0.1955893333333333\tcv-train-merror:0.0505185\n",
      "[834]\tcv-test-merror:0.19553883333333333\tcv-train-merror:0.050343333333333344\n",
      "[835]\tcv-test-merror:0.19562300000000002\tcv-train-merror:0.050191999999999994\n",
      "[836]\tcv-test-merror:0.19560616666666666\tcv-train-merror:0.05013133333333333\n",
      "[837]\tcv-test-merror:0.195623\tcv-train-merror:0.050013499999999995\n",
      "[838]\tcv-test-merror:0.19547150000000002\tcv-train-merror:0.049952833333333335\n",
      "[839]\tcv-test-merror:0.1954715\tcv-train-merror:0.04981816666666666\n",
      "[840]\tcv-test-merror:0.19540416666666663\tcv-train-merror:0.049697\n",
      "[841]\tcv-test-merror:0.1953705\tcv-train-merror:0.04962633333333333\n",
      "[842]\tcv-test-merror:0.19540416666666668\tcv-train-merror:0.049562333333333326\n",
      "[843]\tcv-test-merror:0.19538733333333336\tcv-train-merror:0.04943766666666666\n",
      "[844]\tcv-test-merror:0.1954378333333333\tcv-train-merror:0.04936366666666666\n",
      "[845]\tcv-test-merror:0.19532000000000002\tcv-train-merror:0.04927600000000001\n",
      "[846]\tcv-test-merror:0.195219\tcv-train-merror:0.04917183333333333\n",
      "[847]\tcv-test-merror:0.195219\tcv-train-merror:0.04906050000000001\n",
      "[848]\tcv-test-merror:0.19525266666666666\tcv-train-merror:0.04890916666666667\n",
      "[849]\tcv-test-merror:0.1951685\tcv-train-merror:0.048828333333333335\n",
      "[850]\tcv-test-merror:0.19528633333333334\tcv-train-merror:0.04869700000000001\n",
      "[851]\tcv-test-merror:0.19532000000000002\tcv-train-merror:0.04864983333333334\n",
      "[852]\tcv-test-merror:0.19520216666666668\tcv-train-merror:0.048586\n",
      "[853]\tcv-test-merror:0.195219\tcv-train-merror:0.04847816666666666\n",
      "[854]\tcv-test-merror:0.19530316666666667\tcv-train-merror:0.04840049999999999\n",
      "[855]\tcv-test-merror:0.19528633333333334\tcv-train-merror:0.048259\n",
      "[856]\tcv-test-merror:0.19523583333333336\tcv-train-merror:0.048182\n",
      "[857]\tcv-test-merror:0.19521900000000003\tcv-train-merror:0.048070833333333333\n",
      "[858]\tcv-test-merror:0.19520216666666668\tcv-train-merror:0.04800683333333333\n",
      "[859]\tcv-test-merror:0.19528633333333334\tcv-train-merror:0.04790566666666667\n",
      "[860]\tcv-test-merror:0.19518533333333335\tcv-train-merror:0.047787833333333335\n",
      "[861]\tcv-test-merror:0.19525266666666666\tcv-train-merror:0.047605833333333326\n",
      "[862]\tcv-test-merror:0.19525266666666666\tcv-train-merror:0.047504833333333336\n",
      "[863]\tcv-test-merror:0.195219\tcv-train-merror:0.047397166666666664\n",
      "[864]\tcv-test-merror:0.1951685\tcv-train-merror:0.04732\n",
      "[865]\tcv-test-merror:0.1951516666666667\tcv-train-merror:0.04724233333333334\n",
      "[866]\tcv-test-merror:0.19520216666666668\tcv-train-merror:0.047101\n",
      "[867]\tcv-test-merror:0.19526949999999998\tcv-train-merror:0.04701350000000001\n",
      "[868]\tcv-test-merror:0.1951685\tcv-train-merror:0.04693250000000001\n",
      "[869]\tcv-test-merror:0.19523583333333336\tcv-train-merror:0.04684516666666667\n",
      "[870]\tcv-test-merror:0.19518533333333332\tcv-train-merror:0.046801499999999996\n",
      "[871]\tcv-test-merror:0.19510116666666666\tcv-train-merror:0.04674416666666667\n",
      "[872]\tcv-test-merror:0.19505066666666662\tcv-train-merror:0.04666666666666666\n",
      "[873]\tcv-test-merror:0.19506749999999998\tcv-train-merror:0.046582500000000006\n",
      "[874]\tcv-test-merror:0.19500016666666664\tcv-train-merror:0.04646483333333334\n",
      "[875]\tcv-test-merror:0.19513483333333334\tcv-train-merror:0.046377\n",
      "[876]\tcv-test-merror:0.1951516666666667\tcv-train-merror:0.046211833333333334\n",
      "[877]\tcv-test-merror:0.19498333333333331\tcv-train-merror:0.04613133333333333\n",
      "[878]\tcv-test-merror:0.1951685\tcv-train-merror:0.046064\n",
      "[879]\tcv-test-merror:0.19518533333333332\tcv-train-merror:0.045956166666666666\n",
      "[880]\tcv-test-merror:0.1951685\tcv-train-merror:0.04585516666666667\n",
      "[881]\tcv-test-merror:0.195219\tcv-train-merror:0.04580133333333334\n",
      "[882]\tcv-test-merror:0.19523583333333336\tcv-train-merror:0.04568016666666667\n",
      "[883]\tcv-test-merror:0.19521900000000003\tcv-train-merror:0.0455555\n",
      "[884]\tcv-test-merror:0.1951685\tcv-train-merror:0.045458\n",
      "[885]\tcv-test-merror:0.19533683333333332\tcv-train-merror:0.045350333333333326\n",
      "[886]\tcv-test-merror:0.19525266666666666\tcv-train-merror:0.04523566666666667\n",
      "[887]\tcv-test-merror:0.19528633333333334\tcv-train-merror:0.045144666666666666\n",
      "[888]\tcv-test-merror:0.19523583333333336\tcv-train-merror:0.045023499999999994\n",
      "[889]\tcv-test-merror:0.19515166666666664\tcv-train-merror:0.04489216666666667\n",
      "[890]\tcv-test-merror:0.19510116666666666\tcv-train-merror:0.04478083333333333\n",
      "[891]\tcv-test-merror:0.19518533333333335\tcv-train-merror:0.044727499999999996\n",
      "[892]\tcv-test-merror:0.19520216666666668\tcv-train-merror:0.044646333333333336\n",
      "[893]\tcv-test-merror:0.19506749999999998\tcv-train-merror:0.044606\n",
      "[894]\tcv-test-merror:0.19511799999999999\tcv-train-merror:0.0445015\n",
      "[895]\tcv-test-merror:0.19525266666666666\tcv-train-merror:0.0444375\n",
      "[896]\tcv-test-merror:0.195118\tcv-train-merror:0.04433333333333333\n",
      "[897]\tcv-test-merror:0.1951516666666667\tcv-train-merror:0.04422216666666667\n",
      "[898]\tcv-test-merror:0.1951685\tcv-train-merror:0.044158166666666665\n",
      "[899]\tcv-test-merror:0.19513483333333334\tcv-train-merror:0.0440035\n",
      "[900]\tcv-test-merror:0.195219\tcv-train-merror:0.043902166666666666\n",
      "[901]\tcv-test-merror:0.19523583333333336\tcv-train-merror:0.043831666666666665\n",
      "[902]\tcv-test-merror:0.19520216666666665\tcv-train-merror:0.04374066666666667\n",
      "[903]\tcv-test-merror:0.195219\tcv-train-merror:0.04368033333333334\n",
      "[904]\tcv-test-merror:0.19526949999999998\tcv-train-merror:0.043558999999999994\n",
      "[905]\tcv-test-merror:0.1953705\tcv-train-merror:0.043488\n",
      "[906]\tcv-test-merror:0.19535366666666668\tcv-train-merror:0.04337016666666666\n",
      "[907]\tcv-test-merror:0.19528633333333334\tcv-train-merror:0.04325266666666666\n",
      "[908]\tcv-test-merror:0.1951685\tcv-train-merror:0.043182\n",
      "[909]\tcv-test-merror:0.1951685\tcv-train-merror:0.04312783333333333\n",
      "[910]\tcv-test-merror:0.1951515\tcv-train-merror:0.04308399999999999\n",
      "[911]\tcv-test-merror:0.195202\tcv-train-merror:0.043007\n",
      "[912]\tcv-test-merror:0.19521883333333334\tcv-train-merror:0.04292583333333334\n",
      "[913]\tcv-test-merror:0.19523566666666667\tcv-train-merror:0.042858499999999994\n",
      "[914]\tcv-test-merror:0.19535349999999999\tcv-train-merror:0.04274083333333333\n",
      "[915]\tcv-test-merror:0.19531983333333336\tcv-train-merror:0.04265683333333333\n",
      "[916]\tcv-test-merror:0.19528616666666665\tcv-train-merror:0.04255566666666666\n",
      "[917]\tcv-test-merror:0.19516833333333336\tcv-train-merror:0.04245116666666667\n",
      "[918]\tcv-test-merror:0.19520200000000001\tcv-train-merror:0.04231666666666667\n",
      "[919]\tcv-test-merror:0.19528616666666668\tcv-train-merror:0.04227616666666666\n",
      "[920]\tcv-test-merror:0.19535366666666665\tcv-train-merror:0.042144666666666664\n",
      "[921]\tcv-test-merror:0.19540416666666668\tcv-train-merror:0.04200333333333333\n",
      "[922]\tcv-test-merror:0.19538716666666667\tcv-train-merror:0.041929333333333325\n",
      "[923]\tcv-test-merror:0.19535349999999999\tcv-train-merror:0.04186533333333333\n",
      "[924]\tcv-test-merror:0.19542099999999998\tcv-train-merror:0.041784666666666664\n",
      "[925]\tcv-test-merror:0.19531999999999997\tcv-train-merror:0.04175083333333333\n",
      "[926]\tcv-test-merror:0.19548833333333335\tcv-train-merror:0.0416195\n",
      "[927]\tcv-test-merror:0.1954715\tcv-train-merror:0.04155533333333333\n",
      "[928]\tcv-test-merror:0.19550516666666665\tcv-train-merror:0.041461333333333336\n",
      "[929]\tcv-test-merror:0.19555566666666668\tcv-train-merror:0.041367\n",
      "[930]\tcv-test-merror:0.19545466666666664\tcv-train-merror:0.041333333333333326\n",
      "[931]\tcv-test-merror:0.1953705\tcv-train-merror:0.04123916666666667\n",
      "[932]\tcv-test-merror:0.19526949999999998\tcv-train-merror:0.04117166666666667\n",
      "[933]\tcv-test-merror:0.195219\tcv-train-merror:0.041117666666666663\n",
      "[934]\tcv-test-merror:0.1951685\tcv-train-merror:0.04105383333333333\n",
      "[935]\tcv-test-merror:0.19525266666666666\tcv-train-merror:0.04095616666666667\n",
      "[936]\tcv-test-merror:0.19525266666666666\tcv-train-merror:0.040916\n",
      "[937]\tcv-test-merror:0.19518533333333332\tcv-train-merror:0.04081833333333333\n",
      "[938]\tcv-test-merror:0.19525266666666666\tcv-train-merror:0.04077116666666667\n",
      "[939]\tcv-test-merror:0.19521883333333334\tcv-train-merror:0.040643000000000006\n",
      "[940]\tcv-test-merror:0.19531983333333333\tcv-train-merror:0.0405555\n",
      "[941]\tcv-test-merror:0.19535349999999999\tcv-train-merror:0.04046466666666667\n",
      "[942]\tcv-test-merror:0.19528616666666668\tcv-train-merror:0.040414\n",
      "[943]\tcv-test-merror:0.19525250000000002\tcv-train-merror:0.040330000000000005\n",
      "[944]\tcv-test-merror:0.195303\tcv-train-merror:0.040188666666666664\n",
      "[945]\tcv-test-merror:0.19518516666666666\tcv-train-merror:0.040138\n",
      "[946]\tcv-test-merror:0.19511783333333332\tcv-train-merror:0.04004033333333334\n",
      "[947]\tcv-test-merror:0.1950841666666667\tcv-train-merror:0.03997333333333333\n",
      "[948]\tcv-test-merror:0.19513466666666668\tcv-train-merror:0.03986866666666666\n",
      "[949]\tcv-test-merror:0.1951685\tcv-train-merror:0.039835\n",
      "[950]\tcv-test-merror:0.195101\tcv-train-merror:0.039740833333333336\n",
      "[951]\tcv-test-merror:0.19525266666666666\tcv-train-merror:0.03968016666666666\n",
      "[952]\tcv-test-merror:0.19528633333333334\tcv-train-merror:0.03957916666666667\n",
      "[953]\tcv-test-merror:0.19538733333333333\tcv-train-merror:0.03944433333333333\n",
      "[954]\tcv-test-merror:0.19538716666666667\tcv-train-merror:0.039421000000000005\n",
      "[955]\tcv-test-merror:0.19548816666666666\tcv-train-merror:0.039330166666666666\n",
      "[956]\tcv-test-merror:0.19531983333333333\tcv-train-merror:0.03927933333333333\n",
      "[957]\tcv-test-merror:0.1953366666666667\tcv-train-merror:0.03916466666666667\n",
      "[958]\tcv-test-merror:0.19555566666666666\tcv-train-merror:0.03910433333333334\n",
      "[959]\tcv-test-merror:0.19547150000000002\tcv-train-merror:0.039023833333333334\n",
      "[960]\tcv-test-merror:0.195522\tcv-train-merror:0.038996833333333335\n",
      "[961]\tcv-test-merror:0.19553883333333333\tcv-train-merror:0.038932666666666664\n",
      "[962]\tcv-test-merror:0.1955893333333333\tcv-train-merror:0.0387845\n",
      "[963]\tcv-test-merror:0.195522\tcv-train-merror:0.03874416666666666\n",
      "[964]\tcv-test-merror:0.19543783333333334\tcv-train-merror:0.038697166666666664\n",
      "[965]\tcv-test-merror:0.19547150000000002\tcv-train-merror:0.03862633333333334\n",
      "[966]\tcv-test-merror:0.1954715\tcv-train-merror:0.03854883333333334\n",
      "[967]\tcv-test-merror:0.1954208333333333\tcv-train-merror:0.038531833333333335\n",
      "[968]\tcv-test-merror:0.19565666666666667\tcv-train-merror:0.03843433333333334\n",
      "[969]\tcv-test-merror:0.19555566666666668\tcv-train-merror:0.03836033333333334\n",
      "[970]\tcv-test-merror:0.19563983333333332\tcv-train-merror:0.038296333333333335\n",
      "[971]\tcv-test-merror:0.19574083333333334\tcv-train-merror:0.038205333333333334\n",
      "[972]\tcv-test-merror:0.19567350000000003\tcv-train-merror:0.03811116666666667\n",
      "[973]\tcv-test-merror:0.19567349999999997\tcv-train-merror:0.0380575\n",
      "[974]\tcv-test-merror:0.19560616666666666\tcv-train-merror:0.03803683333333333\n",
      "[975]\tcv-test-merror:0.19560616666666666\tcv-train-merror:0.037922500000000005\n",
      "[976]\tcv-test-merror:0.1955725\tcv-train-merror:0.03786533333333333\n",
      "[977]\tcv-test-merror:0.195623\tcv-train-merror:0.03784183333333333\n",
      "[978]\tcv-test-merror:0.19567349999999997\tcv-train-merror:0.037804833333333336\n",
      "[979]\tcv-test-merror:0.19560616666666666\tcv-train-merror:0.037734\n",
      "[980]\tcv-test-merror:0.19565666666666667\tcv-train-merror:0.03766683333333334\n",
      "[981]\tcv-test-merror:0.19575766666666664\tcv-train-merror:0.037525333333333334\n",
      "[982]\tcv-test-merror:0.19575766666666664\tcv-train-merror:0.03750833333333334\n",
      "[983]\tcv-test-merror:0.195623\tcv-train-merror:0.03740400000000001\n",
      "[984]\tcv-test-merror:0.1954545\tcv-train-merror:0.03732333333333334\n",
      "[985]\tcv-test-merror:0.19547150000000002\tcv-train-merror:0.037296166666666665\n",
      "[986]\tcv-test-merror:0.1954546666666667\tcv-train-merror:0.03724566666666667\n",
      "[987]\tcv-test-merror:0.19542100000000004\tcv-train-merror:0.03716833333333333\n",
      "[988]\tcv-test-merror:0.19545466666666667\tcv-train-merror:0.03707066666666667\n",
      "[989]\tcv-test-merror:0.19543783333333334\tcv-train-merror:0.036962999999999996\n",
      "[990]\tcv-test-merror:0.195522\tcv-train-merror:0.036949333333333334\n",
      "[991]\tcv-test-merror:0.19555566666666668\tcv-train-merror:0.036902166666666666\n",
      "[992]\tcv-test-merror:0.19547150000000002\tcv-train-merror:0.036845166666666665\n",
      "[993]\tcv-test-merror:0.19542099999999998\tcv-train-merror:0.036798\n",
      "[994]\tcv-test-merror:0.195404\tcv-train-merror:0.036700333333333335\n",
      "[995]\tcv-test-merror:0.19526933333333332\tcv-train-merror:0.03662633333333334\n",
      "[996]\tcv-test-merror:0.19531983333333333\tcv-train-merror:0.036532\n",
      "[997]\tcv-test-merror:0.19528616666666668\tcv-train-merror:0.036464666666666666\n",
      "[998]\tcv-test-merror:0.19528616666666668\tcv-train-merror:0.03639733333333334\n",
      "[999]\tcv-test-merror:0.19523566666666667\tcv-train-merror:0.036346666666666666\n",
      "[1000]\tcv-test-merror:0.19526933333333332\tcv-train-merror:0.03626266666666666\n",
      "[1001]\tcv-test-merror:0.195202\tcv-train-merror:0.036164999999999996\n",
      "[1002]\tcv-test-merror:0.19511783333333332\tcv-train-merror:0.03610766666666667\n",
      "[1003]\tcv-test-merror:0.19511783333333332\tcv-train-merror:0.035973\n",
      "[1004]\tcv-test-merror:0.19526933333333338\tcv-train-merror:0.03587883333333333\n",
      "[1005]\tcv-test-merror:0.19526933333333332\tcv-train-merror:0.035825\n",
      "[1006]\tcv-test-merror:0.19528616666666665\tcv-train-merror:0.035761\n",
      "[1007]\tcv-test-merror:0.19518516666666666\tcv-train-merror:0.03569716666666667\n",
      "[1008]\tcv-test-merror:0.19525250000000002\tcv-train-merror:0.035602666666666664\n",
      "[1009]\tcv-test-merror:0.195303\tcv-train-merror:0.035505166666666664\n",
      "[1010]\tcv-test-merror:0.19535349999999999\tcv-train-merror:0.03544783333333333\n",
      "[1011]\tcv-test-merror:0.19525249999999997\tcv-train-merror:0.03539716666666667\n",
      "[1012]\tcv-test-merror:0.19518516666666666\tcv-train-merror:0.0353335\n",
      "[1013]\tcv-test-merror:0.1951515\tcv-train-merror:0.03523233333333334\n",
      "[1014]\tcv-test-merror:0.19521883333333334\tcv-train-merror:0.03517533333333333\n",
      "[1015]\tcv-test-merror:0.1951683333333333\tcv-train-merror:0.03513483333333333\n",
      "[1016]\tcv-test-merror:0.19521883333333334\tcv-train-merror:0.03505066666666667\n",
      "[1017]\tcv-test-merror:0.19521883333333334\tcv-train-merror:0.034979666666666666\n",
      "[1018]\tcv-test-merror:0.195202\tcv-train-merror:0.03492233333333333\n",
      "[1019]\tcv-test-merror:0.19518516666666666\tcv-train-merror:0.03484166666666667\n",
      "[1020]\tcv-test-merror:0.1951683333333333\tcv-train-merror:0.03473049999999999\n",
      "[1021]\tcv-test-merror:0.1951515\tcv-train-merror:0.034646666666666666\n",
      "[1022]\tcv-test-merror:0.19518533333333332\tcv-train-merror:0.03452183333333333\n",
      "[1023]\tcv-test-merror:0.19510116666666666\tcv-train-merror:0.034471166666666664\n",
      "[1024]\tcv-test-merror:0.1951515\tcv-train-merror:0.03440733333333334\n",
      "[1025]\tcv-test-merror:0.195202\tcv-train-merror:0.034340166666666665\n",
      "[1026]\tcv-test-merror:0.195202\tcv-train-merror:0.03426266666666667\n",
      "[1027]\tcv-test-merror:0.1952695\tcv-train-merror:0.034202166666666665\n",
      "[1028]\tcv-test-merror:0.19518516666666666\tcv-train-merror:0.034104333333333334\n",
      "[1029]\tcv-test-merror:0.19513466666666668\tcv-train-merror:0.034084166666666665\n",
      "[1030]\tcv-test-merror:0.19511783333333332\tcv-train-merror:0.03399666666666667\n",
      "[1031]\tcv-test-merror:0.1950841666666667\tcv-train-merror:0.0339865\n",
      "[1032]\tcv-test-merror:0.19501683333333333\tcv-train-merror:0.03392933333333333\n",
      "[1033]\tcv-test-merror:0.19498316666666668\tcv-train-merror:0.033889\n",
      "[1034]\tcv-test-merror:0.1950841666666667\tcv-train-merror:0.033771166666666665\n",
      "[1035]\tcv-test-merror:0.19499999999999998\tcv-train-merror:0.033703500000000004\n",
      "[1036]\tcv-test-merror:0.19503366666666666\tcv-train-merror:0.033652999999999995\n",
      "[1037]\tcv-test-merror:0.19506733333333334\tcv-train-merror:0.03355233333333334\n",
      "[1038]\tcv-test-merror:0.19496633333333335\tcv-train-merror:0.03348483333333333\n",
      "[1039]\tcv-test-merror:0.19505050000000002\tcv-train-merror:0.03342116666666667\n",
      "[1040]\tcv-test-merror:0.19513466666666668\tcv-train-merror:0.033363666666666666\n",
      "[1041]\tcv-test-merror:0.19513466666666668\tcv-train-merror:0.033292833333333334\n",
      "[1042]\tcv-test-merror:0.19501683333333333\tcv-train-merror:0.033249\n",
      "[1043]\tcv-test-merror:0.19491583333333332\tcv-train-merror:0.033138\n",
      "[1044]\tcv-test-merror:0.19493266666666667\tcv-train-merror:0.03310416666666667\n",
      "[1045]\tcv-test-merror:0.19501683333333333\tcv-train-merror:0.03304033333333333\n",
      "[1046]\tcv-test-merror:0.1950168333333333\tcv-train-merror:0.03298316666666667\n",
      "[1047]\tcv-test-merror:0.1950168333333333\tcv-train-merror:0.032956\n",
      "[1048]\tcv-test-merror:0.19499999999999998\tcv-train-merror:0.032879\n",
      "[1049]\tcv-test-merror:0.1950168333333333\tcv-train-merror:0.03285183333333334\n",
      "[1050]\tcv-test-merror:0.19499999999999998\tcv-train-merror:0.03278433333333333\n",
      "[1051]\tcv-test-merror:0.19500000000000003\tcv-train-merror:0.0327005\n",
      "[1052]\tcv-test-merror:0.1949495\tcv-train-merror:0.03261316666666667\n",
      "[1053]\tcv-test-merror:0.19499999999999998\tcv-train-merror:0.0325285\n",
      "[1054]\tcv-test-merror:0.19489899999999996\tcv-train-merror:0.0324545\n",
      "[1055]\tcv-test-merror:0.1950505\tcv-train-merror:0.0323905\n",
      "[1056]\tcv-test-merror:0.19499999999999998\tcv-train-merror:0.032384\n",
      "[1057]\tcv-test-merror:0.19498316666666668\tcv-train-merror:0.0323\n",
      "[1058]\tcv-test-merror:0.195017\tcv-train-merror:0.032245666666666666\n",
      "[1059]\tcv-test-merror:0.19506733333333334\tcv-train-merror:0.03220866666666667\n",
      "[1060]\tcv-test-merror:0.195101\tcv-train-merror:0.032118\n",
      "[1061]\tcv-test-merror:0.19503366666666666\tcv-train-merror:0.032043499999999996\n",
      "[1062]\tcv-test-merror:0.19503366666666666\tcv-train-merror:0.03198983333333333\n",
      "[1063]\tcv-test-merror:0.1950505\tcv-train-merror:0.031898833333333335\n",
      "[1064]\tcv-test-merror:0.19516833333333336\tcv-train-merror:0.031852\n",
      "[1065]\tcv-test-merror:0.1951683333333333\tcv-train-merror:0.031798\n",
      "[1066]\tcv-test-merror:0.1951515\tcv-train-merror:0.03173416666666667\n",
      "[1067]\tcv-test-merror:0.19506733333333334\tcv-train-merror:0.03168033333333333\n",
      "[1068]\tcv-test-merror:0.1950505\tcv-train-merror:0.031606\n",
      "[1069]\tcv-test-merror:0.19501683333333333\tcv-train-merror:0.03155550000000001\n",
      "[1070]\tcv-test-merror:0.19510099999999997\tcv-train-merror:0.03146483333333333\n",
      "[1071]\tcv-test-merror:0.19511783333333332\tcv-train-merror:0.0313705\n",
      "[1072]\tcv-test-merror:0.19506733333333334\tcv-train-merror:0.031323166666666666\n",
      "[1073]\tcv-test-merror:0.1950505\tcv-train-merror:0.03129966666666667\n",
      "[1074]\tcv-test-merror:0.19493266666666667\tcv-train-merror:0.031232499999999996\n",
      "[1075]\tcv-test-merror:0.19499999999999998\tcv-train-merror:0.031141333333333337\n",
      "[1076]\tcv-test-merror:0.19503366666666666\tcv-train-merror:0.031097500000000004\n",
      "[1077]\tcv-test-merror:0.195101\tcv-train-merror:0.0310605\n",
      "[1078]\tcv-test-merror:0.1951683333333333\tcv-train-merror:0.030979999999999997\n",
      "[1079]\tcv-test-merror:0.19510100000000005\tcv-train-merror:0.030959666666666667\n",
      "[1080]\tcv-test-merror:0.19510099999999997\tcv-train-merror:0.030909166666666668\n",
      "[1081]\tcv-test-merror:0.19503366666666666\tcv-train-merror:0.030851833333333332\n",
      "[1082]\tcv-test-merror:0.19503366666666666\tcv-train-merror:0.030798166666666668\n",
      "[1083]\tcv-test-merror:0.19506733333333334\tcv-train-merror:0.030754166666666666\n",
      "[1084]\tcv-test-merror:0.19511783333333335\tcv-train-merror:0.030653333333333338\n",
      "[1085]\tcv-test-merror:0.19508416666666664\tcv-train-merror:0.03058266666666666\n",
      "[1086]\tcv-test-merror:0.19506733333333334\tcv-train-merror:0.030525166666666662\n",
      "[1087]\tcv-test-merror:0.19511783333333332\tcv-train-merror:0.030468166666666668\n",
      "[1088]\tcv-test-merror:0.195101\tcv-train-merror:0.030404166666666666\n",
      "[1089]\tcv-test-merror:0.19501683333333333\tcv-train-merror:0.030347\n",
      "[1090]\tcv-test-merror:0.195101\tcv-train-merror:0.030299833333333335\n",
      "[1091]\tcv-test-merror:0.19505050000000002\tcv-train-merror:0.03023216666666667\n",
      "[1092]\tcv-test-merror:0.19516833333333336\tcv-train-merror:0.030151499999999998\n",
      "[1093]\tcv-test-merror:0.19520200000000001\tcv-train-merror:0.030094333333333334\n",
      "[1094]\tcv-test-merror:0.1951683333333333\tcv-train-merror:0.0300305\n",
      "[1095]\tcv-test-merror:0.1951515\tcv-train-merror:0.029922666666666663\n",
      "[1096]\tcv-test-merror:0.1952188333333333\tcv-train-merror:0.02987216666666667\n",
      "[1097]\tcv-test-merror:0.1951683333333333\tcv-train-merror:0.029851833333333338\n",
      "[1098]\tcv-test-merror:0.19513466666666668\tcv-train-merror:0.029781166666666668\n",
      "[1099]\tcv-test-merror:0.19518516666666666\tcv-train-merror:0.02973383333333333\n",
      "[1100]\tcv-test-merror:0.1951683333333333\tcv-train-merror:0.029666500000000002\n",
      "[1101]\tcv-test-merror:0.19518516666666672\tcv-train-merror:0.029595833333333335\n",
      "[1102]\tcv-test-merror:0.19518516666666672\tcv-train-merror:0.029552333333333333\n",
      "[1103]\tcv-test-merror:0.19525250000000002\tcv-train-merror:0.029478000000000004\n",
      "[1104]\tcv-test-merror:0.19525250000000002\tcv-train-merror:0.0294075\n",
      "[1105]\tcv-test-merror:0.19518516666666666\tcv-train-merror:0.02938383333333333\n",
      "[1106]\tcv-test-merror:0.19513466666666668\tcv-train-merror:0.029313000000000002\n",
      "[1107]\tcv-test-merror:0.19511783333333332\tcv-train-merror:0.029276\n",
      "[1108]\tcv-test-merror:0.1951515\tcv-train-merror:0.029218666666666667\n",
      "[1109]\tcv-test-merror:0.1949495\tcv-train-merror:0.02916166666666667\n",
      "[1110]\tcv-test-merror:0.1950168333333333\tcv-train-merror:0.0290605\n",
      "[1111]\tcv-test-merror:0.19498316666666668\tcv-train-merror:0.029006666666666667\n",
      "[1112]\tcv-test-merror:0.19506733333333334\tcv-train-merror:0.0289325\n",
      "[1113]\tcv-test-merror:0.19503366666666666\tcv-train-merror:0.028885500000000005\n",
      "[1114]\tcv-test-merror:0.19506733333333334\tcv-train-merror:0.028808\n",
      "[1115]\tcv-test-merror:0.19491583333333332\tcv-train-merror:0.028751\n",
      "[1116]\tcv-test-merror:0.1949495\tcv-train-merror:0.02869366666666667\n",
      "[1117]\tcv-test-merror:0.195101\tcv-train-merror:0.028619500000000003\n",
      "[1118]\tcv-test-merror:0.19503366666666666\tcv-train-merror:0.028575666666666666\n",
      "[1119]\tcv-test-merror:0.19498316666666668\tcv-train-merror:0.028532000000000002\n",
      "[1120]\tcv-test-merror:0.195101\tcv-train-merror:0.028457999999999997\n",
      "[1121]\tcv-test-merror:0.19501683333333333\tcv-train-merror:0.028407166666666664\n",
      "[1122]\tcv-test-merror:0.1950505\tcv-train-merror:0.028306333333333333\n",
      "[1123]\tcv-test-merror:0.195101\tcv-train-merror:0.02823233333333333\n",
      "[1124]\tcv-test-merror:0.1951515\tcv-train-merror:0.028161666666666668\n",
      "[1125]\tcv-test-merror:0.19511783333333332\tcv-train-merror:0.028127833333333328\n",
      "[1126]\tcv-test-merror:0.19513466666666665\tcv-train-merror:0.028057166666666664\n",
      "[1127]\tcv-test-merror:0.19518516666666666\tcv-train-merror:0.028003333333333335\n",
      "[1128]\tcv-test-merror:0.195202\tcv-train-merror:0.027852000000000002\n",
      "[1129]\tcv-test-merror:0.19505050000000002\tcv-train-merror:0.02778766666666667\n",
      "[1130]\tcv-test-merror:0.19518516666666666\tcv-train-merror:0.027740833333333336\n",
      "[1131]\tcv-test-merror:0.19513466666666668\tcv-train-merror:0.027713666666666668\n",
      "[1132]\tcv-test-merror:0.19505050000000002\tcv-train-merror:0.027633\n",
      "[1133]\tcv-test-merror:0.195101\tcv-train-merror:0.027586\n",
      "[1134]\tcv-test-merror:0.19505050000000002\tcv-train-merror:0.027521666666666667\n",
      "[1135]\tcv-test-merror:0.195101\tcv-train-merror:0.02743783333333334\n",
      "[1136]\tcv-test-merror:0.1950505\tcv-train-merror:0.027367000000000002\n",
      "[1137]\tcv-test-merror:0.19506733333333334\tcv-train-merror:0.027289499999999998\n",
      "[1138]\tcv-test-merror:0.19511783333333332\tcv-train-merror:0.027266166666666664\n",
      "[1139]\tcv-test-merror:0.19523566666666667\tcv-train-merror:0.0272525\n",
      "[1140]\tcv-test-merror:0.19525250000000002\tcv-train-merror:0.027188666666666667\n",
      "[1141]\tcv-test-merror:0.195202\tcv-train-merror:0.027100999999999997\n",
      "[1142]\tcv-test-merror:0.19513466666666668\tcv-train-merror:0.027023666666666668\n",
      "[1143]\tcv-test-merror:0.19506733333333334\tcv-train-merror:0.026986833333333335\n",
      "[1144]\tcv-test-merror:0.195101\tcv-train-merror:0.0268925\n",
      "[1145]\tcv-test-merror:0.1951683333333333\tcv-train-merror:0.026845166666666666\n",
      "[1146]\tcv-test-merror:0.19506733333333334\tcv-train-merror:0.026808\n",
      "[1147]\tcv-test-merror:0.19499999999999998\tcv-train-merror:0.026791166666666668\n",
      "[1148]\tcv-test-merror:0.19489900000000002\tcv-train-merror:0.026720333333333336\n",
      "[1149]\tcv-test-merror:0.1948821666666667\tcv-train-merror:0.026687\n",
      "[1150]\tcv-test-merror:0.1948485\tcv-train-merror:0.026626\n",
      "[1151]\tcv-test-merror:0.19489900000000002\tcv-train-merror:0.026592666666666667\n",
      "[1152]\tcv-test-merror:0.19493266666666667\tcv-train-merror:0.02652866666666667\n",
      "[1153]\tcv-test-merror:0.19484849999999998\tcv-train-merror:0.026484833333333332\n",
      "[1154]\tcv-test-merror:0.19476433333333334\tcv-train-merror:0.026407499999999997\n",
      "[1155]\tcv-test-merror:0.19486533333333333\tcv-train-merror:0.0263535\n",
      "[1156]\tcv-test-merror:0.19483166666666665\tcv-train-merror:0.026303166666666666\n",
      "[1157]\tcv-test-merror:0.19491583333333332\tcv-train-merror:0.026245666666666667\n",
      "[1158]\tcv-test-merror:0.19493266666666667\tcv-train-merror:0.026168333333333335\n",
      "[1159]\tcv-test-merror:0.1949495\tcv-train-merror:0.02609083333333333\n",
      "[1160]\tcv-test-merror:0.19486533333333333\tcv-train-merror:0.026064000000000004\n",
      "[1161]\tcv-test-merror:0.19499999999999998\tcv-train-merror:0.026026999999999998\n",
      "[1162]\tcv-test-merror:0.19505050000000002\tcv-train-merror:0.025963\n",
      "[1163]\tcv-test-merror:0.19496633333333332\tcv-train-merror:0.0259025\n",
      "[1164]\tcv-test-merror:0.19501683333333333\tcv-train-merror:0.02584183333333333\n",
      "[1165]\tcv-test-merror:0.19496633333333335\tcv-train-merror:0.0257915\n",
      "[1166]\tcv-test-merror:0.1950336666666667\tcv-train-merror:0.025706999999999997\n",
      "[1167]\tcv-test-merror:0.19494950000000003\tcv-train-merror:0.0256565\n",
      "[1168]\tcv-test-merror:0.19488216666666666\tcv-train-merror:0.02559583333333333\n",
      "[1169]\tcv-test-merror:0.19499999999999998\tcv-train-merror:0.025548666666666667\n",
      "[1170]\tcv-test-merror:0.19503366666666666\tcv-train-merror:0.025471333333333332\n",
      "[1171]\tcv-test-merror:0.19508416666666664\tcv-train-merror:0.025400666666666665\n",
      "[1172]\tcv-test-merror:0.1950505\tcv-train-merror:0.025326500000000002\n",
      "[1173]\tcv-test-merror:0.19498316666666668\tcv-train-merror:0.02527583333333333\n",
      "[1174]\tcv-test-merror:0.1950841666666667\tcv-train-merror:0.02523566666666667\n",
      "[1175]\tcv-test-merror:0.195101\tcv-train-merror:0.025195166666666668\n",
      "[1176]\tcv-test-merror:0.19503366666666666\tcv-train-merror:0.025110999999999998\n",
      "[1177]\tcv-test-merror:0.19506733333333334\tcv-train-merror:0.025090833333333337\n",
      "[1178]\tcv-test-merror:0.19501683333333333\tcv-train-merror:0.025037\n",
      "[1179]\tcv-test-merror:0.19498316666666668\tcv-train-merror:0.0250065\n",
      "[1180]\tcv-test-merror:0.19498316666666668\tcv-train-merror:0.02491916666666667\n",
      "[1181]\tcv-test-merror:0.19496633333333335\tcv-train-merror:0.024915833333333335\n",
      "[1182]\tcv-test-merror:0.19486533333333333\tcv-train-merror:0.0248485\n",
      "[1183]\tcv-test-merror:0.19503366666666666\tcv-train-merror:0.024811333333333335\n",
      "[1184]\tcv-test-merror:0.19501683333333333\tcv-train-merror:0.024737333333333333\n",
      "[1185]\tcv-test-merror:0.1950336666666667\tcv-train-merror:0.024693499999999997\n",
      "[1186]\tcv-test-merror:0.19496633333333335\tcv-train-merror:0.0246265\n",
      "[1187]\tcv-test-merror:0.19503366666666666\tcv-train-merror:0.02457233333333333\n",
      "[1188]\tcv-test-merror:0.19499999999999998\tcv-train-merror:0.024531999999999998\n",
      "[1189]\tcv-test-merror:0.1949495\tcv-train-merror:0.024437833333333336\n",
      "[1190]\tcv-test-merror:0.19481483333333335\tcv-train-merror:0.024420833333333333\n",
      "[1191]\tcv-test-merror:0.19489900000000002\tcv-train-merror:0.024360333333333335\n",
      "[1192]\tcv-test-merror:0.19489900000000002\tcv-train-merror:0.02432316666666667\n",
      "[1193]\tcv-test-merror:0.19493266666666667\tcv-train-merror:0.024296333333333333\n",
      "[1194]\tcv-test-merror:0.19498316666666668\tcv-train-merror:0.02422566666666667\n",
      "[1195]\tcv-test-merror:0.1949495\tcv-train-merror:0.02419866666666667\n",
      "[1196]\tcv-test-merror:0.1949495\tcv-train-merror:0.02420533333333334\n",
      "[1197]\tcv-test-merror:0.19503366666666666\tcv-train-merror:0.024148166666666665\n",
      "[1198]\tcv-test-merror:0.1950505\tcv-train-merror:0.024114666666666663\n",
      "[1199]\tcv-test-merror:0.19506733333333334\tcv-train-merror:0.024043666666666668\n",
      "[1200]\tcv-test-merror:0.195101\tcv-train-merror:0.02401\n",
      "[1201]\tcv-test-merror:0.195101\tcv-train-merror:0.02395283333333333\n",
      "[1202]\tcv-test-merror:0.19518516666666666\tcv-train-merror:0.023889166666666666\n",
      "[1203]\tcv-test-merror:0.19518516666666666\tcv-train-merror:0.023861666666666666\n",
      "[1204]\tcv-test-merror:0.19506733333333334\tcv-train-merror:0.023821666666666668\n",
      "[1205]\tcv-test-merror:0.19513466666666668\tcv-train-merror:0.02378783333333333\n",
      "[1206]\tcv-test-merror:0.19511783333333335\tcv-train-merror:0.02375416666666667\n",
      "[1207]\tcv-test-merror:0.1951683333333333\tcv-train-merror:0.02366\n",
      "[1208]\tcv-test-merror:0.19513466666666668\tcv-train-merror:0.023622833333333332\n",
      "[1209]\tcv-test-merror:0.1951515\tcv-train-merror:0.023538666666666666\n",
      "[1210]\tcv-test-merror:0.19518516666666666\tcv-train-merror:0.023555499999999997\n",
      "[1211]\tcv-test-merror:0.19525249999999997\tcv-train-merror:0.0235455\n",
      "[1212]\tcv-test-merror:0.19526933333333332\tcv-train-merror:0.023447833333333334\n",
      "[1213]\tcv-test-merror:0.19521883333333334\tcv-train-merror:0.023420833333333335\n",
      "[1214]\tcv-test-merror:0.1951515\tcv-train-merror:0.02335683333333333\n",
      "[1215]\tcv-test-merror:0.19523566666666667\tcv-train-merror:0.023279499999999998\n",
      "[1216]\tcv-test-merror:0.19518516666666666\tcv-train-merror:0.023212333333333335\n",
      "[1217]\tcv-test-merror:0.19513466666666665\tcv-train-merror:0.0231885\n",
      "[1218]\tcv-test-merror:0.19511783333333332\tcv-train-merror:0.023138166666666668\n",
      "[1219]\tcv-test-merror:0.19508416666666664\tcv-train-merror:0.023091166666666666\n",
      "[1220]\tcv-test-merror:0.19506733333333334\tcv-train-merror:0.023040500000000002\n",
      "[1221]\tcv-test-merror:0.19505050000000002\tcv-train-merror:0.022979833333333335\n",
      "[1222]\tcv-test-merror:0.19505050000000002\tcv-train-merror:0.022936\n",
      "[1223]\tcv-test-merror:0.19503366666666666\tcv-train-merror:0.022882166666666665\n",
      "[1224]\tcv-test-merror:0.195101\tcv-train-merror:0.022838333333333332\n",
      "[1225]\tcv-test-merror:0.19506733333333334\tcv-train-merror:0.02280133333333333\n",
      "[1226]\tcv-test-merror:0.19508416666666664\tcv-train-merror:0.022727333333333332\n",
      "[1227]\tcv-test-merror:0.19508416666666664\tcv-train-merror:0.022710333333333332\n",
      "[1228]\tcv-test-merror:0.19505050000000002\tcv-train-merror:0.022680000000000002\n",
      "[1229]\tcv-test-merror:0.1950168333333333\tcv-train-merror:0.022633\n",
      "[1230]\tcv-test-merror:0.195101\tcv-train-merror:0.022555333333333333\n",
      "[1231]\tcv-test-merror:0.1950505\tcv-train-merror:0.022484833333333332\n",
      "[1232]\tcv-test-merror:0.19503366666666666\tcv-train-merror:0.02243766666666666\n",
      "[1233]\tcv-test-merror:0.1950168333333333\tcv-train-merror:0.02242083333333333\n",
      "[1234]\tcv-test-merror:0.19511783333333332\tcv-train-merror:0.022397333333333335\n",
      "[1235]\tcv-test-merror:0.19513466666666668\tcv-train-merror:0.022393999999999997\n",
      "[1236]\tcv-test-merror:0.195101\tcv-train-merror:0.022336666666666668\n",
      "[1237]\tcv-test-merror:0.19518516666666666\tcv-train-merror:0.022292833333333335\n",
      "[1238]\tcv-test-merror:0.19518516666666666\tcv-train-merror:0.02220533333333333\n",
      "[1239]\tcv-test-merror:0.19511783333333332\tcv-train-merror:0.022195333333333334\n",
      "[1240]\tcv-test-merror:0.19511783333333332\tcv-train-merror:0.022148\n",
      "[1241]\tcv-test-merror:0.19518516666666666\tcv-train-merror:0.022134666666666667\n",
      "[1242]\tcv-test-merror:0.19523566666666667\tcv-train-merror:0.022097666666666665\n",
      "[1243]\tcv-test-merror:0.1952188333333333\tcv-train-merror:0.022060499999999997\n",
      "[1244]\tcv-test-merror:0.1953366666666667\tcv-train-merror:0.022023666666666664\n",
      "[1245]\tcv-test-merror:0.1953703333333333\tcv-train-merror:0.022010000000000002\n",
      "[1246]\tcv-test-merror:0.1955218333333333\tcv-train-merror:0.021915666666666667\n",
      "[1247]\tcv-test-merror:0.1954545\tcv-train-merror:0.021909166666666664\n",
      "[1248]\tcv-test-merror:0.195404\tcv-train-merror:0.021862000000000003\n",
      "[1249]\tcv-test-merror:0.19528616666666668\tcv-train-merror:0.021781\n",
      "[1250]\tcv-test-merror:0.195303\tcv-train-merror:0.021744\n",
      "[1251]\tcv-test-merror:0.19531983333333333\tcv-train-merror:0.0216935\n",
      "[1252]\tcv-test-merror:0.19531983333333336\tcv-train-merror:0.021649833333333337\n",
      "[1253]\tcv-test-merror:0.19531983333333333\tcv-train-merror:0.021558833333333333\n",
      "[1254]\tcv-test-merror:0.19531983333333333\tcv-train-merror:0.02147816666666667\n",
      "[1255]\tcv-test-merror:0.19533666666666663\tcv-train-merror:0.021414166666666668\n",
      "[1256]\tcv-test-merror:0.19535350000000004\tcv-train-merror:0.021360333333333332\n",
      "[1257]\tcv-test-merror:0.19526933333333332\tcv-train-merror:0.02133\n",
      "[1258]\tcv-test-merror:0.19518516666666663\tcv-train-merror:0.021255833333333335\n",
      "[1259]\tcv-test-merror:0.19535349999999999\tcv-train-merror:0.0212155\n",
      "[1260]\tcv-test-merror:0.19528616666666665\tcv-train-merror:0.02113816666666667\n",
      "[1261]\tcv-test-merror:0.19531983333333333\tcv-train-merror:0.0210975\n",
      "[1262]\tcv-test-merror:0.1953366666666667\tcv-train-merror:0.021087666666666668\n",
      "[1263]\tcv-test-merror:0.1953366666666667\tcv-train-merror:0.02105383333333333\n",
      "[1264]\tcv-test-merror:0.19535349999999999\tcv-train-merror:0.020979833333333333\n",
      "[1265]\tcv-test-merror:0.19538716666666667\tcv-train-merror:0.020919166666666666\n",
      "[1266]\tcv-test-merror:0.19548816666666669\tcv-train-merror:0.020905833333333335\n",
      "[1267]\tcv-test-merror:0.19547133333333333\tcv-train-merror:0.020865333333333336\n",
      "[1268]\tcv-test-merror:0.19557233333333335\tcv-train-merror:0.020814833333333334\n",
      "[1269]\tcv-test-merror:0.19557233333333335\tcv-train-merror:0.020740666666666668\n",
      "[1270]\tcv-test-merror:0.195505\tcv-train-merror:0.0207035\n",
      "[1271]\tcv-test-merror:0.19552183333333337\tcv-train-merror:0.020646333333333336\n",
      "[1272]\tcv-test-merror:0.195505\tcv-train-merror:0.020612500000000002\n",
      "[1273]\tcv-test-merror:0.19553866666666664\tcv-train-merror:0.020515\n",
      "[1274]\tcv-test-merror:0.195505\tcv-train-merror:0.020464833333333335\n",
      "[1275]\tcv-test-merror:0.1953366666666667\tcv-train-merror:0.020427499999999998\n",
      "[1276]\tcv-test-merror:0.1954376666666667\tcv-train-merror:0.020377166666666665\n",
      "[1277]\tcv-test-merror:0.19531983333333336\tcv-train-merror:0.02034016666666667\n",
      "[1278]\tcv-test-merror:0.195404\tcv-train-merror:0.020262666666666665\n",
      "[1279]\tcv-test-merror:0.1954208333333333\tcv-train-merror:0.0202155\n",
      "[1280]\tcv-test-merror:0.1954545\tcv-train-merror:0.020198666666666667\n",
      "[1281]\tcv-test-merror:0.19543766666666665\tcv-train-merror:0.020154666666666664\n",
      "[1282]\tcv-test-merror:0.19537033333333334\tcv-train-merror:0.020138\n",
      "[1283]\tcv-test-merror:0.19548816666666669\tcv-train-merror:0.020131333333333334\n",
      "[1284]\tcv-test-merror:0.19542083333333335\tcv-train-merror:0.020074\n",
      "[1285]\tcv-test-merror:0.1953703333333333\tcv-train-merror:0.020070666666666664\n",
      "[1286]\tcv-test-merror:0.19533666666666663\tcv-train-merror:0.02001366666666667\n",
      "[1287]\tcv-test-merror:0.19528616666666665\tcv-train-merror:0.019979833333333336\n",
      "[1288]\tcv-test-merror:0.19528616666666665\tcv-train-merror:0.019915833333333337\n",
      "[1289]\tcv-test-merror:0.19531983333333333\tcv-train-merror:0.019851833333333332\n",
      "[1290]\tcv-test-merror:0.19526933333333332\tcv-train-merror:0.019825\n",
      "[1291]\tcv-test-merror:0.19531983333333333\tcv-train-merror:0.01979133333333333\n",
      "[1292]\tcv-test-merror:0.19515150000000003\tcv-train-merror:0.019750833333333332\n",
      "[1293]\tcv-test-merror:0.19518516666666666\tcv-train-merror:0.019707000000000002\n",
      "[1294]\tcv-test-merror:0.19513466666666665\tcv-train-merror:0.019643333333333336\n",
      "[1295]\tcv-test-merror:0.19520200000000001\tcv-train-merror:0.019582666666666665\n",
      "[1296]\tcv-test-merror:0.195202\tcv-train-merror:0.019538666666666666\n",
      "[1297]\tcv-test-merror:0.19538716666666667\tcv-train-merror:0.0194545\n",
      "[1298]\tcv-test-merror:0.19525249999999997\tcv-train-merror:0.019431166666666666\n",
      "[1299]\tcv-test-merror:0.19538716666666667\tcv-train-merror:0.019384\n",
      "[1300]\tcv-test-merror:0.19535349999999999\tcv-train-merror:0.019356833333333334\n",
      "[1301]\tcv-test-merror:0.19538716666666667\tcv-train-merror:0.019303166666666666\n",
      "[1302]\tcv-test-merror:0.1953366666666667\tcv-train-merror:0.019279333333333332\n",
      "[1303]\tcv-test-merror:0.19543766666666665\tcv-train-merror:0.01922583333333333\n",
      "[1304]\tcv-test-merror:0.1953366666666667\tcv-train-merror:0.019188499999999997\n",
      "[1305]\tcv-test-merror:0.19543766666666665\tcv-train-merror:0.019134666666666668\n",
      "[1306]\tcv-test-merror:0.195404\tcv-train-merror:0.01910433333333333\n",
      "[1307]\tcv-test-merror:0.19542083333333335\tcv-train-merror:0.019030333333333333\n",
      "[1308]\tcv-test-merror:0.19557233333333335\tcv-train-merror:0.018973\n",
      "[1309]\tcv-test-merror:0.1955218333333333\tcv-train-merror:0.0189325\n",
      "[1310]\tcv-test-merror:0.19538716666666667\tcv-train-merror:0.01888883333333333\n",
      "[1311]\tcv-test-merror:0.19521883333333334\tcv-train-merror:0.018862\n",
      "[1312]\tcv-test-merror:0.19528616666666668\tcv-train-merror:0.018821499999999998\n",
      "[1313]\tcv-test-merror:0.19537033333333334\tcv-train-merror:0.01875733333333333\n",
      "[1314]\tcv-test-merror:0.19535349999999999\tcv-train-merror:0.01871716666666667\n",
      "[1315]\tcv-test-merror:0.19526933333333332\tcv-train-merror:0.018666666666666668\n",
      "[1316]\tcv-test-merror:0.19526933333333332\tcv-train-merror:0.0186195\n",
      "[1317]\tcv-test-merror:0.19531983333333336\tcv-train-merror:0.018578833333333333\n",
      "[1318]\tcv-test-merror:0.1952356666666666\tcv-train-merror:0.018562166666666668\n",
      "[1319]\tcv-test-merror:0.19528616666666665\tcv-train-merror:0.018538666666666665\n",
      "[1320]\tcv-test-merror:0.19526933333333332\tcv-train-merror:0.018467833333333333\n",
      "[1321]\tcv-test-merror:0.19533683333333332\tcv-train-merror:0.018437833333333334\n",
      "[1322]\tcv-test-merror:0.19542099999999998\tcv-train-merror:0.018393833333333335\n",
      "[1323]\tcv-test-merror:0.19542083333333335\tcv-train-merror:0.018360333333333336\n",
      "[1324]\tcv-test-merror:0.19545466666666667\tcv-train-merror:0.018319833333333334\n",
      "[1325]\tcv-test-merror:0.1955725\tcv-train-merror:0.018266166666666663\n",
      "[1326]\tcv-test-merror:0.19553883333333333\tcv-train-merror:0.018232166666666664\n",
      "[1327]\tcv-test-merror:0.19545466666666667\tcv-train-merror:0.018175166666666666\n",
      "[1328]\tcv-test-merror:0.19550516666666665\tcv-train-merror:0.018114666666666664\n",
      "[1329]\tcv-test-merror:0.19548833333333335\tcv-train-merror:0.0180435\n",
      "[1330]\tcv-test-merror:0.19553883333333333\tcv-train-merror:0.018006833333333336\n",
      "[1331]\tcv-test-merror:0.1955893333333333\tcv-train-merror:0.017929166666666666\n",
      "[1332]\tcv-test-merror:0.19550516666666665\tcv-train-merror:0.017885333333333333\n",
      "[1333]\tcv-test-merror:0.19537049999999997\tcv-train-merror:0.017841833333333335\n",
      "[1334]\tcv-test-merror:0.19542099999999998\tcv-train-merror:0.017808\n",
      "[1335]\tcv-test-merror:0.19548833333333335\tcv-train-merror:0.01774433333333333\n",
      "[1336]\tcv-test-merror:0.19560616666666666\tcv-train-merror:0.017703666666666666\n",
      "[1337]\tcv-test-merror:0.1955725\tcv-train-merror:0.017676666666666663\n",
      "[1338]\tcv-test-merror:0.19542099999999998\tcv-train-merror:0.017612666666666665\n",
      "[1339]\tcv-test-merror:0.1954378333333333\tcv-train-merror:0.017599333333333335\n",
      "[1340]\tcv-test-merror:0.19542099999999998\tcv-train-merror:0.0175825\n",
      "[1341]\tcv-test-merror:0.19538733333333336\tcv-train-merror:0.017548833333333336\n",
      "[1342]\tcv-test-merror:0.19533683333333332\tcv-train-merror:0.017505000000000003\n",
      "[1343]\tcv-test-merror:0.19525266666666666\tcv-train-merror:0.017474833333333335\n",
      "[1344]\tcv-test-merror:0.19520216666666665\tcv-train-merror:0.017441166666666667\n",
      "[1345]\tcv-test-merror:0.19532000000000002\tcv-train-merror:0.017393833333333334\n",
      "[1346]\tcv-test-merror:0.1952863333333333\tcv-train-merror:0.017333499999999998\n",
      "[1347]\tcv-test-merror:0.19535366666666665\tcv-train-merror:0.01728616666666666\n",
      "[1348]\tcv-test-merror:0.19540416666666668\tcv-train-merror:0.01725933333333333\n",
      "[1349]\tcv-test-merror:0.19538733333333333\tcv-train-merror:0.017205333333333333\n",
      "[1350]\tcv-test-merror:0.19543783333333334\tcv-train-merror:0.017181666666666665\n",
      "[1351]\tcv-test-merror:0.19540416666666668\tcv-train-merror:0.017111166666666667\n",
      "[1352]\tcv-test-merror:0.19538733333333333\tcv-train-merror:0.017091\n",
      "[1353]\tcv-test-merror:0.19537050000000003\tcv-train-merror:0.01705733333333333\n",
      "[1354]\tcv-test-merror:0.19543783333333334\tcv-train-merror:0.0170305\n",
      "[1355]\tcv-test-merror:0.1954378333333333\tcv-train-merror:0.016996666666666663\n",
      "[1356]\tcv-test-merror:0.19545466666666667\tcv-train-merror:0.016969666666666668\n",
      "[1357]\tcv-test-merror:0.19537049999999997\tcv-train-merror:0.0168955\n",
      "[1358]\tcv-test-merror:0.19543783333333334\tcv-train-merror:0.016858666666666668\n",
      "[1359]\tcv-test-merror:0.19542099999999998\tcv-train-merror:0.016845166666666665\n",
      "[1360]\tcv-test-merror:0.19543783333333334\tcv-train-merror:0.016798\n",
      "[1361]\tcv-test-merror:0.19540416666666668\tcv-train-merror:0.016754333333333333\n",
      "[1362]\tcv-test-merror:0.1954546666666667\tcv-train-merror:0.0166935\n",
      "[1363]\tcv-test-merror:0.19560616666666666\tcv-train-merror:0.016680333333333335\n",
      "[1364]\tcv-test-merror:0.1955725\tcv-train-merror:0.016639666666666667\n",
      "[1365]\tcv-test-merror:0.19555566666666668\tcv-train-merror:0.016552166666666666\n",
      "[1366]\tcv-test-merror:0.1954546666666667\tcv-train-merror:0.016521833333333333\n",
      "[1367]\tcv-test-merror:0.19542099999999998\tcv-train-merror:0.016515166666666668\n",
      "[1368]\tcv-test-merror:0.195522\tcv-train-merror:0.016434499999999998\n",
      "[1369]\tcv-test-merror:0.19563983333333335\tcv-train-merror:0.016400666666666664\n",
      "[1370]\tcv-test-merror:0.19562300000000002\tcv-train-merror:0.016323333333333332\n",
      "[1371]\tcv-test-merror:0.19563983333333335\tcv-train-merror:0.016266\n",
      "[1372]\tcv-test-merror:0.19547150000000002\tcv-train-merror:0.016229\n",
      "[1373]\tcv-test-merror:0.1955725\tcv-train-merror:0.016192\n",
      "[1374]\tcv-test-merror:0.19553883333333333\tcv-train-merror:0.016164833333333333\n",
      "[1375]\tcv-test-merror:0.19563983333333332\tcv-train-merror:0.016144833333333334\n",
      "[1376]\tcv-test-merror:0.19560616666666666\tcv-train-merror:0.016107666666666662\n",
      "[1377]\tcv-test-merror:0.195724\tcv-train-merror:0.016013333333333334\n",
      "[1378]\tcv-test-merror:0.195522\tcv-train-merror:0.015993333333333335\n",
      "[1379]\tcv-test-merror:0.19552199999999997\tcv-train-merror:0.015973\n",
      "[1380]\tcv-test-merror:0.19553883333333333\tcv-train-merror:0.015908999999999996\n",
      "[1381]\tcv-test-merror:0.1955725\tcv-train-merror:0.015871999999999997\n",
      "[1382]\tcv-test-merror:0.19545466666666664\tcv-train-merror:0.015855166666666667\n",
      "[1383]\tcv-test-merror:0.19543783333333334\tcv-train-merror:0.015784666666666666\n",
      "[1384]\tcv-test-merror:0.19543783333333334\tcv-train-merror:0.015761\n",
      "[1385]\tcv-test-merror:0.1953705\tcv-train-merror:0.015700500000000003\n",
      "[1386]\tcv-test-merror:0.1953705\tcv-train-merror:0.0156835\n",
      "[1387]\tcv-test-merror:0.19535366666666668\tcv-train-merror:0.0156635\n",
      "[1388]\tcv-test-merror:0.19540416666666668\tcv-train-merror:0.015632833333333332\n",
      "[1389]\tcv-test-merror:0.1953031666666667\tcv-train-merror:0.015569\n",
      "[1390]\tcv-test-merror:0.19545466666666667\tcv-train-merror:0.015525333333333335\n",
      "[1391]\tcv-test-merror:0.19540416666666668\tcv-train-merror:0.015501500000000001\n",
      "[1392]\tcv-test-merror:0.1953705\tcv-train-merror:0.015457833333333332\n",
      "[1393]\tcv-test-merror:0.19530316666666667\tcv-train-merror:0.015417666666666665\n",
      "[1394]\tcv-test-merror:0.19533683333333332\tcv-train-merror:0.015360333333333332\n",
      "[1395]\tcv-test-merror:0.19532000000000002\tcv-train-merror:0.015353666666666668\n",
      "[1396]\tcv-test-merror:0.19526949999999998\tcv-train-merror:0.015319833333333333\n",
      "[1397]\tcv-test-merror:0.19538733333333336\tcv-train-merror:0.015293000000000001\n",
      "[1398]\tcv-test-merror:0.19538733333333333\tcv-train-merror:0.015239166666666665\n",
      "[1399]\tcv-test-merror:0.1954715\tcv-train-merror:0.015225666666666665\n",
      "[1400]\tcv-test-merror:0.19545466666666667\tcv-train-merror:0.015218833333333334\n",
      "[1401]\tcv-test-merror:0.19542099999999998\tcv-train-merror:0.015208666666666667\n",
      "[1402]\tcv-test-merror:0.19543783333333334\tcv-train-merror:0.015161666666666665\n",
      "[1403]\tcv-test-merror:0.19538733333333333\tcv-train-merror:0.015138166666666666\n",
      "[1404]\tcv-test-merror:0.19540416666666668\tcv-train-merror:0.015097666666666667\n",
      "[1405]\tcv-test-merror:0.19535366666666665\tcv-train-merror:0.015054\n",
      "[1406]\tcv-test-merror:0.19533683333333338\tcv-train-merror:0.015013666666666666\n",
      "[1407]\tcv-test-merror:0.19533683333333332\tcv-train-merror:0.0150305\n",
      "[1408]\tcv-test-merror:0.1953705\tcv-train-merror:0.014993333333333332\n",
      "[1409]\tcv-test-merror:0.19553883333333333\tcv-train-merror:0.014963166666666666\n",
      "[1410]\tcv-test-merror:0.19555566666666668\tcv-train-merror:0.014953\n",
      "[1411]\tcv-test-merror:0.19552199999999997\tcv-train-merror:0.014926\n",
      "[1412]\tcv-test-merror:0.1954715\tcv-train-merror:0.014882166666666667\n",
      "[1413]\tcv-test-merror:0.19555566666666666\tcv-train-merror:0.014831666666666667\n",
      "[1414]\tcv-test-merror:0.19560616666666664\tcv-train-merror:0.0148045\n",
      "[1415]\tcv-test-merror:0.19562300000000002\tcv-train-merror:0.014754333333333335\n",
      "[1416]\tcv-test-merror:0.19574083333333334\tcv-train-merror:0.014737166666666668\n",
      "[1417]\tcv-test-merror:0.19579133333333332\tcv-train-merror:0.014723833333333332\n",
      "[1418]\tcv-test-merror:0.19579133333333332\tcv-train-merror:0.014666666666666666\n",
      "[1419]\tcv-test-merror:0.19567349999999997\tcv-train-merror:0.014606000000000001\n",
      "[1420]\tcv-test-merror:0.19560616666666664\tcv-train-merror:0.014565666666666666\n",
      "[1421]\tcv-test-merror:0.19548833333333335\tcv-train-merror:0.014548833333333332\n",
      "[1422]\tcv-test-merror:0.19550516666666665\tcv-train-merror:0.014495\n",
      "[1423]\tcv-test-merror:0.19542099999999998\tcv-train-merror:0.014447666666666666\n",
      "[1424]\tcv-test-merror:0.19543783333333334\tcv-train-merror:0.014397166666666667\n",
      "[1425]\tcv-test-merror:0.1953705\tcv-train-merror:0.01436\n",
      "[1426]\tcv-test-merror:0.19538733333333333\tcv-train-merror:0.014336666666666664\n",
      "[1427]\tcv-test-merror:0.19545466666666667\tcv-train-merror:0.014306333333333332\n",
      "[1428]\tcv-test-merror:0.19550516666666665\tcv-train-merror:0.014292833333333333\n",
      "[1429]\tcv-test-merror:0.19552199999999997\tcv-train-merror:0.014228833333333335\n",
      "[1430]\tcv-test-merror:0.19553883333333333\tcv-train-merror:0.014208666666666668\n",
      "[1431]\tcv-test-merror:0.1955893333333333\tcv-train-merror:0.014178500000000002\n",
      "[1432]\tcv-test-merror:0.1955725\tcv-train-merror:0.014138\n",
      "[1433]\tcv-test-merror:0.19563983333333332\tcv-train-merror:0.014121333333333333\n",
      "[1434]\tcv-test-merror:0.19565666666666667\tcv-train-merror:0.014097666666666666\n",
      "[1435]\tcv-test-merror:0.19567350000000003\tcv-train-merror:0.014060499999999998\n",
      "[1436]\tcv-test-merror:0.19567350000000003\tcv-train-merror:0.014013499999999998\n",
      "[1437]\tcv-test-merror:0.19565666666666667\tcv-train-merror:0.014016833333333333\n",
      "[1438]\tcv-test-merror:0.19563983333333335\tcv-train-merror:0.013996666666666666\n",
      "[1439]\tcv-test-merror:0.19575766666666664\tcv-train-merror:0.013963000000000001\n",
      "[1440]\tcv-test-merror:0.1958418333333333\tcv-train-merror:0.013908999999999998\n",
      "[1441]\tcv-test-merror:0.19580816666666667\tcv-train-merror:0.013895333333333334\n",
      "[1442]\tcv-test-merror:0.19569033333333333\tcv-train-merror:0.013882166666666666\n",
      "[1443]\tcv-test-merror:0.195724\tcv-train-merror:0.013838333333333333\n",
      "[1444]\tcv-test-merror:0.19567350000000003\tcv-train-merror:0.013798\n",
      "[1445]\tcv-test-merror:0.19563983333333335\tcv-train-merror:0.013771166666666666\n",
      "[1446]\tcv-test-merror:0.19569033333333333\tcv-train-merror:0.013774333333333333\n",
      "[1447]\tcv-test-merror:0.1955725\tcv-train-merror:0.013754\n",
      "[1448]\tcv-test-merror:0.19560616666666664\tcv-train-merror:0.013700333333333333\n",
      "[1449]\tcv-test-merror:0.19555566666666668\tcv-train-merror:0.013663333333333333\n",
      "[1450]\tcv-test-merror:0.19562300000000002\tcv-train-merror:0.013629666666666667\n",
      "[1451]\tcv-test-merror:0.195623\tcv-train-merror:0.013616166666666665\n",
      "[1452]\tcv-test-merror:0.1956903333333333\tcv-train-merror:0.013575666666666666\n",
      "[1453]\tcv-test-merror:0.19574083333333334\tcv-train-merror:0.013525333333333334\n",
      "[1454]\tcv-test-merror:0.19560616666666666\tcv-train-merror:0.013484833333333333\n",
      "[1455]\tcv-test-merror:0.19567349999999997\tcv-train-merror:0.013441166666666665\n",
      "[1456]\tcv-test-merror:0.195623\tcv-train-merror:0.013400666666666667\n",
      "[1457]\tcv-test-merror:0.19560616666666666\tcv-train-merror:0.013373833333333333\n",
      "[1458]\tcv-test-merror:0.1955893333333333\tcv-train-merror:0.013326666666666667\n",
      "[1459]\tcv-test-merror:0.19563983333333335\tcv-train-merror:0.013293000000000001\n",
      "[1460]\tcv-test-merror:0.19569033333333333\tcv-train-merror:0.013266166666666667\n",
      "[1461]\tcv-test-merror:0.1955893333333333\tcv-train-merror:0.013262666666666666\n",
      "[1462]\tcv-test-merror:0.1955893333333333\tcv-train-merror:0.013171500000000001\n",
      "[1463]\tcv-test-merror:0.1955893333333333\tcv-train-merror:0.013127833333333332\n",
      "[1464]\tcv-test-merror:0.19567349999999997\tcv-train-merror:0.013094166666666669\n",
      "[1465]\tcv-test-merror:0.19570716666666668\tcv-train-merror:0.013070666666666668\n",
      "[1466]\tcv-test-merror:0.19569033333333333\tcv-train-merror:0.013047166666666667\n",
      "[1467]\tcv-test-merror:0.19574083333333334\tcv-train-merror:0.013006666666666666\n",
      "[1468]\tcv-test-merror:0.19567350000000003\tcv-train-merror:0.012969666666666666\n",
      "[1469]\tcv-test-merror:0.19565666666666667\tcv-train-merror:0.012929333333333333\n",
      "[1470]\tcv-test-merror:0.19563983333333335\tcv-train-merror:0.012919166666666667\n",
      "[1471]\tcv-test-merror:0.19563983333333335\tcv-train-merror:0.012875333333333334\n",
      "[1472]\tcv-test-merror:0.1955725\tcv-train-merror:0.012852\n",
      "[1473]\tcv-test-merror:0.19553883333333333\tcv-train-merror:0.0128215\n",
      "[1474]\tcv-test-merror:0.19553883333333333\tcv-train-merror:0.012797999999999999\n",
      "[1475]\tcv-test-merror:0.19553883333333333\tcv-train-merror:0.012787833333333333\n",
      "[1476]\tcv-test-merror:0.19533683333333332\tcv-train-merror:0.012781166666666665\n",
      "[1477]\tcv-test-merror:0.19533683333333332\tcv-train-merror:0.012750666666666665\n",
      "[1478]\tcv-test-merror:0.1954378333333333\tcv-train-merror:0.012713666666666667\n",
      "[1479]\tcv-test-merror:0.1954546666666667\tcv-train-merror:0.012703666666666667\n",
      "[1480]\tcv-test-merror:0.19540416666666668\tcv-train-merror:0.012666666666666666\n",
      "[1481]\tcv-test-merror:0.19533683333333332\tcv-train-merror:0.012643166666666669\n",
      "[1482]\tcv-test-merror:0.1953031666666667\tcv-train-merror:0.012592666666666669\n",
      "[1483]\tcv-test-merror:0.19530316666666667\tcv-train-merror:0.012531666666666665\n",
      "[1484]\tcv-test-merror:0.19532000000000002\tcv-train-merror:0.012508333333333335\n",
      "[1485]\tcv-test-merror:0.19525266666666666\tcv-train-merror:0.012468\n",
      "[1486]\tcv-test-merror:0.19518533333333335\tcv-train-merror:0.012410833333333331\n",
      "[1487]\tcv-test-merror:0.19518533333333335\tcv-train-merror:0.012377166666666667\n",
      "[1488]\tcv-test-merror:0.19521900000000003\tcv-train-merror:0.012353666666666666\n",
      "[1489]\tcv-test-merror:0.1952695\tcv-train-merror:0.012336666666666668\n",
      "[1490]\tcv-test-merror:0.19526949999999998\tcv-train-merror:0.012326666666666666\n",
      "[1491]\tcv-test-merror:0.19515166666666664\tcv-train-merror:0.012296333333333333\n",
      "[1492]\tcv-test-merror:0.19526949999999998\tcv-train-merror:0.012279333333333335\n",
      "[1493]\tcv-test-merror:0.19530316666666667\tcv-train-merror:0.0122725\n",
      "[1494]\tcv-test-merror:0.19542099999999998\tcv-train-merror:0.012239166666666667\n",
      "[1495]\tcv-test-merror:0.19543783333333334\tcv-train-merror:0.012218833333333332\n",
      "[1496]\tcv-test-merror:0.19532000000000002\tcv-train-merror:0.01219533333333333\n",
      "[1497]\tcv-test-merror:0.19530316666666667\tcv-train-merror:0.0121715\n",
      "[1498]\tcv-test-merror:0.19530316666666667\tcv-train-merror:0.012144833333333334\n",
      "[1499]\tcv-test-merror:0.19538733333333336\tcv-train-merror:0.012091\n",
      "[1500]\tcv-test-merror:0.19540416666666668\tcv-train-merror:0.012050333333333331\n",
      "[1501]\tcv-test-merror:0.1954715\tcv-train-merror:0.012009833333333332\n",
      "[1502]\tcv-test-merror:0.1954715\tcv-train-merror:0.011962833333333332\n",
      "[1503]\tcv-test-merror:0.19548833333333335\tcv-train-merror:0.0119595\n",
      "[1504]\tcv-test-merror:0.19555566666666668\tcv-train-merror:0.011929333333333333\n",
      "[1505]\tcv-test-merror:0.19558933333333337\tcv-train-merror:0.011918999999999999\n",
      "[1506]\tcv-test-merror:0.19553883333333333\tcv-train-merror:0.011895500000000002\n",
      "[1507]\tcv-test-merror:0.195522\tcv-train-merror:0.011858666666666668\n",
      "[1508]\tcv-test-merror:0.19555566666666666\tcv-train-merror:0.011828333333333335\n",
      "[1509]\tcv-test-merror:0.19553883333333333\tcv-train-merror:0.011791166666666667\n",
      "[1510]\tcv-test-merror:0.19560616666666666\tcv-train-merror:0.011737499999999998\n",
      "[1511]\tcv-test-merror:0.19542099999999998\tcv-train-merror:0.011710499999999999\n",
      "[1512]\tcv-test-merror:0.195522\tcv-train-merror:0.011690333333333332\n",
      "[1513]\tcv-test-merror:0.1955725\tcv-train-merror:0.011653333333333335\n",
      "[1514]\tcv-test-merror:0.19550516666666665\tcv-train-merror:0.011639500000000002\n",
      "[1515]\tcv-test-merror:0.19548833333333335\tcv-train-merror:0.011606\n",
      "[1516]\tcv-test-merror:0.19550516666666665\tcv-train-merror:0.011562333333333332\n",
      "[1517]\tcv-test-merror:0.19553883333333333\tcv-train-merror:0.011535333333333333\n",
      "[1518]\tcv-test-merror:0.195623\tcv-train-merror:0.011508333333333334\n",
      "[1519]\tcv-test-merror:0.195724\tcv-train-merror:0.011481499999999999\n",
      "[1520]\tcv-test-merror:0.19570716666666665\tcv-train-merror:0.011474666666666666\n",
      "[1521]\tcv-test-merror:0.195623\tcv-train-merror:0.011431166666666666\n",
      "[1522]\tcv-test-merror:0.19563983333333335\tcv-train-merror:0.011394000000000001\n",
      "[1523]\tcv-test-merror:0.19563983333333335\tcv-train-merror:0.011346999999999998\n",
      "[1524]\tcv-test-merror:0.19545466666666667\tcv-train-merror:0.011306499999999999\n",
      "[1525]\tcv-test-merror:0.19555566666666668\tcv-train-merror:0.011296666666666668\n",
      "[1526]\tcv-test-merror:0.19558933333333337\tcv-train-merror:0.011276166666666665\n",
      "[1527]\tcv-test-merror:0.19550516666666665\tcv-train-merror:0.011219000000000002\n",
      "[1528]\tcv-test-merror:0.19569033333333333\tcv-train-merror:0.011205666666666668\n",
      "[1529]\tcv-test-merror:0.1955893333333333\tcv-train-merror:0.011185166666666668\n",
      "[1530]\tcv-test-merror:0.1955893333333333\tcv-train-merror:0.011148333333333335\n",
      "[1531]\tcv-test-merror:0.19560616666666664\tcv-train-merror:0.0111315\n",
      "[1532]\tcv-test-merror:0.19550516666666665\tcv-train-merror:0.011114500000000001\n",
      "[1533]\tcv-test-merror:0.19558933333333337\tcv-train-merror:0.011081\n",
      "[1534]\tcv-test-merror:0.19560616666666666\tcv-train-merror:0.011043666666666669\n",
      "[1535]\tcv-test-merror:0.1955893333333333\tcv-train-merror:0.0110035\n",
      "[1536]\tcv-test-merror:0.19553883333333333\tcv-train-merror:0.0109765\n",
      "[1537]\tcv-test-merror:0.19553883333333333\tcv-train-merror:0.010962666666666667\n",
      "[1538]\tcv-test-merror:0.19550516666666665\tcv-train-merror:0.010925666666666667\n",
      "[1539]\tcv-test-merror:0.195522\tcv-train-merror:0.010915833333333333\n",
      "[1540]\tcv-test-merror:0.19553883333333336\tcv-train-merror:0.010919166666666666\n",
      "[1541]\tcv-test-merror:0.19560616666666666\tcv-train-merror:0.010902333333333333\n",
      "[1542]\tcv-test-merror:0.19563983333333335\tcv-train-merror:0.010875333333333334\n",
      "[1543]\tcv-test-merror:0.1955051666666667\tcv-train-merror:0.010851666666666667\n",
      "[1544]\tcv-test-merror:0.19555566666666668\tcv-train-merror:0.010804833333333335\n",
      "[1545]\tcv-test-merror:0.19558933333333337\tcv-train-merror:0.0107845\n",
      "[1546]\tcv-test-merror:0.19565666666666667\tcv-train-merror:0.010764166666666667\n",
      "[1547]\tcv-test-merror:0.19560616666666666\tcv-train-merror:0.010740833333333333\n",
      "[1548]\tcv-test-merror:0.19562300000000002\tcv-train-merror:0.010730499999999999\n",
      "[1549]\tcv-test-merror:0.19565666666666667\tcv-train-merror:0.010686666666666669\n",
      "[1550]\tcv-test-merror:0.19570716666666668\tcv-train-merror:0.010663333333333332\n",
      "[1551]\tcv-test-merror:0.195724\tcv-train-merror:0.010629666666666667\n",
      "[1552]\tcv-test-merror:0.19563983333333335\tcv-train-merror:0.01058583333333333\n",
      "[1553]\tcv-test-merror:0.19567349999999997\tcv-train-merror:0.010542166666666667\n",
      "[1554]\tcv-test-merror:0.19563983333333335\tcv-train-merror:0.010528500000000001\n",
      "[1555]\tcv-test-merror:0.19563983333333335\tcv-train-merror:0.010498333333333333\n",
      "[1556]\tcv-test-merror:0.19558933333333337\tcv-train-merror:0.010474666666666667\n",
      "[1557]\tcv-test-merror:0.19547150000000002\tcv-train-merror:0.010430833333333334\n",
      "[1558]\tcv-test-merror:0.19548833333333335\tcv-train-merror:0.010370166666666666\n",
      "[1559]\tcv-test-merror:0.19547150000000002\tcv-train-merror:0.0103535\n",
      "[1560]\tcv-test-merror:0.19543783333333334\tcv-train-merror:0.010357\n",
      "[1561]\tcv-test-merror:0.19545466666666667\tcv-train-merror:0.01034\n",
      "[1562]\tcv-test-merror:0.19543783333333334\tcv-train-merror:0.01033\n",
      "[1563]\tcv-test-merror:0.19550516666666665\tcv-train-merror:0.010306333333333332\n",
      "[1564]\tcv-test-merror:0.1955725\tcv-train-merror:0.010279333333333333\n",
      "[1565]\tcv-test-merror:0.19542099999999998\tcv-train-merror:0.010262666666666668\n",
      "[1566]\tcv-test-merror:0.19545466666666667\tcv-train-merror:0.010225499999999998\n",
      "[1567]\tcv-test-merror:0.19548833333333335\tcv-train-merror:0.010211999999999999\n",
      "[1568]\tcv-test-merror:0.19545466666666667\tcv-train-merror:0.010181833333333333\n",
      "[1569]\tcv-test-merror:0.19542099999999998\tcv-train-merror:0.010164999999999999\n",
      "[1570]\tcv-test-merror:0.19540416666666668\tcv-train-merror:0.010117833333333335\n",
      "[1571]\tcv-test-merror:0.1954378333333333\tcv-train-merror:0.010094333333333334\n",
      "[1572]\tcv-test-merror:0.19547150000000002\tcv-train-merror:0.010080666666666667\n",
      "[1573]\tcv-test-merror:0.1953031666666667\tcv-train-merror:0.010043666666666666\n",
      "[1574]\tcv-test-merror:0.19535366666666668\tcv-train-merror:0.010006833333333333\n",
      "[1575]\tcv-test-merror:0.1953705\tcv-train-merror:0.009993333333333333\n",
      "[1576]\tcv-test-merror:0.19518533333333332\tcv-train-merror:0.009942666666666667\n",
      "[1577]\tcv-test-merror:0.19525266666666666\tcv-train-merror:0.009946166666666667\n",
      "[1578]\tcv-test-merror:0.19526949999999998\tcv-train-merror:0.009928999999999999\n",
      "[1579]\tcv-test-merror:0.19538733333333333\tcv-train-merror:0.0098755\n",
      "[1580]\tcv-test-merror:0.19532000000000002\tcv-train-merror:0.009858666666666667\n",
      "[1581]\tcv-test-merror:0.1953705\tcv-train-merror:0.009807999999999999\n",
      "[1582]\tcv-test-merror:0.195219\tcv-train-merror:0.009787833333333332\n",
      "[1583]\tcv-test-merror:0.1953705\tcv-train-merror:0.0097845\n",
      "[1584]\tcv-test-merror:0.19531999999999997\tcv-train-merror:0.009740833333333332\n",
      "[1585]\tcv-test-merror:0.19533683333333332\tcv-train-merror:0.009730666666666667\n",
      "[1586]\tcv-test-merror:0.19538733333333333\tcv-train-merror:0.009713666666666667\n",
      "[1587]\tcv-test-merror:0.1954715\tcv-train-merror:0.009687000000000001\n",
      "[1588]\tcv-test-merror:0.1954715\tcv-train-merror:0.009690333333333334\n",
      "[1589]\tcv-test-merror:0.19545466666666667\tcv-train-merror:0.009680166666666667\n",
      "[1590]\tcv-test-merror:0.19533683333333332\tcv-train-merror:0.009622833333333336\n",
      "[1591]\tcv-test-merror:0.19528633333333334\tcv-train-merror:0.009623000000000001\n",
      "[1592]\tcv-test-merror:0.1953705\tcv-train-merror:0.009592666666666666\n",
      "[1593]\tcv-test-merror:0.19531999999999997\tcv-train-merror:0.009575666666666668\n",
      "[1594]\tcv-test-merror:0.19547150000000002\tcv-train-merror:0.0095255\n",
      "[1595]\tcv-test-merror:0.19550516666666665\tcv-train-merror:0.009484666666666667\n",
      "[1596]\tcv-test-merror:0.19550516666666665\tcv-train-merror:0.009467999999999999\n",
      "[1597]\tcv-test-merror:0.19550516666666665\tcv-train-merror:0.0094275\n",
      "[1598]\tcv-test-merror:0.19542099999999998\tcv-train-merror:0.009417666666666666\n",
      "[1599]\tcv-test-merror:0.19547150000000002\tcv-train-merror:0.0093805\n",
      "[1600]\tcv-test-merror:0.19555566666666668\tcv-train-merror:0.009336666666666668\n",
      "[1601]\tcv-test-merror:0.19560616666666664\tcv-train-merror:0.009296333333333335\n",
      "[1602]\tcv-test-merror:0.19565666666666667\tcv-train-merror:0.009249166666666668\n",
      "[1603]\tcv-test-merror:0.19570716666666665\tcv-train-merror:0.009235833333333332\n",
      "[1604]\tcv-test-merror:0.19563983333333335\tcv-train-merror:0.009205333333333334\n",
      "[1605]\tcv-test-merror:0.19560616666666664\tcv-train-merror:0.009168500000000001\n",
      "[1606]\tcv-test-merror:0.1955725\tcv-train-merror:0.009168333333333332\n",
      "[1607]\tcv-test-merror:0.19563983333333335\tcv-train-merror:0.009138000000000002\n",
      "[1608]\tcv-test-merror:0.19567350000000003\tcv-train-merror:0.009090833333333333\n",
      "[1609]\tcv-test-merror:0.19560616666666666\tcv-train-merror:0.009057166666666666\n",
      "[1610]\tcv-test-merror:0.195623\tcv-train-merror:0.009047333333333333\n",
      "[1611]\tcv-test-merror:0.19567350000000003\tcv-train-merror:0.009016999999999999\n",
      "[1612]\tcv-test-merror:0.19553883333333333\tcv-train-merror:0.008976333333333331\n",
      "[1613]\tcv-test-merror:0.19567349999999997\tcv-train-merror:0.008969666666666667\n",
      "[1614]\tcv-test-merror:0.1955725\tcv-train-merror:0.008939333333333334\n",
      "[1615]\tcv-test-merror:0.19565666666666667\tcv-train-merror:0.008939333333333334\n",
      "[1616]\tcv-test-merror:0.19567349999999997\tcv-train-merror:0.0089225\n",
      "[1617]\tcv-test-merror:0.1955725\tcv-train-merror:0.008909\n",
      "[1618]\tcv-test-merror:0.19567349999999997\tcv-train-merror:0.008882333333333334\n",
      "[1619]\tcv-test-merror:0.19567350000000003\tcv-train-merror:0.0088655\n",
      "[1620]\tcv-test-merror:0.19570716666666668\tcv-train-merror:0.0088585\n",
      "[1621]\tcv-test-merror:0.19569033333333333\tcv-train-merror:0.008845333333333335\n",
      "[1622]\tcv-test-merror:0.19562300000000002\tcv-train-merror:0.008828333333333334\n",
      "[1623]\tcv-test-merror:0.195623\tcv-train-merror:0.0088115\n",
      "[1624]\tcv-test-merror:0.1955725\tcv-train-merror:0.0087845\n",
      "[1625]\tcv-test-merror:0.19555566666666668\tcv-train-merror:0.008764333333333334\n",
      "[1626]\tcv-test-merror:0.19555566666666668\tcv-train-merror:0.008744\n",
      "[1627]\tcv-test-merror:0.19553883333333333\tcv-train-merror:0.008710166666666666\n",
      "[1628]\tcv-test-merror:0.19563983333333335\tcv-train-merror:0.008669999999999999\n",
      "[1629]\tcv-test-merror:0.19567349999999997\tcv-train-merror:0.008656666666666667\n",
      "[1630]\tcv-test-merror:0.1955893333333333\tcv-train-merror:0.0086195\n",
      "[1631]\tcv-test-merror:0.19563983333333335\tcv-train-merror:0.008616166666666668\n",
      "[1632]\tcv-test-merror:0.195724\tcv-train-merror:0.008585833333333332\n",
      "[1633]\tcv-test-merror:0.195724\tcv-train-merror:0.008548833333333334\n",
      "[1634]\tcv-test-merror:0.19565666666666667\tcv-train-merror:0.008491666666666666\n",
      "[1635]\tcv-test-merror:0.19570716666666668\tcv-train-merror:0.008494833333333333\n",
      "[1636]\tcv-test-merror:0.1957576666666667\tcv-train-merror:0.008481500000000001\n",
      "[1637]\tcv-test-merror:0.1957576666666667\tcv-train-merror:0.008464666666666667\n",
      "[1638]\tcv-test-merror:0.19574083333333336\tcv-train-merror:0.008478166666666667\n",
      "[1639]\tcv-test-merror:0.1957745\tcv-train-merror:0.008454333333333333\n",
      "[1640]\tcv-test-merror:0.19565666666666667\tcv-train-merror:0.008414\n",
      "[1641]\tcv-test-merror:0.19569033333333333\tcv-train-merror:0.008407333333333333\n",
      "[1642]\tcv-test-merror:0.195623\tcv-train-merror:0.008367166666666667\n",
      "[1643]\tcv-test-merror:0.19555566666666666\tcv-train-merror:0.008357000000000002\n",
      "[1644]\tcv-test-merror:0.19535366666666665\tcv-train-merror:0.008316666666666667\n",
      "[1645]\tcv-test-merror:0.19563983333333335\tcv-train-merror:0.008272833333333333\n",
      "[1646]\tcv-test-merror:0.19560616666666666\tcv-train-merror:0.008259166666666666\n",
      "[1647]\tcv-test-merror:0.19572399999999998\tcv-train-merror:0.008242333333333334\n",
      "[1648]\tcv-test-merror:0.195724\tcv-train-merror:0.008208666666666668\n",
      "[1649]\tcv-test-merror:0.19567350000000003\tcv-train-merror:0.0081615\n",
      "[1650]\tcv-test-merror:0.1956566666666667\tcv-train-merror:0.008141333333333332\n",
      "[1651]\tcv-test-merror:0.1957576666666667\tcv-train-merror:0.008138\n",
      "[1652]\tcv-test-merror:0.19574083333333334\tcv-train-merror:0.008121000000000001\n",
      "[1653]\tcv-test-merror:0.195724\tcv-train-merror:0.008097666666666668\n",
      "[1654]\tcv-test-merror:0.19574083333333334\tcv-train-merror:0.008084\n",
      "[1655]\tcv-test-merror:0.1957576666666667\tcv-train-merror:0.008067166666666665\n",
      "[1656]\tcv-test-merror:0.19575766666666664\tcv-train-merror:0.008043666666666666\n",
      "[1657]\tcv-test-merror:0.1956903333333333\tcv-train-merror:0.008017\n",
      "[1658]\tcv-test-merror:0.19570716666666668\tcv-train-merror:0.008010166666666667\n",
      "[1659]\tcv-test-merror:0.19574083333333334\tcv-train-merror:0.008010333333333333\n",
      "[1660]\tcv-test-merror:0.19574083333333334\tcv-train-merror:0.007993333333333333\n",
      "[1661]\tcv-test-merror:0.195825\tcv-train-merror:0.00798\n",
      "[1662]\tcv-test-merror:0.19584183333333335\tcv-train-merror:0.007983333333333334\n",
      "[1663]\tcv-test-merror:0.19584183333333335\tcv-train-merror:0.007966166666666668\n",
      "[1664]\tcv-test-merror:0.19580816666666664\tcv-train-merror:0.007929333333333333\n",
      "[1665]\tcv-test-merror:0.19580816666666667\tcv-train-merror:0.007922666666666666\n",
      "[1666]\tcv-test-merror:0.19590916666666666\tcv-train-merror:0.007902166666666667\n",
      "[1667]\tcv-test-merror:0.19595966666666667\tcv-train-merror:0.0078755\n",
      "[1668]\tcv-test-merror:0.1957576666666667\tcv-train-merror:0.007862000000000001\n",
      "[1669]\tcv-test-merror:0.19577449999999996\tcv-train-merror:0.0078315\n",
      "[1670]\tcv-test-merror:0.19579133333333332\tcv-train-merror:0.007821333333333333\n",
      "[1671]\tcv-test-merror:0.1958755\tcv-train-merror:0.007825\n",
      "[1672]\tcv-test-merror:0.19589233333333333\tcv-train-merror:0.007771\n",
      "[1673]\tcv-test-merror:0.19585866666666665\tcv-train-merror:0.0077745\n",
      "[1674]\tcv-test-merror:0.19585866666666665\tcv-train-merror:0.0077545\n",
      "[1675]\tcv-test-merror:0.1958755\tcv-train-merror:0.0077273333333333334\n",
      "[1676]\tcv-test-merror:0.19587549999999998\tcv-train-merror:0.007696833333333333\n",
      "[1677]\tcv-test-merror:0.19594283333333337\tcv-train-merror:0.007670166666666666\n",
      "[1678]\tcv-test-merror:0.19601016666666668\tcv-train-merror:0.007649833333333335\n",
      "[1679]\tcv-test-merror:0.19592600000000002\tcv-train-merror:0.0076331666666666674\n",
      "[1680]\tcv-test-merror:0.19595966666666664\tcv-train-merror:0.0076230000000000004\n",
      "[1681]\tcv-test-merror:0.19594283333333332\tcv-train-merror:0.007579166666666667\n",
      "[1682]\tcv-test-merror:0.1959765\tcv-train-merror:0.007559\n",
      "[1683]\tcv-test-merror:0.1959765\tcv-train-merror:0.0075355000000000005\n",
      "[1684]\tcv-test-merror:0.1958755\tcv-train-merror:0.007501666666666667\n",
      "[1685]\tcv-test-merror:0.19584183333333335\tcv-train-merror:0.007498166666666667\n",
      "[1686]\tcv-test-merror:0.19595966666666667\tcv-train-merror:0.0074681666666666655\n",
      "[1687]\tcv-test-merror:0.19595966666666667\tcv-train-merror:0.007447833333333333\n",
      "[1688]\tcv-test-merror:0.19590916666666666\tcv-train-merror:0.0074275\n",
      "[1689]\tcv-test-merror:0.19599333333333332\tcv-train-merror:0.0074006666666666665\n",
      "[1690]\tcv-test-merror:0.19599333333333332\tcv-train-merror:0.007393833333333333\n",
      "[1691]\tcv-test-merror:0.1959765\tcv-train-merror:0.007370500000000001\n",
      "[1692]\tcv-test-merror:0.19594283333333332\tcv-train-merror:0.007340166666666668\n",
      "[1693]\tcv-test-merror:0.19584183333333335\tcv-train-merror:0.007313333333333334\n",
      "[1694]\tcv-test-merror:0.19592599999999996\tcv-train-merror:0.0072795\n",
      "[1695]\tcv-test-merror:0.1959765\tcv-train-merror:0.007256166666666667\n",
      "[1696]\tcv-test-merror:0.19589233333333333\tcv-train-merror:0.007255999999999999\n",
      "[1697]\tcv-test-merror:0.19594283333333332\tcv-train-merror:0.007218833333333333\n",
      "[1698]\tcv-test-merror:0.19587549999999998\tcv-train-merror:0.007212\n",
      "[1699]\tcv-test-merror:0.19602700000000003\tcv-train-merror:0.007185\n",
      "[1700]\tcv-test-merror:0.19599333333333335\tcv-train-merror:0.007185\n",
      "[1701]\tcv-test-merror:0.19599333333333335\tcv-train-merror:0.007165\n",
      "[1702]\tcv-test-merror:0.19607750000000002\tcv-train-merror:0.0071618333333333326\n",
      "[1703]\tcv-test-merror:0.1961111666666667\tcv-train-merror:0.0071583333333333325\n",
      "[1704]\tcv-test-merror:0.1961785\tcv-train-merror:0.007128\n",
      "[1705]\tcv-test-merror:0.1961111666666667\tcv-train-merror:0.007097833333333334\n",
      "[1706]\tcv-test-merror:0.19621216666666666\tcv-train-merror:0.007087499999999999\n",
      "[1707]\tcv-test-merror:0.196128\tcv-train-merror:0.0070606666666666665\n",
      "[1708]\tcv-test-merror:0.19607750000000002\tcv-train-merror:0.007036999999999999\n",
      "[1709]\tcv-test-merror:0.19607750000000002\tcv-train-merror:0.007030333333333334\n",
      "[1710]\tcv-test-merror:0.19607750000000002\tcv-train-merror:0.007006666666666667\n",
      "[1711]\tcv-test-merror:0.1961785\tcv-train-merror:0.006996666666666666\n",
      "[1712]\tcv-test-merror:0.19614483333333332\tcv-train-merror:0.006999999999999999\n",
      "[1713]\tcv-test-merror:0.19609433333333334\tcv-train-merror:0.0069763333333333335\n",
      "[1714]\tcv-test-merror:0.19609433333333334\tcv-train-merror:0.006929333333333333\n",
      "[1715]\tcv-test-merror:0.1960606666666667\tcv-train-merror:0.006922666666666667\n",
      "[1716]\tcv-test-merror:0.19595966666666667\tcv-train-merror:0.006922500000000001\n",
      "[1717]\tcv-test-merror:0.19594283333333337\tcv-train-merror:0.006902333333333334\n",
      "[1718]\tcv-test-merror:0.19589233333333333\tcv-train-merror:0.006868666666666666\n",
      "[1719]\tcv-test-merror:0.19595966666666667\tcv-train-merror:0.0068383333333333325\n",
      "[1720]\tcv-test-merror:0.19594283333333337\tcv-train-merror:0.006821500000000001\n",
      "[1721]\tcv-test-merror:0.1960606666666667\tcv-train-merror:0.006801333333333333\n",
      "[1722]\tcv-test-merror:0.19601016666666668\tcv-train-merror:0.0067845000000000015\n",
      "[1723]\tcv-test-merror:0.19599333333333332\tcv-train-merror:0.006781\n",
      "[1724]\tcv-test-merror:0.1959765\tcv-train-merror:0.006761\n",
      "[1725]\tcv-test-merror:0.19592600000000002\tcv-train-merror:0.006743999999999999\n",
      "[1726]\tcv-test-merror:0.19590916666666666\tcv-train-merror:0.006730666666666666\n",
      "[1727]\tcv-test-merror:0.1959091666666667\tcv-train-merror:0.0067205\n",
      "[1728]\tcv-test-merror:0.19594283333333337\tcv-train-merror:0.006707\n",
      "[1729]\tcv-test-merror:0.19589233333333333\tcv-train-merror:0.006676666666666667\n",
      "[1730]\tcv-test-merror:0.19595966666666667\tcv-train-merror:0.006666666666666667\n",
      "[1731]\tcv-test-merror:0.19594283333333337\tcv-train-merror:0.006639666666666668\n",
      "[1732]\tcv-test-merror:0.19595966666666667\tcv-train-merror:0.006619333333333334\n",
      "[1733]\tcv-test-merror:0.1958586666666667\tcv-train-merror:0.006582333333333333\n",
      "[1734]\tcv-test-merror:0.19590916666666666\tcv-train-merror:0.006585833333333333\n",
      "[1735]\tcv-test-merror:0.1958755\tcv-train-merror:0.0065855\n",
      "[1736]\tcv-test-merror:0.1958586666666667\tcv-train-merror:0.006558833333333333\n",
      "[1737]\tcv-test-merror:0.195825\tcv-train-merror:0.0065625\n",
      "[1738]\tcv-test-merror:0.19585866666666665\tcv-train-merror:0.006542\n",
      "[1739]\tcv-test-merror:0.19590916666666666\tcv-train-merror:0.0065285000000000004\n",
      "[1740]\tcv-test-merror:0.195825\tcv-train-merror:0.0065049999999999995\n",
      "[1741]\tcv-test-merror:0.1958755\tcv-train-merror:0.006501666666666666\n",
      "[1742]\tcv-test-merror:0.1958755\tcv-train-merror:0.006461166666666667\n",
      "[1743]\tcv-test-merror:0.19592600000000002\tcv-train-merror:0.006441\n",
      "[1744]\tcv-test-merror:0.19599333333333332\tcv-train-merror:0.0064241666666666674\n",
      "[1745]\tcv-test-merror:0.19602699999999998\tcv-train-merror:0.006404\n",
      "[1746]\tcv-test-merror:0.19611116666666664\tcv-train-merror:0.006383833333333334\n",
      "[1747]\tcv-test-merror:0.19606066666666666\tcv-train-merror:0.0063735\n",
      "[1748]\tcv-test-merror:0.19616166666666668\tcv-train-merror:0.006353499999999999\n",
      "[1749]\tcv-test-merror:0.19621216666666666\tcv-train-merror:0.0063265\n",
      "[1750]\tcv-test-merror:0.1961111666666667\tcv-train-merror:0.0062928333333333334\n",
      "[1751]\tcv-test-merror:0.19611116666666664\tcv-train-merror:0.006282833333333334\n",
      "[1752]\tcv-test-merror:0.196128\tcv-train-merror:0.006266000000000001\n",
      "[1753]\tcv-test-merror:0.19614483333333332\tcv-train-merror:0.006256\n",
      "[1754]\tcv-test-merror:0.1961953333333333\tcv-train-merror:0.006225499999999999\n",
      "[1755]\tcv-test-merror:0.19629633333333332\tcv-train-merror:0.006188666666666666\n",
      "[1756]\tcv-test-merror:0.19622900000000001\tcv-train-merror:0.006185166666666666\n",
      "[1757]\tcv-test-merror:0.19609433333333334\tcv-train-merror:0.006175\n",
      "[1758]\tcv-test-merror:0.19609433333333334\tcv-train-merror:0.0061615\n",
      "[1759]\tcv-test-merror:0.19614483333333332\tcv-train-merror:0.006144833333333333\n",
      "[1760]\tcv-test-merror:0.196128\tcv-train-merror:0.006117666666666667\n",
      "[1761]\tcv-test-merror:0.19624583333333334\tcv-train-merror:0.006107666666666667\n",
      "[1762]\tcv-test-merror:0.19626266666666667\tcv-train-merror:0.006073833333333333\n",
      "[1763]\tcv-test-merror:0.19626266666666667\tcv-train-merror:0.006067166666666666\n",
      "[1764]\tcv-test-merror:0.196229\tcv-train-merror:0.006016833333333333\n",
      "[1765]\tcv-test-merror:0.1962458333333333\tcv-train-merror:0.006020166666666667\n",
      "[1766]\tcv-test-merror:0.19626266666666667\tcv-train-merror:0.005999833333333334\n",
      "[1767]\tcv-test-merror:0.1961785\tcv-train-merror:0.005986666666666667\n",
      "[1768]\tcv-test-merror:0.19616166666666668\tcv-train-merror:0.005962833333333333\n",
      "[1769]\tcv-test-merror:0.19616166666666668\tcv-train-merror:0.005936166666666667\n",
      "[1770]\tcv-test-merror:0.1961953333333333\tcv-train-merror:0.005939333333333334\n",
      "[1771]\tcv-test-merror:0.19619533333333336\tcv-train-merror:0.005909\n",
      "[1772]\tcv-test-merror:0.19612799999999997\tcv-train-merror:0.005892499999999999\n",
      "[1773]\tcv-test-merror:0.1960943333333333\tcv-train-merror:0.005882000000000001\n",
      "[1774]\tcv-test-merror:0.19601016666666662\tcv-train-merror:0.005872166666666665\n",
      "[1775]\tcv-test-merror:0.19604383333333333\tcv-train-merror:0.005865499999999999\n",
      "[1776]\tcv-test-merror:0.19602700000000003\tcv-train-merror:0.005838166666666666\n",
      "[1777]\tcv-test-merror:0.19606066666666666\tcv-train-merror:0.005831666666666666\n",
      "[1778]\tcv-test-merror:0.1959765\tcv-train-merror:0.005818166666666667\n",
      "[1779]\tcv-test-merror:0.19602699999999998\tcv-train-merror:0.005798\n",
      "[1780]\tcv-test-merror:0.19614483333333332\tcv-train-merror:0.005781333333333334\n",
      "[1781]\tcv-test-merror:0.1961111666666667\tcv-train-merror:0.005777666666666667\n",
      "[1782]\tcv-test-merror:0.1961111666666667\tcv-train-merror:0.005764333333333332\n",
      "[1783]\tcv-test-merror:0.19604383333333333\tcv-train-merror:0.005737666666666666\n",
      "[1784]\tcv-test-merror:0.19607750000000002\tcv-train-merror:0.005717166666666666\n",
      "[1785]\tcv-test-merror:0.1961785\tcv-train-merror:0.005693666666666666\n",
      "[1786]\tcv-test-merror:0.19616166666666665\tcv-train-merror:0.005687\n",
      "[1787]\tcv-test-merror:0.19609433333333334\tcv-train-merror:0.0056835\n",
      "[1788]\tcv-test-merror:0.1961785\tcv-train-merror:0.005653166666666667\n",
      "[1789]\tcv-test-merror:0.19614483333333332\tcv-train-merror:0.0056365\n",
      "[1790]\tcv-test-merror:0.1960943333333333\tcv-train-merror:0.005616166666666666\n",
      "[1791]\tcv-test-merror:0.19609433333333337\tcv-train-merror:0.0055925\n",
      "[1792]\tcv-test-merror:0.19616166666666668\tcv-train-merror:0.005575833333333333\n",
      "[1793]\tcv-test-merror:0.19607750000000002\tcv-train-merror:0.005575833333333333\n",
      "[1794]\tcv-test-merror:0.1961111666666667\tcv-train-merror:0.005552333333333334\n",
      "[1795]\tcv-test-merror:0.196128\tcv-train-merror:0.0055386666666666666\n",
      "[1796]\tcv-test-merror:0.1961111666666667\tcv-train-merror:0.005521999999999999\n",
      "[1797]\tcv-test-merror:0.19602699999999998\tcv-train-merror:0.005518833333333334\n",
      "[1798]\tcv-test-merror:0.19607750000000002\tcv-train-merror:0.005495166666666666\n",
      "[1799]\tcv-test-merror:0.19614483333333335\tcv-train-merror:0.005484833333333334\n",
      "[1800]\tcv-test-merror:0.19609433333333334\tcv-train-merror:0.005461333333333333\n",
      "[1801]\tcv-test-merror:0.1959765\tcv-train-merror:0.005441166666666667\n",
      "[1802]\tcv-test-merror:0.19609433333333334\tcv-train-merror:0.005434500000000001\n",
      "[1803]\tcv-test-merror:0.19609433333333337\tcv-train-merror:0.005431333333333333\n",
      "[1804]\tcv-test-merror:0.196128\tcv-train-merror:0.005410666666666667\n",
      "[1805]\tcv-test-merror:0.19614483333333332\tcv-train-merror:0.0053904999999999995\n",
      "[1806]\tcv-test-merror:0.1961953333333333\tcv-train-merror:0.005380333333333333\n",
      "[1807]\tcv-test-merror:0.19629633333333332\tcv-train-merror:0.005373666666666666\n",
      "[1808]\tcv-test-merror:0.19621216666666666\tcv-train-merror:0.005360333333333332\n",
      "[1809]\tcv-test-merror:0.19616166666666665\tcv-train-merror:0.005350166666666666\n",
      "[1810]\tcv-test-merror:0.196229\tcv-train-merror:0.005336833333333333\n",
      "[1811]\tcv-test-merror:0.196128\tcv-train-merror:0.005333500000000001\n",
      "[1812]\tcv-test-merror:0.19616166666666665\tcv-train-merror:0.0053300000000000005\n",
      "[1813]\tcv-test-merror:0.196229\tcv-train-merror:0.00531\n",
      "[1814]\tcv-test-merror:0.19631316666666665\tcv-train-merror:0.0053065\n",
      "[1815]\tcv-test-merror:0.196229\tcv-train-merror:0.005306333333333333\n",
      "[1816]\tcv-test-merror:0.19621216666666666\tcv-train-merror:0.005293\n",
      "[1817]\tcv-test-merror:0.19619533333333336\tcv-train-merror:0.005272833333333334\n",
      "[1818]\tcv-test-merror:0.19611116666666664\tcv-train-merror:0.005269500000000001\n",
      "[1819]\tcv-test-merror:0.19594283333333332\tcv-train-merror:0.005259333333333334\n",
      "[1820]\tcv-test-merror:0.19592600000000002\tcv-train-merror:0.005245833333333334\n",
      "[1821]\tcv-test-merror:0.1959765\tcv-train-merror:0.005242500000000001\n",
      "[1822]\tcv-test-merror:0.19592599999999996\tcv-train-merror:0.005222333333333333\n",
      "[1823]\tcv-test-merror:0.19595966666666667\tcv-train-merror:0.0052055\n",
      "[1824]\tcv-test-merror:0.1958755\tcv-train-merror:0.005192166666666667\n",
      "[1825]\tcv-test-merror:0.19602699999999998\tcv-train-merror:0.0051888333333333335\n",
      "[1826]\tcv-test-merror:0.196128\tcv-train-merror:0.005151666666666666\n",
      "[1827]\tcv-test-merror:0.19614483333333332\tcv-train-merror:0.005138\n",
      "[1828]\tcv-test-merror:0.19627950000000002\tcv-train-merror:0.0051145\n",
      "[1829]\tcv-test-merror:0.19631316666666668\tcv-train-merror:0.005104333333333334\n",
      "[1830]\tcv-test-merror:0.19633\tcv-train-merror:0.005097666666666666\n",
      "[1831]\tcv-test-merror:0.19627950000000002\tcv-train-merror:0.0050875\n",
      "[1832]\tcv-test-merror:0.19622900000000001\tcv-train-merror:0.0050504999999999994\n",
      "[1833]\tcv-test-merror:0.1962458333333333\tcv-train-merror:0.005043666666666666\n",
      "[1834]\tcv-test-merror:0.19621216666666666\tcv-train-merror:0.005033666666666666\n",
      "[1835]\tcv-test-merror:0.19629633333333332\tcv-train-merror:0.005013666666666666\n",
      "[1836]\tcv-test-merror:0.19638049999999999\tcv-train-merror:0.0049865000000000005\n",
      "[1837]\tcv-test-merror:0.19631316666666665\tcv-train-merror:0.0049900000000000005\n",
      "[1838]\tcv-test-merror:0.19621216666666666\tcv-train-merror:0.0049798333333333335\n",
      "[1839]\tcv-test-merror:0.19616166666666668\tcv-train-merror:0.004959666666666667\n",
      "[1840]\tcv-test-merror:0.19629633333333332\tcv-train-merror:0.004946333333333333\n",
      "[1841]\tcv-test-merror:0.19621216666666666\tcv-train-merror:0.0049225\n",
      "[1842]\tcv-test-merror:0.19626266666666667\tcv-train-merror:0.004922333333333333\n",
      "[1843]\tcv-test-merror:0.19639733333333334\tcv-train-merror:0.004915666666666666\n",
      "[1844]\tcv-test-merror:0.19638050000000004\tcv-train-merror:0.004915833333333334\n",
      "[1845]\tcv-test-merror:0.19641416666666667\tcv-train-merror:0.004888833333333334\n",
      "[1846]\tcv-test-merror:0.19627950000000002\tcv-train-merror:0.004878833333333333\n",
      "[1847]\tcv-test-merror:0.19629633333333338\tcv-train-merror:0.0048755000000000005\n",
      "[1848]\tcv-test-merror:0.19629633333333338\tcv-train-merror:0.0048755000000000005\n",
      "[1849]\tcv-test-merror:0.19627950000000002\tcv-train-merror:0.004868666666666666\n",
      "[1850]\tcv-test-merror:0.19622900000000001\tcv-train-merror:0.004862\n",
      "[1851]\tcv-test-merror:0.196229\tcv-train-merror:0.004845333333333333\n",
      "[1852]\tcv-test-merror:0.19614483333333332\tcv-train-merror:0.0048315\n",
      "[1853]\tcv-test-merror:0.19621216666666666\tcv-train-merror:0.004828333333333334\n",
      "[1854]\tcv-test-merror:0.19616166666666665\tcv-train-merror:0.004791333333333333\n",
      "[1855]\tcv-test-merror:0.19614483333333332\tcv-train-merror:0.004781166666666666\n",
      "[1856]\tcv-test-merror:0.1961953333333333\tcv-train-merror:0.004788\n",
      "[1857]\tcv-test-merror:0.19627950000000002\tcv-train-merror:0.0047675\n",
      "[1858]\tcv-test-merror:0.19631316666666668\tcv-train-merror:0.004754166666666667\n",
      "[1859]\tcv-test-merror:0.19633\tcv-train-merror:0.0047473333333333334\n",
      "[1860]\tcv-test-merror:0.19631316666666668\tcv-train-merror:0.004740666666666667\n",
      "[1861]\tcv-test-merror:0.19624583333333334\tcv-train-merror:0.004744000000000001\n",
      "[1862]\tcv-test-merror:0.19621216666666666\tcv-train-merror:0.004723666666666667\n",
      "[1863]\tcv-test-merror:0.19626266666666667\tcv-train-merror:0.0047305\n",
      "[1864]\tcv-test-merror:0.19631316666666668\tcv-train-merror:0.004707\n",
      "[1865]\tcv-test-merror:0.19633\tcv-train-merror:0.004703666666666668\n",
      "[1866]\tcv-test-merror:0.19638049999999999\tcv-train-merror:0.004693666666666666\n",
      "[1867]\tcv-test-merror:0.1963973333333333\tcv-train-merror:0.0046598333333333335\n",
      "[1868]\tcv-test-merror:0.19638049999999999\tcv-train-merror:0.004659666666666667\n",
      "[1869]\tcv-test-merror:0.19626266666666667\tcv-train-merror:0.004632833333333333\n",
      "[1870]\tcv-test-merror:0.19629633333333332\tcv-train-merror:0.004632999999999999\n",
      "[1871]\tcv-test-merror:0.196229\tcv-train-merror:0.0046261666666666664\n",
      "[1872]\tcv-test-merror:0.196128\tcv-train-merror:0.004602666666666667\n",
      "[1873]\tcv-test-merror:0.19609433333333337\tcv-train-merror:0.004599166666666667\n",
      "[1874]\tcv-test-merror:0.19602699999999998\tcv-train-merror:0.004595833333333334\n",
      "[1875]\tcv-test-merror:0.19624583333333334\tcv-train-merror:0.004585666666666667\n",
      "[1876]\tcv-test-merror:0.19614483333333332\tcv-train-merror:0.004572333333333334\n",
      "[1877]\tcv-test-merror:0.19621216666666666\tcv-train-merror:0.004562333333333333\n",
      "[1878]\tcv-test-merror:0.19621216666666666\tcv-train-merror:0.004548833333333333\n",
      "[1879]\tcv-test-merror:0.19626266666666667\tcv-train-merror:0.0045285\n",
      "[1880]\tcv-test-merror:0.196229\tcv-train-merror:0.0045151666666666665\n",
      "[1881]\tcv-test-merror:0.19616166666666668\tcv-train-merror:0.004494833333333333\n",
      "[1882]\tcv-test-merror:0.19619533333333336\tcv-train-merror:0.004491333333333333\n",
      "[1883]\tcv-test-merror:0.196229\tcv-train-merror:0.004488\n",
      "[1884]\tcv-test-merror:0.19614483333333332\tcv-train-merror:0.004478166666666668\n",
      "[1885]\tcv-test-merror:0.19606066666666666\tcv-train-merror:0.004451000000000001\n",
      "[1886]\tcv-test-merror:0.19612799999999997\tcv-train-merror:0.004447666666666667\n",
      "[1887]\tcv-test-merror:0.196229\tcv-train-merror:0.004437666666666667\n",
      "[1888]\tcv-test-merror:0.19627949999999997\tcv-train-merror:0.0044241666666666665\n",
      "[1889]\tcv-test-merror:0.1962963333333333\tcv-train-merror:0.004424333333333333\n",
      "[1890]\tcv-test-merror:0.19632999999999998\tcv-train-merror:0.004407500000000001\n",
      "[1891]\tcv-test-merror:0.19634683333333333\tcv-train-merror:0.004400833333333333\n",
      "[1892]\tcv-test-merror:0.19629633333333332\tcv-train-merror:0.0043939999999999995\n",
      "[1893]\tcv-test-merror:0.19629633333333332\tcv-train-merror:0.004390333333333334\n",
      "[1894]\tcv-test-merror:0.19629633333333338\tcv-train-merror:0.004380333333333333\n",
      "[1895]\tcv-test-merror:0.19627950000000002\tcv-train-merror:0.004373666666666666\n",
      "[1896]\tcv-test-merror:0.19643100000000002\tcv-train-merror:0.004350166666666667\n",
      "[1897]\tcv-test-merror:0.1964646666666667\tcv-train-merror:0.004350166666666666\n",
      "[1898]\tcv-test-merror:0.196532\tcv-train-merror:0.004333333333333334\n",
      "[1899]\tcv-test-merror:0.19656566666666667\tcv-train-merror:0.00432\n",
      "[1900]\tcv-test-merror:0.196532\tcv-train-merror:0.004296166666666667\n",
      "[1901]\tcv-test-merror:0.19639733333333334\tcv-train-merror:0.004289333333333333\n",
      "[1902]\tcv-test-merror:0.19629633333333338\tcv-train-merror:0.004276000000000001\n",
      "[1903]\tcv-test-merror:0.19626266666666667\tcv-train-merror:0.004279333333333334\n",
      "[1904]\tcv-test-merror:0.19638049999999999\tcv-train-merror:0.004269166666666667\n",
      "[1905]\tcv-test-merror:0.19646466666666665\tcv-train-merror:0.004242333333333333\n",
      "[1906]\tcv-test-merror:0.19638049999999999\tcv-train-merror:0.004215333333333334\n",
      "[1907]\tcv-test-merror:0.19643100000000002\tcv-train-merror:0.004205166666666667\n",
      "[1908]\tcv-test-merror:0.19641416666666667\tcv-train-merror:0.0041785\n",
      "[1909]\tcv-test-merror:0.1964141666666667\tcv-train-merror:0.004188666666666667\n",
      "[1910]\tcv-test-merror:0.19634683333333333\tcv-train-merror:0.0041986666666666665\n",
      "[1911]\tcv-test-merror:0.19644783333333335\tcv-train-merror:0.0041853333333333334\n",
      "[1912]\tcv-test-merror:0.19646466666666665\tcv-train-merror:0.004168333333333333\n",
      "[1913]\tcv-test-merror:0.19648149999999998\tcv-train-merror:0.004154833333333333\n",
      "[1914]\tcv-test-merror:0.19654883333333337\tcv-train-merror:0.004137999999999999\n",
      "[1915]\tcv-test-merror:0.1964815\tcv-train-merror:0.004131333333333333\n",
      "[1916]\tcv-test-merror:0.196532\tcv-train-merror:0.0041045\n",
      "[1917]\tcv-test-merror:0.1964815\tcv-train-merror:0.0040875\n",
      "[1918]\tcv-test-merror:0.1965488333333333\tcv-train-merror:0.004067166666666667\n",
      "[1919]\tcv-test-merror:0.1964815\tcv-train-merror:0.004050499999999999\n",
      "[1920]\tcv-test-merror:0.19641416666666667\tcv-train-merror:0.004030333333333334\n",
      "[1921]\tcv-test-merror:0.19651516666666669\tcv-train-merror:0.004016833333333333\n",
      "[1922]\tcv-test-merror:0.19638049999999999\tcv-train-merror:0.004006666666666667\n",
      "[1923]\tcv-test-merror:0.19649833333333333\tcv-train-merror:0.003993333333333334\n",
      "[1924]\tcv-test-merror:0.19639733333333334\tcv-train-merror:0.003989833333333334\n",
      "[1925]\tcv-test-merror:0.19641416666666667\tcv-train-merror:0.003979833333333333\n",
      "[1926]\tcv-test-merror:0.19644783333333335\tcv-train-merror:0.003966333333333333\n",
      "[1927]\tcv-test-merror:0.1963636666666667\tcv-train-merror:0.0039695\n",
      "[1928]\tcv-test-merror:0.1963636666666667\tcv-train-merror:0.003963\n",
      "[1929]\tcv-test-merror:0.19634683333333336\tcv-train-merror:0.003942666666666666\n",
      "[1930]\tcv-test-merror:0.19633\tcv-train-merror:0.0039325\n",
      "[1931]\tcv-test-merror:0.19634683333333336\tcv-train-merror:0.0038989999999999997\n",
      "[1932]\tcv-test-merror:0.1963636666666667\tcv-train-merror:0.003875499999999999\n",
      "[1933]\tcv-test-merror:0.196532\tcv-train-merror:0.003861833333333333\n",
      "[1934]\tcv-test-merror:0.19659933333333335\tcv-train-merror:0.003838166666666667\n",
      "[1935]\tcv-test-merror:0.1965488333333333\tcv-train-merror:0.003838166666666667\n",
      "[1936]\tcv-test-merror:0.1965488333333333\tcv-train-merror:0.0038350000000000003\n",
      "[1937]\tcv-test-merror:0.19648149999999998\tcv-train-merror:0.0038348333333333338\n",
      "[1938]\tcv-test-merror:0.19646466666666665\tcv-train-merror:0.0038115000000000002\n",
      "[1939]\tcv-test-merror:0.19639733333333334\tcv-train-merror:0.0037946666666666667\n",
      "[1940]\tcv-test-merror:0.19639733333333334\tcv-train-merror:0.003774333333333333\n",
      "[1941]\tcv-test-merror:0.19644783333333335\tcv-train-merror:0.0037776666666666666\n",
      "[1942]\tcv-test-merror:0.196532\tcv-train-merror:0.0037543333333333335\n",
      "[1943]\tcv-test-merror:0.1965825\tcv-train-merror:0.0037340000000000008\n",
      "[1944]\tcv-test-merror:0.19666666666666668\tcv-train-merror:0.0037238333333333338\n",
      "[1945]\tcv-test-merror:0.19664983333333333\tcv-train-merror:0.0036968333333333332\n",
      "[1946]\tcv-test-merror:0.19661616666666668\tcv-train-merror:0.0036968333333333332\n",
      "[1947]\tcv-test-merror:0.1965488333333333\tcv-train-merror:0.003686833333333333\n",
      "[1948]\tcv-test-merror:0.19649833333333336\tcv-train-merror:0.003676666666666666\n",
      "[1949]\tcv-test-merror:0.1964815\tcv-train-merror:0.0036666666666666666\n",
      "[1950]\tcv-test-merror:0.19656566666666667\tcv-train-merror:0.0036666666666666666\n",
      "[1951]\tcv-test-merror:0.19641416666666667\tcv-train-merror:0.00366\n",
      "[1952]\tcv-test-merror:0.1963973333333333\tcv-train-merror:0.0036498333333333335\n",
      "[1953]\tcv-test-merror:0.19644783333333335\tcv-train-merror:0.0036228333333333334\n",
      "[1954]\tcv-test-merror:0.19641416666666667\tcv-train-merror:0.0036228333333333334\n",
      "[1955]\tcv-test-merror:0.19644783333333335\tcv-train-merror:0.0036095\n",
      "[1956]\tcv-test-merror:0.196431\tcv-train-merror:0.0036095\n",
      "[1957]\tcv-test-merror:0.19651516666666669\tcv-train-merror:0.0035928333333333337\n",
      "[1958]\tcv-test-merror:0.19646466666666665\tcv-train-merror:0.003592666666666667\n",
      "[1959]\tcv-test-merror:0.1963636666666667\tcv-train-merror:0.0035826666666666663\n",
      "[1960]\tcv-test-merror:0.19638049999999999\tcv-train-merror:0.0035724999999999997\n",
      "[1961]\tcv-test-merror:0.19629633333333332\tcv-train-merror:0.0035588333333333336\n",
      "[1962]\tcv-test-merror:0.19634683333333336\tcv-train-merror:0.0035689999999999997\n",
      "[1963]\tcv-test-merror:0.1963636666666667\tcv-train-merror:0.003548833333333333\n",
      "[1964]\tcv-test-merror:0.1963636666666667\tcv-train-merror:0.0035321666666666665\n",
      "[1965]\tcv-test-merror:0.19634683333333333\tcv-train-merror:0.003518666666666667\n",
      "[1966]\tcv-test-merror:0.1963636666666667\tcv-train-merror:0.003501833333333334\n",
      "[1967]\tcv-test-merror:0.19641416666666667\tcv-train-merror:0.003495166666666667\n",
      "[1968]\tcv-test-merror:0.196431\tcv-train-merror:0.0035086666666666664\n",
      "[1969]\tcv-test-merror:0.1963636666666667\tcv-train-merror:0.0034983333333333338\n",
      "[1970]\tcv-test-merror:0.19631316666666665\tcv-train-merror:0.003491666666666667\n",
      "[1971]\tcv-test-merror:0.19627950000000002\tcv-train-merror:0.0034648333333333332\n",
      "[1972]\tcv-test-merror:0.19638050000000004\tcv-train-merror:0.003461333333333333\n",
      "[1973]\tcv-test-merror:0.19631316666666665\tcv-train-merror:0.003434333333333333\n",
      "[1974]\tcv-test-merror:0.19629633333333332\tcv-train-merror:0.003424333333333333\n",
      "[1975]\tcv-test-merror:0.19616166666666668\tcv-train-merror:0.003397666666666667\n",
      "[1976]\tcv-test-merror:0.19621216666666666\tcv-train-merror:0.003390666666666667\n",
      "[1977]\tcv-test-merror:0.19631316666666665\tcv-train-merror:0.0033805000000000003\n",
      "[1978]\tcv-test-merror:0.19621216666666666\tcv-train-merror:0.0033771666666666668\n",
      "[1979]\tcv-test-merror:0.196128\tcv-train-merror:0.003373833333333333\n",
      "[1980]\tcv-test-merror:0.19621216666666666\tcv-train-merror:0.0033705\n",
      "[1981]\tcv-test-merror:0.19621216666666666\tcv-train-merror:0.0033636666666666663\n",
      "[1982]\tcv-test-merror:0.19626266666666667\tcv-train-merror:0.0033705000000000002\n",
      "[1983]\tcv-test-merror:0.19636366666666663\tcv-train-merror:0.0033636666666666663\n",
      "[1984]\tcv-test-merror:0.1961785\tcv-train-merror:0.003363666666666667\n",
      "[1985]\tcv-test-merror:0.1961785\tcv-train-merror:0.0033603333333333332\n",
      "[1986]\tcv-test-merror:0.196229\tcv-train-merror:0.0033536666666666667\n",
      "[1987]\tcv-test-merror:0.1962626666666667\tcv-train-merror:0.0033469999999999997\n",
      "[1988]\tcv-test-merror:0.1962458333333333\tcv-train-merror:0.0033368333333333336\n",
      "[1989]\tcv-test-merror:0.1961953333333333\tcv-train-merror:0.0033401666666666666\n",
      "[1990]\tcv-test-merror:0.19626266666666667\tcv-train-merror:0.0033229999999999996\n",
      "[1991]\tcv-test-merror:0.1962626666666667\tcv-train-merror:0.003316333333333333\n",
      "[1992]\tcv-test-merror:0.19631316666666665\tcv-train-merror:0.0032996666666666665\n",
      "[1993]\tcv-test-merror:0.19633\tcv-train-merror:0.0032896666666666664\n",
      "[1994]\tcv-test-merror:0.19634683333333333\tcv-train-merror:0.0032660000000000002\n",
      "[1995]\tcv-test-merror:0.19634683333333336\tcv-train-merror:0.003239\n",
      "[1996]\tcv-test-merror:0.19638049999999999\tcv-train-merror:0.0032358333333333336\n",
      "[1997]\tcv-test-merror:0.1963973333333333\tcv-train-merror:0.0032391666666666667\n",
      "[1998]\tcv-test-merror:0.1963973333333333\tcv-train-merror:0.0032291666666666666\n",
      "[1999]\tcv-test-merror:0.19638049999999999\tcv-train-merror:0.0032325000000000006\n",
      "[2000]\tcv-test-merror:0.19641416666666667\tcv-train-merror:0.003208833333333333\n",
      "[2001]\tcv-test-merror:0.19633\tcv-train-merror:0.003202166666666667\n",
      "[2002]\tcv-test-merror:0.19633\tcv-train-merror:0.0031819999999999995\n",
      "[2003]\tcv-test-merror:0.19624583333333334\tcv-train-merror:0.0031753333333333325\n",
      "[2004]\tcv-test-merror:0.19638049999999999\tcv-train-merror:0.0031683333333333333\n",
      "[2005]\tcv-test-merror:0.1964815\tcv-train-merror:0.0031516666666666668\n",
      "[2006]\tcv-test-merror:0.1964815\tcv-train-merror:0.0031346666666666662\n",
      "[2007]\tcv-test-merror:0.19656566666666664\tcv-train-merror:0.0031245\n",
      "[2008]\tcv-test-merror:0.19654883333333337\tcv-train-merror:0.003127833333333333\n",
      "[2009]\tcv-test-merror:0.19644783333333335\tcv-train-merror:0.0031379999999999997\n",
      "[2010]\tcv-test-merror:0.19643100000000002\tcv-train-merror:0.0031211666666666666\n",
      "[2011]\tcv-test-merror:0.19649833333333333\tcv-train-merror:0.003114333333333333\n",
      "[2012]\tcv-test-merror:0.19641416666666667\tcv-train-merror:0.0031043333333333335\n",
      "[2013]\tcv-test-merror:0.19634683333333336\tcv-train-merror:0.0030976666666666665\n",
      "[2014]\tcv-test-merror:0.19641416666666667\tcv-train-merror:0.0030743333333333334\n",
      "[2015]\tcv-test-merror:0.19643100000000002\tcv-train-merror:0.0030674999999999995\n",
      "[2016]\tcv-test-merror:0.1964478333333333\tcv-train-merror:0.003054\n",
      "[2017]\tcv-test-merror:0.19651516666666669\tcv-train-merror:0.003054\n",
      "[2018]\tcv-test-merror:0.19641416666666667\tcv-train-merror:0.0030371666666666667\n",
      "[2019]\tcv-test-merror:0.1963636666666667\tcv-train-merror:0.0030336666666666667\n",
      "[2020]\tcv-test-merror:0.196431\tcv-train-merror:0.003037\n",
      "[2021]\tcv-test-merror:0.19638049999999999\tcv-train-merror:0.003027\n",
      "[2022]\tcv-test-merror:0.19644783333333335\tcv-train-merror:0.0030203333333333336\n",
      "[2023]\tcv-test-merror:0.19641416666666667\tcv-train-merror:0.0030036666666666666\n",
      "[2024]\tcv-test-merror:0.196431\tcv-train-merror:0.0030136666666666667\n",
      "[2025]\tcv-test-merror:0.19644783333333335\tcv-train-merror:0.0029966666666666666\n",
      "[2026]\tcv-test-merror:0.19638049999999999\tcv-train-merror:0.0029866666666666665\n",
      "[2027]\tcv-test-merror:0.19633\tcv-train-merror:0.0029733333333333335\n",
      "[2028]\tcv-test-merror:0.19631316666666665\tcv-train-merror:0.0029665\n",
      "[2029]\tcv-test-merror:0.19638049999999999\tcv-train-merror:0.0029665\n",
      "[2030]\tcv-test-merror:0.1964646666666667\tcv-train-merror:0.0029665000000000004\n",
      "[2031]\tcv-test-merror:0.19643100000000002\tcv-train-merror:0.0029598333333333334\n",
      "[2032]\tcv-test-merror:0.19643100000000002\tcv-train-merror:0.0029598333333333334\n",
      "[2033]\tcv-test-merror:0.19651516666666669\tcv-train-merror:0.0029530000000000003\n",
      "[2034]\tcv-test-merror:0.19649833333333333\tcv-train-merror:0.002943\n",
      "[2035]\tcv-test-merror:0.196532\tcv-train-merror:0.0029326666666666668\n",
      "[2036]\tcv-test-merror:0.19656566666666664\tcv-train-merror:0.002919166666666667\n",
      "[2037]\tcv-test-merror:0.19666666666666666\tcv-train-merror:0.002909\n",
      "[2038]\tcv-test-merror:0.1965825\tcv-train-merror:0.0028921666666666666\n",
      "[2039]\tcv-test-merror:0.1965488333333333\tcv-train-merror:0.0028755\n",
      "[2040]\tcv-test-merror:0.1965488333333333\tcv-train-merror:0.002855166666666667\n",
      "[2041]\tcv-test-merror:0.196431\tcv-train-merror:0.002855166666666667\n",
      "[2042]\tcv-test-merror:0.19644783333333335\tcv-train-merror:0.0028585\n",
      "[2043]\tcv-test-merror:0.19644783333333335\tcv-train-merror:0.002855166666666667\n",
      "[2044]\tcv-test-merror:0.196532\tcv-train-merror:0.0028451666666666664\n",
      "[2045]\tcv-test-merror:0.19646466666666665\tcv-train-merror:0.0028418333333333334\n",
      "[2046]\tcv-test-merror:0.19641416666666667\tcv-train-merror:0.002825\n",
      "[2047]\tcv-test-merror:0.1964815\tcv-train-merror:0.0028283333333333333\n",
      "[2048]\tcv-test-merror:0.19649833333333333\tcv-train-merror:0.002814833333333333\n",
      "[2049]\tcv-test-merror:0.1965488333333333\tcv-train-merror:0.002797833333333333\n",
      "[2050]\tcv-test-merror:0.196532\tcv-train-merror:0.002784333333333333\n",
      "[2051]\tcv-test-merror:0.19644783333333335\tcv-train-merror:0.0027706666666666665\n",
      "[2052]\tcv-test-merror:0.196431\tcv-train-merror:0.0027608333333333335\n",
      "[2053]\tcv-test-merror:0.196431\tcv-train-merror:0.0027373333333333334\n",
      "[2054]\tcv-test-merror:0.1963973333333333\tcv-train-merror:0.0027171666666666668\n",
      "[2055]\tcv-test-merror:0.19641416666666667\tcv-train-merror:0.0027238333333333333\n",
      "[2056]\tcv-test-merror:0.19644783333333335\tcv-train-merror:0.0027203333333333333\n",
      "[2057]\tcv-test-merror:0.19651516666666669\tcv-train-merror:0.0027236666666666663\n",
      "[2058]\tcv-test-merror:0.19656566666666667\tcv-train-merror:0.0027136666666666663\n",
      "[2059]\tcv-test-merror:0.19661616666666668\tcv-train-merror:0.0027168333333333333\n",
      "[2060]\tcv-test-merror:0.1965825\tcv-train-merror:0.002697\n",
      "[2061]\tcv-test-merror:0.19663300000000003\tcv-train-merror:0.00269\n",
      "[2062]\tcv-test-merror:0.19659933333333335\tcv-train-merror:0.0026968333333333336\n",
      "[2063]\tcv-test-merror:0.19646466666666665\tcv-train-merror:0.002683333333333333\n",
      "[2064]\tcv-test-merror:0.19651516666666666\tcv-train-merror:0.0026765\n",
      "[2065]\tcv-test-merror:0.19646466666666665\tcv-train-merror:0.0026598333333333335\n",
      "[2066]\tcv-test-merror:0.19651516666666669\tcv-train-merror:0.0026498333333333335\n",
      "[2067]\tcv-test-merror:0.196532\tcv-train-merror:0.0026396666666666665\n",
      "[2068]\tcv-test-merror:0.19644783333333335\tcv-train-merror:0.002646666666666667\n",
      "[2069]\tcv-test-merror:0.1964478333333333\tcv-train-merror:0.0026364999999999995\n",
      "[2070]\tcv-test-merror:0.19629633333333332\tcv-train-merror:0.0026195\n",
      "[2071]\tcv-test-merror:0.19624583333333334\tcv-train-merror:0.0026091666666666663\n",
      "[2072]\tcv-test-merror:0.19629633333333332\tcv-train-merror:0.0025958333333333332\n",
      "[2073]\tcv-test-merror:0.19634683333333336\tcv-train-merror:0.0025825\n",
      "[2074]\tcv-test-merror:0.19638049999999999\tcv-train-merror:0.0025758333333333336\n",
      "[2075]\tcv-test-merror:0.19644783333333335\tcv-train-merror:0.0025621666666666666\n",
      "[2076]\tcv-test-merror:0.196431\tcv-train-merror:0.0025621666666666666\n",
      "[2077]\tcv-test-merror:0.1963973333333333\tcv-train-merror:0.0025588333333333335\n",
      "[2078]\tcv-test-merror:0.19644783333333335\tcv-train-merror:0.0025588333333333335\n",
      "[2079]\tcv-test-merror:0.19646466666666665\tcv-train-merror:0.002542\n",
      "[2080]\tcv-test-merror:0.19646466666666665\tcv-train-merror:0.0025184999999999995\n",
      "[2081]\tcv-test-merror:0.1964983333333333\tcv-train-merror:0.0025151666666666664\n",
      "[2082]\tcv-test-merror:0.19651516666666669\tcv-train-merror:0.002505166666666667\n",
      "[2083]\tcv-test-merror:0.1964815\tcv-train-merror:0.0024950000000000003\n",
      "[2084]\tcv-test-merror:0.19641416666666667\tcv-train-merror:0.0024713333333333336\n",
      "[2085]\tcv-test-merror:0.19638049999999999\tcv-train-merror:0.002478166666666667\n",
      "[2086]\tcv-test-merror:0.19631316666666665\tcv-train-merror:0.0024611666666666666\n",
      "[2087]\tcv-test-merror:0.1963973333333333\tcv-train-merror:0.0024408333333333335\n",
      "[2088]\tcv-test-merror:0.1963636666666667\tcv-train-merror:0.002434333333333333\n",
      "[2089]\tcv-test-merror:0.1963973333333333\tcv-train-merror:0.0024309999999999996\n",
      "[2090]\tcv-test-merror:0.19639733333333334\tcv-train-merror:0.0024309999999999996\n",
      "[2091]\tcv-test-merror:0.19649833333333333\tcv-train-merror:0.002424333333333333\n",
      "[2092]\tcv-test-merror:0.19649833333333333\tcv-train-merror:0.002410833333333333\n",
      "[2093]\tcv-test-merror:0.19644783333333335\tcv-train-merror:0.002400666666666667\n",
      "[2094]\tcv-test-merror:0.196431\tcv-train-merror:0.0023908333333333334\n",
      "[2095]\tcv-test-merror:0.19643100000000002\tcv-train-merror:0.0023975\n",
      "[2096]\tcv-test-merror:0.19649833333333333\tcv-train-merror:0.0023940000000000003\n",
      "[2097]\tcv-test-merror:0.19651516666666666\tcv-train-merror:0.0023838333333333337\n",
      "[2098]\tcv-test-merror:0.19646466666666665\tcv-train-merror:0.0023736666666666667\n",
      "[2099]\tcv-test-merror:0.19649833333333333\tcv-train-merror:0.0023669999999999997\n",
      "[2100]\tcv-test-merror:0.19644783333333335\tcv-train-merror:0.0023738333333333333\n",
      "[2101]\tcv-test-merror:0.19651516666666669\tcv-train-merror:0.0023671666666666663\n",
      "[2102]\tcv-test-merror:0.19649833333333333\tcv-train-merror:0.002360333333333333\n",
      "[2103]\tcv-test-merror:0.1964815\tcv-train-merror:0.0023535\n",
      "[2104]\tcv-test-merror:0.196431\tcv-train-merror:0.0023366666666666666\n",
      "[2105]\tcv-test-merror:0.19644783333333335\tcv-train-merror:0.0023301666666666666\n",
      "[2106]\tcv-test-merror:0.19648149999999998\tcv-train-merror:0.002319833333333333\n",
      "[2107]\tcv-test-merror:0.19648149999999998\tcv-train-merror:0.0023199999999999996\n",
      "[2108]\tcv-test-merror:0.19649833333333333\tcv-train-merror:0.002309666666666667\n",
      "[2109]\tcv-test-merror:0.19639733333333334\tcv-train-merror:0.002309666666666667\n",
      "[2110]\tcv-test-merror:0.19646466666666665\tcv-train-merror:0.0022996666666666664\n",
      "[2111]\tcv-test-merror:0.1964815\tcv-train-merror:0.002283\n",
      "[2112]\tcv-test-merror:0.19638049999999999\tcv-train-merror:0.0022695000000000002\n",
      "[2113]\tcv-test-merror:0.19648149999999998\tcv-train-merror:0.0022693333333333333\n",
      "[2114]\tcv-test-merror:0.1965488333333333\tcv-train-merror:0.0022658333333333332\n",
      "[2115]\tcv-test-merror:0.1965488333333333\tcv-train-merror:0.0022591666666666667\n",
      "[2116]\tcv-test-merror:0.19656566666666667\tcv-train-merror:0.0022456666666666666\n",
      "[2117]\tcv-test-merror:0.1965825\tcv-train-merror:0.0022423333333333336\n",
      "[2118]\tcv-test-merror:0.19656566666666667\tcv-train-merror:0.0022388333333333336\n",
      "[2119]\tcv-test-merror:0.196532\tcv-train-merror:0.0022188333333333335\n",
      "[2120]\tcv-test-merror:0.1966498333333333\tcv-train-merror:0.0022155\n",
      "[2121]\tcv-test-merror:0.1965825\tcv-train-merror:0.0022188333333333335\n",
      "[2122]\tcv-test-merror:0.196532\tcv-train-merror:0.002218833333333333\n",
      "[2123]\tcv-test-merror:0.19649833333333333\tcv-train-merror:0.0022121666666666665\n",
      "[2124]\tcv-test-merror:0.19649833333333333\tcv-train-merror:0.0022121666666666665\n",
      "[2125]\tcv-test-merror:0.1965488333333333\tcv-train-merror:0.0022188333333333335\n",
      "[2126]\tcv-test-merror:0.1965488333333333\tcv-train-merror:0.002205333333333333\n",
      "[2127]\tcv-test-merror:0.19646466666666665\tcv-train-merror:0.0021984999999999995\n",
      "[2128]\tcv-test-merror:0.19649833333333333\tcv-train-merror:0.002185166666666667\n",
      "[2129]\tcv-test-merror:0.19644783333333335\tcv-train-merror:0.002181666666666667\n",
      "[2130]\tcv-test-merror:0.19629633333333332\tcv-train-merror:0.002165\n",
      "[2131]\tcv-test-merror:0.19634683333333333\tcv-train-merror:0.002138166666666667\n",
      "[2132]\tcv-test-merror:0.19641416666666667\tcv-train-merror:0.0021348333333333336\n",
      "[2133]\tcv-test-merror:0.196229\tcv-train-merror:0.0021346666666666667\n",
      "[2134]\tcv-test-merror:0.19624583333333334\tcv-train-merror:0.002118\n",
      "[2135]\tcv-test-merror:0.19629633333333332\tcv-train-merror:0.0021146666666666666\n",
      "[2136]\tcv-test-merror:0.1963973333333333\tcv-train-merror:0.002107833333333333\n",
      "[2137]\tcv-test-merror:0.1963636666666667\tcv-train-merror:0.0021045\n",
      "[2138]\tcv-test-merror:0.19629633333333332\tcv-train-merror:0.0021011666666666665\n",
      "[2139]\tcv-test-merror:0.19641416666666667\tcv-train-merror:0.0021011666666666665\n",
      "[2140]\tcv-test-merror:0.19649833333333333\tcv-train-merror:0.0021078333333333335\n",
      "[2141]\tcv-test-merror:0.19644783333333335\tcv-train-merror:0.0020941666666666665\n",
      "[2142]\tcv-test-merror:0.19649833333333336\tcv-train-merror:0.0020941666666666665\n",
      "[2143]\tcv-test-merror:0.1965825\tcv-train-merror:0.002084\n",
      "[2144]\tcv-test-merror:0.1964815\tcv-train-merror:0.002077166666666667\n",
      "[2145]\tcv-test-merror:0.19656566666666667\tcv-train-merror:0.0020603333333333337\n",
      "[2146]\tcv-test-merror:0.19648149999999998\tcv-train-merror:0.0020469999999999998\n",
      "[2147]\tcv-test-merror:0.19649833333333333\tcv-train-merror:0.0020503333333333333\n",
      "[2148]\tcv-test-merror:0.196532\tcv-train-merror:0.0020469999999999998\n",
      "[2149]\tcv-test-merror:0.196532\tcv-train-merror:0.0020436666666666663\n",
      "[2150]\tcv-test-merror:0.1964815\tcv-train-merror:0.0020335\n",
      "[2151]\tcv-test-merror:0.196532\tcv-train-merror:0.002027\n",
      "[2152]\tcv-test-merror:0.19651516666666669\tcv-train-merror:0.002030333333333333\n",
      "[2153]\tcv-test-merror:0.19659933333333332\tcv-train-merror:0.002030333333333333\n",
      "[2154]\tcv-test-merror:0.19661616666666668\tcv-train-merror:0.0020271666666666667\n",
      "[2155]\tcv-test-merror:0.19659933333333332\tcv-train-merror:0.002017\n",
      "[2156]\tcv-test-merror:0.1965488333333333\tcv-train-merror:0.002006833333333333\n",
      "[2157]\tcv-test-merror:0.19649833333333333\tcv-train-merror:0.0019933333333333335\n",
      "[2158]\tcv-test-merror:0.19644783333333335\tcv-train-merror:0.00199\n",
      "[2159]\tcv-test-merror:0.19644783333333335\tcv-train-merror:0.00199\n",
      "[2160]\tcv-test-merror:0.19644783333333335\tcv-train-merror:0.0019800000000000004\n",
      "[2161]\tcv-test-merror:0.19651516666666669\tcv-train-merror:0.0019765000000000004\n",
      "[2162]\tcv-test-merror:0.19649833333333333\tcv-train-merror:0.0019796666666666665\n",
      "[2163]\tcv-test-merror:0.19649833333333336\tcv-train-merror:0.0019730000000000004\n",
      "[2164]\tcv-test-merror:0.1964815\tcv-train-merror:0.0019628333333333334\n",
      "[2165]\tcv-test-merror:0.19646466666666665\tcv-train-merror:0.0019461666666666666\n",
      "[2166]\tcv-test-merror:0.1964815\tcv-train-merror:0.0019426666666666665\n",
      "[2167]\tcv-test-merror:0.19649833333333336\tcv-train-merror:0.0019393333333333335\n",
      "[2168]\tcv-test-merror:0.19651516666666669\tcv-train-merror:0.0019291666666666667\n",
      "[2169]\tcv-test-merror:0.19644783333333335\tcv-train-merror:0.0019291666666666667\n",
      "[2170]\tcv-test-merror:0.19644783333333335\tcv-train-merror:0.0019291666666666667\n",
      "[2171]\tcv-test-merror:0.19649833333333336\tcv-train-merror:0.0019258333333333332\n",
      "[2172]\tcv-test-merror:0.19646466666666665\tcv-train-merror:0.0019225\n",
      "[2173]\tcv-test-merror:0.196532\tcv-train-merror:0.0019056666666666666\n",
      "[2174]\tcv-test-merror:0.19651516666666669\tcv-train-merror:0.0018855\n",
      "[2175]\tcv-test-merror:0.196532\tcv-train-merror:0.0018688333333333335\n",
      "[2176]\tcv-test-merror:0.19656566666666667\tcv-train-merror:0.0018588333333333332\n",
      "[2177]\tcv-test-merror:0.19654883333333337\tcv-train-merror:0.0018520000000000001\n",
      "[2178]\tcv-test-merror:0.19659933333333332\tcv-train-merror:0.0018416666666666666\n",
      "[2179]\tcv-test-merror:0.1965825\tcv-train-merror:0.0018418333333333331\n",
      "[2180]\tcv-test-merror:0.19651516666666669\tcv-train-merror:0.0018349999999999998\n",
      "[2181]\tcv-test-merror:0.19641416666666667\tcv-train-merror:0.0018316666666666666\n",
      "[2182]\tcv-test-merror:0.196431\tcv-train-merror:0.0018148333333333332\n",
      "[2183]\tcv-test-merror:0.19646466666666665\tcv-train-merror:0.0018148333333333332\n",
      "[2184]\tcv-test-merror:0.19646466666666665\tcv-train-merror:0.0018146666666666667\n",
      "[2185]\tcv-test-merror:0.19644783333333335\tcv-train-merror:0.001818\n",
      "[2186]\tcv-test-merror:0.196532\tcv-train-merror:0.0017978333333333334\n",
      "[2187]\tcv-test-merror:0.19659933333333332\tcv-train-merror:0.0017945\n",
      "[2188]\tcv-test-merror:0.19646466666666665\tcv-train-merror:0.0017911666666666668\n",
      "[2189]\tcv-test-merror:0.196431\tcv-train-merror:0.0017844999999999998\n",
      "[2190]\tcv-test-merror:0.19651516666666669\tcv-train-merror:0.0017811666666666668\n",
      "[2191]\tcv-test-merror:0.19656566666666667\tcv-train-merror:0.0017845000000000003\n",
      "[2192]\tcv-test-merror:0.19656566666666667\tcv-train-merror:0.0017810000000000002\n",
      "[2193]\tcv-test-merror:0.19656566666666667\tcv-train-merror:0.0017743333333333333\n",
      "[2194]\tcv-test-merror:0.19644783333333335\tcv-train-merror:0.0017708333333333332\n",
      "[2195]\tcv-test-merror:0.19651516666666669\tcv-train-merror:0.0017541666666666667\n",
      "[2196]\tcv-test-merror:0.1964815\tcv-train-merror:0.0017575000000000002\n",
      "[2197]\tcv-test-merror:0.196431\tcv-train-merror:0.0017375000000000001\n",
      "[2198]\tcv-test-merror:0.19631316666666665\tcv-train-merror:0.0017341666666666666\n",
      "[2199]\tcv-test-merror:0.19629633333333332\tcv-train-merror:0.0017375000000000001\n",
      "[2200]\tcv-test-merror:0.19636366666666663\tcv-train-merror:0.0017171666666666665\n",
      "[2201]\tcv-test-merror:0.1963973333333333\tcv-train-merror:0.0017138333333333335\n",
      "[2202]\tcv-test-merror:0.19631316666666665\tcv-train-merror:0.0017071666666666665\n",
      "[2203]\tcv-test-merror:0.19633\tcv-train-merror:0.0017038333333333332\n",
      "[2204]\tcv-test-merror:0.19633\tcv-train-merror:0.001703666666666667\n",
      "[2205]\tcv-test-merror:0.19627950000000002\tcv-train-merror:0.0017036666666666667\n",
      "[2206]\tcv-test-merror:0.19638049999999999\tcv-train-merror:0.0017105000000000002\n",
      "[2207]\tcv-test-merror:0.19646466666666665\tcv-train-merror:0.0016868333333333336\n",
      "[2208]\tcv-test-merror:0.19644783333333335\tcv-train-merror:0.0016868333333333336\n",
      "[2209]\tcv-test-merror:0.19643100000000002\tcv-train-merror:0.0016835\n",
      "[2210]\tcv-test-merror:0.19648149999999998\tcv-train-merror:0.0016903333333333336\n",
      "[2211]\tcv-test-merror:0.19648149999999998\tcv-train-merror:0.001687\n",
      "[2212]\tcv-test-merror:0.19638049999999999\tcv-train-merror:0.0016733333333333333\n",
      "[2213]\tcv-test-merror:0.1965488333333333\tcv-train-merror:0.0016699999999999998\n",
      "[2214]\tcv-test-merror:0.196532\tcv-train-merror:0.0016700000000000003\n",
      "[2215]\tcv-test-merror:0.19648149999999998\tcv-train-merror:0.0016633333333333335\n",
      "[2216]\tcv-test-merror:0.196532\tcv-train-merror:0.0016600000000000002\n",
      "[2217]\tcv-test-merror:0.19648149999999998\tcv-train-merror:0.0016566666666666667\n",
      "[2218]\tcv-test-merror:0.19648149999999998\tcv-train-merror:0.0016531666666666667\n",
      "[2219]\tcv-test-merror:0.19648149999999998\tcv-train-merror:0.0016531666666666667\n",
      "[2220]\tcv-test-merror:0.19646466666666665\tcv-train-merror:0.0016531666666666667\n",
      "[2221]\tcv-test-merror:0.19638049999999999\tcv-train-merror:0.0016328333333333334\n",
      "[2222]\tcv-test-merror:0.19648149999999998\tcv-train-merror:0.0016226666666666666\n",
      "[2223]\tcv-test-merror:0.1965488333333333\tcv-train-merror:0.0016193333333333335\n",
      "[2224]\tcv-test-merror:0.1965825\tcv-train-merror:0.0016126666666666668\n",
      "[2225]\tcv-test-merror:0.1965825\tcv-train-merror:0.0015993333333333335\n",
      "[2226]\tcv-test-merror:0.19656566666666664\tcv-train-merror:0.0016026666666666665\n",
      "[2227]\tcv-test-merror:0.196532\tcv-train-merror:0.001599333333333333\n",
      "[2228]\tcv-test-merror:0.1963636666666667\tcv-train-merror:0.001599333333333333\n",
      "[2229]\tcv-test-merror:0.1964141666666667\tcv-train-merror:0.001602666666666667\n",
      "[2230]\tcv-test-merror:0.19651516666666666\tcv-train-merror:0.0015893333333333332\n",
      "[2231]\tcv-test-merror:0.1964815\tcv-train-merror:0.0015825\n",
      "[2232]\tcv-test-merror:0.19654883333333337\tcv-train-merror:0.0015691666666666668\n",
      "[2233]\tcv-test-merror:0.19659933333333335\tcv-train-merror:0.0015658333333333334\n",
      "[2234]\tcv-test-merror:0.19663299999999997\tcv-train-merror:0.0015623333333333333\n",
      "[2235]\tcv-test-merror:0.19659933333333335\tcv-train-merror:0.0015691666666666666\n",
      "[2236]\tcv-test-merror:0.19658250000000002\tcv-train-merror:0.0015656666666666668\n",
      "[2237]\tcv-test-merror:0.19654883333333337\tcv-train-merror:0.001549\n",
      "[2238]\tcv-test-merror:0.19646466666666665\tcv-train-merror:0.001549\n",
      "[2239]\tcv-test-merror:0.19651516666666666\tcv-train-merror:0.0015355000000000002\n",
      "[2240]\tcv-test-merror:0.19651516666666666\tcv-train-merror:0.0015321666666666667\n",
      "[2241]\tcv-test-merror:0.19659933333333332\tcv-train-merror:0.0015321666666666667\n",
      "[2242]\tcv-test-merror:0.19661616666666662\tcv-train-merror:0.0015288333333333334\n",
      "[2243]\tcv-test-merror:0.19661616666666668\tcv-train-merror:0.0015253333333333334\n",
      "[2244]\tcv-test-merror:0.19661616666666668\tcv-train-merror:0.0015286666666666667\n",
      "[2245]\tcv-test-merror:0.1965825\tcv-train-merror:0.0015286666666666667\n",
      "[2246]\tcv-test-merror:0.19656566666666667\tcv-train-merror:0.0015251666666666666\n",
      "[2247]\tcv-test-merror:0.19661616666666668\tcv-train-merror:0.0015151666666666666\n",
      "[2248]\tcv-test-merror:0.196734\tcv-train-merror:0.001508333333333333\n",
      "[2249]\tcv-test-merror:0.196734\tcv-train-merror:0.0014983333333333333\n",
      "[2250]\tcv-test-merror:0.19670033333333334\tcv-train-merror:0.0014949999999999998\n",
      "[2251]\tcv-test-merror:0.1966835\tcv-train-merror:0.0014781666666666667\n",
      "[2252]\tcv-test-merror:0.19663299999999997\tcv-train-merror:0.0014815\n",
      "[2253]\tcv-test-merror:0.19671716666666664\tcv-train-merror:0.0014815\n",
      "[2254]\tcv-test-merror:0.19670033333333334\tcv-train-merror:0.0014781666666666665\n",
      "[2255]\tcv-test-merror:0.196734\tcv-train-merror:0.0014713333333333332\n",
      "[2256]\tcv-test-merror:0.1967845\tcv-train-merror:0.0014646666666666664\n",
      "[2257]\tcv-test-merror:0.19676766666666667\tcv-train-merror:0.0014611666666666664\n",
      "[2258]\tcv-test-merror:0.19673399999999996\tcv-train-merror:0.0014609999999999998\n",
      "[2259]\tcv-test-merror:0.19676766666666667\tcv-train-merror:0.0014578333333333333\n",
      "[2260]\tcv-test-merror:0.19681816666666663\tcv-train-merror:0.0014476666666666665\n",
      "[2261]\tcv-test-merror:0.19676766666666667\tcv-train-merror:0.0014443333333333333\n",
      "[2262]\tcv-test-merror:0.19675083333333335\tcv-train-merror:0.0014476666666666668\n",
      "[2263]\tcv-test-merror:0.19673399999999996\tcv-train-merror:0.0014343333333333335\n",
      "[2264]\tcv-test-merror:0.19673399999999996\tcv-train-merror:0.0014208333333333336\n",
      "[2265]\tcv-test-merror:0.1967845\tcv-train-merror:0.0014106666666666668\n",
      "[2266]\tcv-test-merror:0.19670033333333334\tcv-train-merror:0.001404\n",
      "[2267]\tcv-test-merror:0.196734\tcv-train-merror:0.0014006666666666666\n",
      "[2268]\tcv-test-merror:0.19676766666666667\tcv-train-merror:0.0013906666666666668\n",
      "[2269]\tcv-test-merror:0.19676766666666667\tcv-train-merror:0.0013873333333333333\n",
      "[2270]\tcv-test-merror:0.19675083333333332\tcv-train-merror:0.0013806666666666665\n",
      "[2271]\tcv-test-merror:0.19673399999999996\tcv-train-merror:0.0013773333333333335\n",
      "[2272]\tcv-test-merror:0.19675083333333332\tcv-train-merror:0.001374\n",
      "[2273]\tcv-test-merror:0.19670033333333334\tcv-train-merror:0.0013671666666666667\n",
      "[2274]\tcv-test-merror:0.1967171666666667\tcv-train-merror:0.0013705\n",
      "[2275]\tcv-test-merror:0.19663299999999997\tcv-train-merror:0.0013705\n",
      "[2276]\tcv-test-merror:0.19686866666666666\tcv-train-merror:0.0013771666666666665\n",
      "[2277]\tcv-test-merror:0.19671716666666664\tcv-train-merror:0.0013771666666666665\n",
      "[2278]\tcv-test-merror:0.19675083333333332\tcv-train-merror:0.0013771666666666665\n",
      "[2279]\tcv-test-merror:0.19671716666666664\tcv-train-merror:0.0013771666666666665\n",
      "[2280]\tcv-test-merror:0.196734\tcv-train-merror:0.001377166666666667\n",
      "[2281]\tcv-test-merror:0.19671716666666664\tcv-train-merror:0.0013771666666666665\n",
      "[2282]\tcv-test-merror:0.19666666666666666\tcv-train-merror:0.001367\n",
      "[2283]\tcv-test-merror:0.19675083333333335\tcv-train-merror:0.001357166666666667\n",
      "[2284]\tcv-test-merror:0.1968013333333333\tcv-train-merror:0.001364\n",
      "[2285]\tcv-test-merror:0.19688550000000002\tcv-train-merror:0.0013534999999999999\n",
      "[2286]\tcv-test-merror:0.196835\tcv-train-merror:0.0013503333333333334\n",
      "[2287]\tcv-test-merror:0.196936\tcv-train-merror:0.001357166666666667\n",
      "[2288]\tcv-test-merror:0.19691916666666665\tcv-train-merror:0.0013435\n",
      "[2289]\tcv-test-merror:0.19710433333333333\tcv-train-merror:0.0013333333333333333\n",
      "[2290]\tcv-test-merror:0.1970706666666667\tcv-train-merror:0.0013299999999999998\n",
      "[2291]\tcv-test-merror:0.19688549999999996\tcv-train-merror:0.0013331666666666665\n",
      "[2292]\tcv-test-merror:0.19691916666666665\tcv-train-merror:0.0013298333333333333\n",
      "[2293]\tcv-test-merror:0.1968013333333333\tcv-train-merror:0.0013165\n",
      "[2294]\tcv-test-merror:0.19686866666666666\tcv-train-merror:0.0013165\n",
      "[2295]\tcv-test-merror:0.196835\tcv-train-merror:0.0013131666666666665\n",
      "[2296]\tcv-test-merror:0.19680133333333336\tcv-train-merror:0.0012963333333333331\n",
      "[2297]\tcv-test-merror:0.19685183333333334\tcv-train-merror:0.0012894999999999998\n",
      "[2298]\tcv-test-merror:0.19675083333333332\tcv-train-merror:0.0012963333333333334\n",
      "[2299]\tcv-test-merror:0.19666666666666668\tcv-train-merror:0.0012963333333333334\n",
      "[2300]\tcv-test-merror:0.19670033333333334\tcv-train-merror:0.0012795\n",
      "[2301]\tcv-test-merror:0.19680133333333336\tcv-train-merror:0.001283\n",
      "[2302]\tcv-test-merror:0.19683499999999998\tcv-train-merror:0.0012761666666666666\n",
      "[2303]\tcv-test-merror:0.19683499999999998\tcv-train-merror:0.0012693333333333333\n",
      "[2304]\tcv-test-merror:0.19690233333333332\tcv-train-merror:0.0012726666666666665\n",
      "[2305]\tcv-test-merror:0.19695283333333333\tcv-train-merror:0.0012593333333333334\n",
      "[2306]\tcv-test-merror:0.1968181666666667\tcv-train-merror:0.0012526666666666667\n",
      "[2307]\tcv-test-merror:0.19680133333333336\tcv-train-merror:0.0012591666666666665\n",
      "[2308]\tcv-test-merror:0.19685183333333334\tcv-train-merror:0.0012491666666666667\n",
      "[2309]\tcv-test-merror:0.19685183333333334\tcv-train-merror:0.0012458333333333334\n",
      "[2310]\tcv-test-merror:0.19680133333333336\tcv-train-merror:0.0012425\n",
      "[2311]\tcv-test-merror:0.19671716666666664\tcv-train-merror:0.001229\n",
      "[2312]\tcv-test-merror:0.196734\tcv-train-merror:0.0012223333333333333\n",
      "[2313]\tcv-test-merror:0.1967845\tcv-train-merror:0.0012123333333333333\n",
      "[2314]\tcv-test-merror:0.1967845\tcv-train-merror:0.0012055\n",
      "[2315]\tcv-test-merror:0.19676766666666665\tcv-train-merror:0.0012088333333333332\n",
      "[2316]\tcv-test-merror:0.19675083333333335\tcv-train-merror:0.0011986666666666667\n",
      "[2317]\tcv-test-merror:0.196835\tcv-train-merror:0.0011886666666666666\n",
      "[2318]\tcv-test-merror:0.19675083333333332\tcv-train-merror:0.0011818333333333333\n",
      "[2319]\tcv-test-merror:0.196734\tcv-train-merror:0.0011786666666666666\n",
      "[2320]\tcv-test-merror:0.19675083333333332\tcv-train-merror:0.0011886666666666666\n",
      "[2321]\tcv-test-merror:0.196734\tcv-train-merror:0.0011921666666666667\n",
      "[2322]\tcv-test-merror:0.19670033333333334\tcv-train-merror:0.0011851666666666666\n",
      "[2323]\tcv-test-merror:0.19676766666666667\tcv-train-merror:0.0011616666666666668\n",
      "[2324]\tcv-test-merror:0.19671716666666664\tcv-train-merror:0.0011615\n",
      "[2325]\tcv-test-merror:0.19664983333333333\tcv-train-merror:0.0011581666666666667\n",
      "[2326]\tcv-test-merror:0.19659933333333335\tcv-train-merror:0.0011581666666666667\n",
      "[2327]\tcv-test-merror:0.19666666666666668\tcv-train-merror:0.001148\n",
      "[2328]\tcv-test-merror:0.19675083333333335\tcv-train-merror:0.001148\n",
      "[2329]\tcv-test-merror:0.196734\tcv-train-merror:0.0011413333333333334\n",
      "[2330]\tcv-test-merror:0.19664983333333333\tcv-train-merror:0.0011413333333333334\n",
      "[2331]\tcv-test-merror:0.19661616666666668\tcv-train-merror:0.001148\n",
      "[2332]\tcv-test-merror:0.19663299999999997\tcv-train-merror:0.001148166666666667\n",
      "[2333]\tcv-test-merror:0.19670033333333334\tcv-train-merror:0.0011380000000000001\n",
      "[2334]\tcv-test-merror:0.19664983333333333\tcv-train-merror:0.0011346666666666666\n",
      "[2335]\tcv-test-merror:0.1966835\tcv-train-merror:0.0011315\n",
      "[2336]\tcv-test-merror:0.19664983333333333\tcv-train-merror:0.0011213333333333333\n",
      "[2337]\tcv-test-merror:0.19666666666666666\tcv-train-merror:0.0011146666666666666\n",
      "[2338]\tcv-test-merror:0.1967171666666667\tcv-train-merror:0.0011079999999999998\n",
      "[2339]\tcv-test-merror:0.19671716666666664\tcv-train-merror:0.0011044999999999998\n",
      "[2340]\tcv-test-merror:0.19670033333333334\tcv-train-merror:0.0011111666666666666\n",
      "[2341]\tcv-test-merror:0.19671716666666664\tcv-train-merror:0.0011010000000000002\n",
      "[2342]\tcv-test-merror:0.196734\tcv-train-merror:0.0010943333333333334\n",
      "[2343]\tcv-test-merror:0.19683499999999998\tcv-train-merror:0.0010978333333333333\n",
      "[2344]\tcv-test-merror:0.196734\tcv-train-merror:0.0010945\n",
      "[2345]\tcv-test-merror:0.196734\tcv-train-merror:0.0010943333333333332\n",
      "[2346]\tcv-test-merror:0.19676766666666665\tcv-train-merror:0.0010876666666666667\n",
      "[2347]\tcv-test-merror:0.19663300000000003\tcv-train-merror:0.0010876666666666667\n",
      "[2348]\tcv-test-merror:0.19663299999999997\tcv-train-merror:0.0010843333333333334\n",
      "[2349]\tcv-test-merror:0.196532\tcv-train-merror:0.0010808333333333334\n",
      "[2350]\tcv-test-merror:0.19653199999999996\tcv-train-merror:0.0010738333333333335\n",
      "[2351]\tcv-test-merror:0.1965488333333333\tcv-train-merror:0.001067\n",
      "[2352]\tcv-test-merror:0.19661616666666668\tcv-train-merror:0.0010603333333333333\n",
      "[2353]\tcv-test-merror:0.19659933333333332\tcv-train-merror:0.0010603333333333333\n",
      "[2354]\tcv-test-merror:0.19654883333333337\tcv-train-merror:0.0010605\n",
      "[2355]\tcv-test-merror:0.19661616666666668\tcv-train-merror:0.0010436666666666667\n",
      "[2356]\tcv-test-merror:0.196734\tcv-train-merror:0.001043666666666667\n",
      "[2357]\tcv-test-merror:0.19671716666666664\tcv-train-merror:0.0010401666666666667\n",
      "[2358]\tcv-test-merror:0.196734\tcv-train-merror:0.0010401666666666667\n",
      "[2359]\tcv-test-merror:0.1967171666666667\tcv-train-merror:0.0010335\n",
      "[2360]\tcv-test-merror:0.19678450000000003\tcv-train-merror:0.0010301666666666669\n",
      "[2361]\tcv-test-merror:0.19673400000000005\tcv-train-merror:0.0010301666666666669\n",
      "[2362]\tcv-test-merror:0.19670033333333334\tcv-train-merror:0.0010301666666666669\n",
      "[2363]\tcv-test-merror:0.19670033333333334\tcv-train-merror:0.0010301666666666669\n",
      "[2364]\tcv-test-merror:0.1966835\tcv-train-merror:0.0010133333333333333\n",
      "[2365]\tcv-test-merror:0.19676766666666667\tcv-train-merror:0.0010166666666666668\n",
      "[2366]\tcv-test-merror:0.196734\tcv-train-merror:0.0010166666666666668\n",
      "[2367]\tcv-test-merror:0.196734\tcv-train-merror:0.0010166666666666668\n",
      "[2368]\tcv-test-merror:0.19676766666666667\tcv-train-merror:0.00102\n",
      "[2369]\tcv-test-merror:0.19664983333333333\tcv-train-merror:0.0010268333333333334\n",
      "[2370]\tcv-test-merror:0.19675083333333332\tcv-train-merror:0.0010168333333333333\n",
      "[2371]\tcv-test-merror:0.19676766666666667\tcv-train-merror:0.0010133333333333333\n",
      "[2372]\tcv-test-merror:0.19678450000000003\tcv-train-merror:0.0010168333333333333\n",
      "[2373]\tcv-test-merror:0.1968013333333333\tcv-train-merror:0.00101\n",
      "[2374]\tcv-test-merror:0.1968686666666667\tcv-train-merror:0.0010033333333333333\n",
      "[2375]\tcv-test-merror:0.19690233333333332\tcv-train-merror:0.0009965\n",
      "[2376]\tcv-test-merror:0.196835\tcv-train-merror:0.0009931666666666667\n",
      "[2377]\tcv-test-merror:0.196835\tcv-train-merror:0.0009998333333333333\n",
      "[2378]\tcv-test-merror:0.1967171666666667\tcv-train-merror:0.0009931666666666667\n",
      "[2379]\tcv-test-merror:0.19670033333333334\tcv-train-merror:0.0009865\n",
      "[2380]\tcv-test-merror:0.19680133333333336\tcv-train-merror:0.0009764999999999999\n",
      "[2381]\tcv-test-merror:0.19681816666666666\tcv-train-merror:0.0009698333333333334\n",
      "[2382]\tcv-test-merror:0.196936\tcv-train-merror:0.0009764999999999999\n",
      "[2383]\tcv-test-merror:0.19690233333333332\tcv-train-merror:0.0009731666666666666\n",
      "[2384]\tcv-test-merror:0.19681816666666666\tcv-train-merror:0.0009764999999999999\n",
      "[2385]\tcv-test-merror:0.19698649999999998\tcv-train-merror:0.0009731666666666666\n",
      "[2386]\tcv-test-merror:0.19693599999999997\tcv-train-merror:0.0009696666666666667\n",
      "[2387]\tcv-test-merror:0.196936\tcv-train-merror:0.000963\n",
      "[2388]\tcv-test-merror:0.19688550000000002\tcv-train-merror:0.0009530000000000002\n",
      "[2389]\tcv-test-merror:0.19696966666666668\tcv-train-merror:0.0009496666666666667\n",
      "[2390]\tcv-test-merror:0.19680133333333336\tcv-train-merror:0.0009495000000000001\n",
      "[2391]\tcv-test-merror:0.19675083333333335\tcv-train-merror:0.0009495000000000001\n",
      "[2392]\tcv-test-merror:0.19670033333333334\tcv-train-merror:0.0009428333333333334\n",
      "[2393]\tcv-test-merror:0.19676766666666667\tcv-train-merror:0.0009326666666666667\n",
      "[2394]\tcv-test-merror:0.196734\tcv-train-merror:0.0009293333333333336\n",
      "[2395]\tcv-test-merror:0.1967845\tcv-train-merror:0.0009293333333333336\n",
      "[2396]\tcv-test-merror:0.19676766666666667\tcv-train-merror:0.0009293333333333336\n",
      "[2397]\tcv-test-merror:0.19671716666666664\tcv-train-merror:0.0009293333333333336\n",
      "[2398]\tcv-test-merror:0.19670033333333334\tcv-train-merror:0.0009226666666666668\n",
      "[2399]\tcv-test-merror:0.19681816666666666\tcv-train-merror:0.0009226666666666668\n",
      "[2400]\tcv-test-merror:0.1967845\tcv-train-merror:0.0009126666666666667\n",
      "[2401]\tcv-test-merror:0.19675083333333335\tcv-train-merror:0.0009058333333333333\n",
      "[2402]\tcv-test-merror:0.196734\tcv-train-merror:0.0009091666666666666\n",
      "[2403]\tcv-test-merror:0.19671716666666664\tcv-train-merror:0.0008990000000000001\n",
      "[2404]\tcv-test-merror:0.196734\tcv-train-merror:0.0008886666666666666\n",
      "[2405]\tcv-test-merror:0.19683499999999998\tcv-train-merror:0.0008886666666666666\n",
      "[2406]\tcv-test-merror:0.19685183333333334\tcv-train-merror:0.0008886666666666666\n",
      "[2407]\tcv-test-merror:0.19695283333333335\tcv-train-merror:0.0008853333333333333\n",
      "[2408]\tcv-test-merror:0.196835\tcv-train-merror:0.0008853333333333333\n",
      "[2409]\tcv-test-merror:0.19690233333333332\tcv-train-merror:0.0008853333333333333\n",
      "[2410]\tcv-test-merror:0.19688550000000002\tcv-train-merror:0.0008853333333333333\n",
      "[2411]\tcv-test-merror:0.1968686666666667\tcv-train-merror:0.000882\n",
      "[2412]\tcv-test-merror:0.19686866666666666\tcv-train-merror:0.000882\n",
      "[2413]\tcv-test-merror:0.19695283333333333\tcv-train-merror:0.0008851666666666668\n",
      "[2414]\tcv-test-merror:0.19686866666666666\tcv-train-merror:0.0008683333333333334\n",
      "[2415]\tcv-test-merror:0.19685183333333334\tcv-train-merror:0.0008616666666666667\n",
      "[2416]\tcv-test-merror:0.196835\tcv-train-merror:0.0008683333333333334\n",
      "[2417]\tcv-test-merror:0.19685183333333334\tcv-train-merror:0.0008683333333333334\n",
      "[2418]\tcv-test-merror:0.19685183333333334\tcv-train-merror:0.000865\n",
      "[2419]\tcv-test-merror:0.19690233333333337\tcv-train-merror:0.0008616666666666667\n",
      "[2420]\tcv-test-merror:0.196936\tcv-train-merror:0.0008616666666666667\n",
      "[2421]\tcv-test-merror:0.1968013333333333\tcv-train-merror:0.000855\n",
      "[2422]\tcv-test-merror:0.1967845\tcv-train-merror:0.0008616666666666667\n",
      "[2423]\tcv-test-merror:0.196835\tcv-train-merror:0.0008583333333333333\n",
      "[2424]\tcv-test-merror:0.19690233333333332\tcv-train-merror:0.0008616666666666667\n",
      "[2425]\tcv-test-merror:0.19688550000000002\tcv-train-merror:0.0008616666666666667\n",
      "[2426]\tcv-test-merror:0.19688550000000002\tcv-train-merror:0.0008616666666666667\n",
      "[2427]\tcv-test-merror:0.196936\tcv-train-merror:0.0008583333333333333\n",
      "[2428]\tcv-test-merror:0.19691916666666665\tcv-train-merror:0.000855\n",
      "[2429]\tcv-test-merror:0.19690233333333332\tcv-train-merror:0.0008516666666666667\n",
      "[2430]\tcv-test-merror:0.19690233333333332\tcv-train-merror:0.0008516666666666667\n",
      "[2431]\tcv-test-merror:0.19695283333333335\tcv-train-merror:0.0008516666666666667\n",
      "[2432]\tcv-test-merror:0.19702016666666666\tcv-train-merror:0.0008551666666666667\n",
      "[2433]\tcv-test-merror:0.19695283333333333\tcv-train-merror:0.0008551666666666667\n",
      "[2434]\tcv-test-merror:0.19702016666666666\tcv-train-merror:0.0008315000000000001\n",
      "[2435]\tcv-test-merror:0.19702016666666666\tcv-train-merror:0.0008316666666666666\n",
      "[2436]\tcv-test-merror:0.196936\tcv-train-merror:0.0008316666666666668\n",
      "[2437]\tcv-test-merror:0.19695283333333333\tcv-train-merror:0.0008349999999999999\n",
      "[2438]\tcv-test-merror:0.19696966666666668\tcv-train-merror:0.0008316666666666666\n",
      "[2439]\tcv-test-merror:0.19696966666666668\tcv-train-merror:0.0008183333333333332\n",
      "[2440]\tcv-test-merror:0.19696966666666668\tcv-train-merror:0.0008183333333333332\n",
      "[2441]\tcv-test-merror:0.19690233333333337\tcv-train-merror:0.000808\n",
      "[2442]\tcv-test-merror:0.19696966666666663\tcv-train-merror:0.0008046666666666667\n",
      "[2443]\tcv-test-merror:0.19686866666666666\tcv-train-merror:0.000808\n",
      "[2444]\tcv-test-merror:0.19696966666666668\tcv-train-merror:0.0008115\n",
      "[2445]\tcv-test-merror:0.19696966666666668\tcv-train-merror:0.0008081666666666667\n",
      "[2446]\tcv-test-merror:0.1968686666666667\tcv-train-merror:0.0008048333333333332\n",
      "[2447]\tcv-test-merror:0.196936\tcv-train-merror:0.0008013333333333333\n",
      "[2448]\tcv-test-merror:0.19685183333333334\tcv-train-merror:0.0008011666666666667\n",
      "[2449]\tcv-test-merror:0.19695283333333335\tcv-train-merror:0.0007976666666666667\n",
      "[2450]\tcv-test-merror:0.1968686666666667\tcv-train-merror:0.0007943333333333334\n",
      "[2451]\tcv-test-merror:0.19691916666666665\tcv-train-merror:0.0007776666666666666\n",
      "[2452]\tcv-test-merror:0.1970875\tcv-train-merror:0.0007743333333333334\n",
      "[2453]\tcv-test-merror:0.197037\tcv-train-merror:0.0007676666666666666\n",
      "[2454]\tcv-test-merror:0.19702016666666666\tcv-train-merror:0.0007676666666666666\n",
      "[2455]\tcv-test-merror:0.19698649999999998\tcv-train-merror:0.0007641666666666666\n",
      "[2456]\tcv-test-merror:0.19690233333333332\tcv-train-merror:0.0007575\n",
      "[2457]\tcv-test-merror:0.19691916666666667\tcv-train-merror:0.0007608333333333333\n",
      "[2458]\tcv-test-merror:0.19686866666666666\tcv-train-merror:0.0007608333333333333\n",
      "[2459]\tcv-test-merror:0.196936\tcv-train-merror:0.0007608333333333333\n",
      "[2460]\tcv-test-merror:0.19698649999999998\tcv-train-merror:0.0007608333333333333\n",
      "[2461]\tcv-test-merror:0.196936\tcv-train-merror:0.0007641666666666666\n",
      "[2462]\tcv-test-merror:0.19691916666666665\tcv-train-merror:0.0007608333333333333\n",
      "[2463]\tcv-test-merror:0.1968181666666667\tcv-train-merror:0.0007608333333333333\n",
      "[2464]\tcv-test-merror:0.19681816666666666\tcv-train-merror:0.0007541666666666665\n",
      "[2465]\tcv-test-merror:0.19675083333333332\tcv-train-merror:0.0007406666666666667\n",
      "[2466]\tcv-test-merror:0.19670033333333334\tcv-train-merror:0.0007373333333333334\n",
      "[2467]\tcv-test-merror:0.19666666666666668\tcv-train-merror:0.000734\n",
      "[2468]\tcv-test-merror:0.1965825\tcv-train-merror:0.0007306666666666668\n",
      "[2469]\tcv-test-merror:0.19670033333333334\tcv-train-merror:0.0007240000000000001\n",
      "[2470]\tcv-test-merror:0.19661616666666668\tcv-train-merror:0.0007240000000000001\n",
      "[2471]\tcv-test-merror:0.19661616666666668\tcv-train-merror:0.0007205000000000001\n",
      "[2472]\tcv-test-merror:0.19661616666666668\tcv-train-merror:0.0007238333333333334\n",
      "[2473]\tcv-test-merror:0.19664983333333333\tcv-train-merror:0.0007238333333333334\n",
      "[2474]\tcv-test-merror:0.19664983333333333\tcv-train-merror:0.0007238333333333334\n",
      "[2475]\tcv-test-merror:0.19666666666666668\tcv-train-merror:0.0007238333333333334\n",
      "[2476]\tcv-test-merror:0.19664983333333333\tcv-train-merror:0.0007238333333333334\n",
      "[2477]\tcv-test-merror:0.19670033333333334\tcv-train-merror:0.0007205000000000001\n",
      "[2478]\tcv-test-merror:0.19671716666666664\tcv-train-merror:0.0007238333333333334\n",
      "[2479]\tcv-test-merror:0.196734\tcv-train-merror:0.0007271666666666668\n",
      "[2480]\tcv-test-merror:0.19671716666666664\tcv-train-merror:0.0007238333333333334\n",
      "[2481]\tcv-test-merror:0.196734\tcv-train-merror:0.0007271666666666668\n",
      "[2482]\tcv-test-merror:0.1967845\tcv-train-merror:0.0007271666666666668\n",
      "[2483]\tcv-test-merror:0.19673399999999996\tcv-train-merror:0.0007271666666666668\n",
      "[2484]\tcv-test-merror:0.19676766666666665\tcv-train-merror:0.0007238333333333334\n",
      "[2485]\tcv-test-merror:0.19685183333333334\tcv-train-merror:0.0007138333333333334\n",
      "[2486]\tcv-test-merror:0.196936\tcv-train-merror:0.0007138333333333334\n",
      "[2487]\tcv-test-merror:0.19685183333333334\tcv-train-merror:0.0007036666666666667\n",
      "[2488]\tcv-test-merror:0.19685183333333334\tcv-train-merror:0.0007036666666666667\n",
      "[2489]\tcv-test-merror:0.19685183333333334\tcv-train-merror:0.0007036666666666667\n",
      "[2490]\tcv-test-merror:0.19685183333333334\tcv-train-merror:0.0007036666666666667\n",
      "[2491]\tcv-test-merror:0.19686866666666666\tcv-train-merror:0.0007070000000000001\n",
      "[2492]\tcv-test-merror:0.19680133333333336\tcv-train-merror:0.0007036666666666667\n",
      "[2493]\tcv-test-merror:0.19690233333333332\tcv-train-merror:0.000697\n",
      "[2494]\tcv-test-merror:0.19690233333333332\tcv-train-merror:0.000697\n",
      "[2495]\tcv-test-merror:0.19698649999999998\tcv-train-merror:0.0006903333333333333\n",
      "[2496]\tcv-test-merror:0.19695283333333333\tcv-train-merror:0.0006868333333333332\n",
      "[2497]\tcv-test-merror:0.19695283333333333\tcv-train-merror:0.0006835000000000001\n",
      "[2498]\tcv-test-merror:0.19695283333333333\tcv-train-merror:0.0006768333333333334\n",
      "[2499]\tcv-test-merror:0.19695283333333333\tcv-train-merror:0.0006735\n"
     ]
    }
   ],
   "source": [
    "cv = xgb.cv(params, dtrain, metrics=('merror'), verbose_eval=True, nfold=6, show_stdv=False, num_boost_round=trees)"
   ]
  },
  {
   "cell_type": "code",
   "execution_count": 24,
   "metadata": {
    "collapsed": false
   },
   "outputs": [
    {
     "data": {
      "text/plain": [
       "<matplotlib.axes._subplots.AxesSubplot at 0x7fdb767b1940>"
      ]
     },
     "execution_count": 24,
     "metadata": {},
     "output_type": "execute_result"
    },
    {
     "data": {
      "image/png": "[encoded data removed]",
      "text/plain": [
       "<matplotlib.figure.Figure at 0x7fdb7674b9b0>"
      ]
     },
     "metadata": {},
     "output_type": "display_data"
    }
   ],
   "source": [
    "%matplotlib inline\n",
    "cv.plot(y='test-merror-mean')"
   ]
  },
  {
   "cell_type": "code",
   "execution_count": 26,
   "metadata": {
    "collapsed": false
   },
   "outputs": [
    {
     "data": {
      "text/plain": [
       "<matplotlib.axes._subplots.AxesSubplot at 0x7fdb760412e8>"
      ]
     },
     "execution_count": 26,
     "metadata": {},
     "output_type": "execute_result"
    },
    {
     "data": {
      "image/png": "[encoded data removed]",
      "text/plain": [
       "<matplotlib.figure.Figure at 0x7fdb75ff20b8>"
      ]
     },
     "metadata": {},
     "output_type": "display_data"
    }
   ],
   "source": [
    "cv[500:].plot(y='test-merror-mean')"
   ]
  },
  {
   "cell_type": "code",
   "execution_count": 27,
   "metadata": {
    "collapsed": false
   },
   "outputs": [
    {
     "data": {
      "text/plain": [
       "1154"
      ]
     },
     "execution_count": 27,
     "metadata": {},
     "output_type": "execute_result"
    }
   ],
   "source": [
    "cv['test-merror-mean'].argmin()"
   ]
  },
  {
   "cell_type": "code",
   "execution_count": 28,
   "metadata": {
    "collapsed": false
   },
   "outputs": [
    {
     "data": {
      "text/plain": [
       "test-merror-mean     0.194764\n",
       "test-merror-std      0.005720\n",
       "train-merror-mean    0.026407\n",
       "train-merror-std     0.000564\n",
       "Name: 1154, dtype: float64"
      ]
     },
     "execution_count": 28,
     "metadata": {},
     "output_type": "execute_result"
    }
   ],
   "source": [
    "cv.loc[1154]"
   ]
  },
  {
   "cell_type": "code",
   "execution_count": 23,
   "metadata": {
    "collapsed": true
   },
   "outputs": [],
   "source": [
    "trees = 1154"
   ]
  },
  {
   "cell_type": "code",
   "execution_count": 24,
   "metadata": {
    "collapsed": false
   },
   "outputs": [],
   "source": [
    "bst = xgb.train(params, dtrain, num_boost_round=trees)"
   ]
  },
  {
   "cell_type": "code",
   "execution_count": 25,
   "metadata": {
    "collapsed": true
   },
   "outputs": [],
   "source": [
    "imps = pd.Series(bst.get_fscore()).sort_values()"
   ]
  },
  {
   "cell_type": "code",
   "execution_count": 27,
   "metadata": {
    "collapsed": false
   },
   "outputs": [
    {
     "data": {
      "text/plain": [
       "<matplotlib.axes._subplots.AxesSubplot at 0x7f5d8a7909e8>"
      ]
     },
     "execution_count": 27,
     "metadata": {},
     "output_type": "execute_result"
    },
    {
     "data": {
      "image/png": "[encoded data removed]",
      "text/plain": [
       "<matplotlib.figure.Figure at 0x7f5d8c4b2a90>"
      ]
     },
     "metadata": {},
     "output_type": "display_data"
    }
   ],
   "source": [
    "%matplotlib inline\n",
    "imps.plot(kind='bar', figsize=(15,6),logy=True)"
   ]
  },
  {
   "cell_type": "code",
   "execution_count": 30,
   "metadata": {
    "collapsed": true
   },
   "outputs": [],
   "source": [
    "dtest = xgb.DMatrix(test)"
   ]
  },
  {
   "cell_type": "code",
   "execution_count": 31,
   "metadata": {
    "collapsed": true
   },
   "outputs": [],
   "source": [
    "p = bst.predict(dtest)"
   ]
  },
  {
   "cell_type": "code",
   "execution_count": 48,
   "metadata": {
    "collapsed": false
   },
   "outputs": [],
   "source": [
    "xgb_prediction = []\n",
    "for line in range(0, len(p)):\n",
    "    xgb_prediction.append(list(p[line]).index(max(p[line])))"
   ]
  },
  {
   "cell_type": "code",
   "execution_count": 49,
   "metadata": {
    "collapsed": true
   },
   "outputs": [],
   "source": [
    "xgb_prediction = classes_to_names(xgb_prediction)"
   ]
  },
  {
   "cell_type": "code",
   "execution_count": 50,
   "metadata": {
    "collapsed": false
   },
   "outputs": [
    {
     "data": {
      "text/plain": [
       "['functional',\n",
       " 'functional',\n",
       " 'non functional',\n",
       " 'functional',\n",
       " 'functional',\n",
       " 'functional',\n",
       " 'non functional',\n",
       " 'non functional',\n",
       " 'functional']"
      ]
     },
     "execution_count": 50,
     "metadata": {},
     "output_type": "execute_result"
    }
   ],
   "source": [
    "xgb_prediction[1:10]"
   ]
  },
  {
   "cell_type": "code",
   "execution_count": 52,
   "metadata": {
    "collapsed": false
   },
   "outputs": [],
   "source": [
    "sub = pd.DataFrame(sample.id)\n",
    "sub['status_group'] = pd.DataFrame(xgb_prediction, columns=sample.columns[1:])"
   ]
  },
  {
   "cell_type": "code",
   "execution_count": 54,
   "metadata": {
    "collapsed": true
   },
   "outputs": [],
   "source": [
    "sub.to_csv('/home/dmitry/Desktop/DataDriven/xgb_prediction.csv', index=False)"
   ]
  },
  {
   "cell_type": "markdown",
   "metadata": {},
   "source": [
    "Score is 0.8111 and the rank went up to 117th"
   ]
  },
  {
   "cell_type": "markdown",
   "metadata": {},
   "source": [
    "## Neural Networks"
   ]
  },
  {
   "cell_type": "code",
   "execution_count": 75,
   "metadata": {
    "collapsed": true
   },
   "outputs": [],
   "source": [
    "sys.path.append('/usr/local/lib/python3.5/dist-packages')"
   ]
  },
  {
   "cell_type": "code",
   "execution_count": 76,
   "metadata": {
    "collapsed": false
   },
   "outputs": [
    {
     "name": "stderr",
     "output_type": "stream",
     "text": [
      "Using Theano backend.\n"
     ]
    }
   ],
   "source": [
    "from keras.models import Sequential\n",
    "from keras.layers import Dense, Dropout, Activation\n",
    "from keras.optimizers import Adam\n",
    "from keras.utils.np_utils import to_categorical"
   ]
  },
  {
   "cell_type": "code",
   "execution_count": 101,
   "metadata": {
    "collapsed": true
   },
   "outputs": [],
   "source": [
    "nn = Sequential()\n",
    "nn.add(Dense(128, input_dim=81, init='uniform'))\n",
    "nn.add(Activation('sigmoid'))\n",
    "nn.add(Dense(3, init='uniform'))\n",
    "nn.add(Activation('softmax'))\n",
    "\n",
    "opt = Adam(lr=1e-3)\n",
    "nn.compile(loss='categorical_crossentropy', optimizer=opt)"
   ]
  },
  {
   "cell_type": "code",
   "execution_count": 81,
   "metadata": {
    "collapsed": true
   },
   "outputs": [],
   "source": [
    "from sklearn.preprocessing import StandardScaler\n",
    "ss = StandardScaler()"
   ]
  },
  {
   "cell_type": "code",
   "execution_count": null,
   "metadata": {
    "collapsed": false,
    "scrolled": false
   },
   "outputs": [
    {
     "name": "stdout",
     "output_type": "stream",
     "text": [
      "Train on 50490 samples, validate on 8910 samples\n",
      "Epoch 1/100\n",
      "50490/50490 [==============================] - 8s - loss: 0.5808 - val_loss: 0.5895\n",
      "Epoch 2/100\n",
      "50490/50490 [==============================] - 8s - loss: 0.5721 - val_loss: 0.5861\n",
      "Epoch 3/100\n",
      "50490/50490 [==============================] - 8s - loss: 0.5652 - val_loss: 0.5756\n",
      "Epoch 4/100\n",
      "50490/50490 [==============================] - 8s - loss: 0.5581 - val_loss: 0.5722\n",
      "Epoch 5/100\n",
      "50490/50490 [==============================] - 8s - loss: 0.5523 - val_loss: 0.5714\n",
      "Epoch 6/100\n",
      "50490/50490 [==============================] - 8s - loss: 0.5467 - val_loss: 0.5669\n",
      "Epoch 7/100\n",
      "50490/50490 [==============================] - 8s - loss: 0.5415 - val_loss: 0.5712\n",
      "Epoch 8/100\n",
      "50490/50490 [==============================] - 8s - loss: 0.5363 - val_loss: 0.5642\n",
      "Epoch 9/100\n",
      "50490/50490 [==============================] - 8s - loss: 0.5306 - val_loss: 0.5623\n",
      "Epoch 10/100\n",
      "50490/50490 [==============================] - 8s - loss: 0.5273 - val_loss: 0.5601\n",
      "Epoch 11/100\n",
      "50490/50490 [==============================] - 8s - loss: 0.5228 - val_loss: 0.5605\n",
      "Epoch 12/100\n",
      "50490/50490 [==============================] - 8s - loss: 0.5192 - val_loss: 0.5553\n",
      "Epoch 13/100\n",
      "50490/50490 [==============================] - 8s - loss: 0.5140 - val_loss: 0.5560\n",
      "Epoch 14/100\n",
      "50490/50490 [==============================] - 8s - loss: 0.5110 - val_loss: 0.5581\n",
      "Epoch 15/100\n",
      "50490/50490 [==============================] - 8s - loss: 0.5075 - val_loss: 0.5610\n",
      "Epoch 16/100\n",
      "50490/50490 [==============================] - 8s - loss: 0.5042 - val_loss: 0.5577\n",
      "Epoch 17/100\n",
      "50490/50490 [==============================] - 8s - loss: 0.5016 - val_loss: 0.5544\n",
      "Epoch 18/100\n",
      "50490/50490 [==============================] - 8s - loss: 0.4971 - val_loss: 0.5577\n",
      "Epoch 19/100\n",
      "50490/50490 [==============================] - 8s - loss: 0.4941 - val_loss: 0.5615\n",
      "Epoch 20/100\n",
      "50490/50490 [==============================] - 8s - loss: 0.4913 - val_loss: 0.5531\n",
      "Epoch 21/100\n",
      "50490/50490 [==============================] - 8s - loss: 0.4881 - val_loss: 0.5534\n",
      "Epoch 22/100\n",
      "50490/50490 [==============================] - 8s - loss: 0.4851 - val_loss: 0.5518\n",
      "Epoch 23/100\n",
      "50490/50490 [==============================] - 8s - loss: 0.4820 - val_loss: 0.5594\n",
      "Epoch 24/100\n",
      "50490/50490 [==============================] - 8s - loss: 0.4798 - val_loss: 0.5566\n",
      "Epoch 25/100\n",
      "50490/50490 [==============================] - 8s - loss: 0.4768 - val_loss: 0.5574\n",
      "Epoch 26/100\n",
      "50490/50490 [==============================] - 8s - loss: 0.4739 - val_loss: 0.5610\n",
      "Epoch 27/100\n",
      "50490/50490 [==============================] - 8s - loss: 0.4717 - val_loss: 0.5603\n",
      "Epoch 28/100\n",
      "50490/50490 [==============================] - 8s - loss: 0.4690 - val_loss: 0.5596\n",
      "Epoch 29/100\n",
      "50490/50490 [==============================] - 8s - loss: 0.4667 - val_loss: 0.5555\n",
      "Epoch 30/100\n",
      "50490/50490 [==============================] - 8s - loss: 0.4648 - val_loss: 0.5600\n",
      "Epoch 31/100\n",
      "50490/50490 [==============================] - 8s - loss: 0.4624 - val_loss: 0.5552\n",
      "Epoch 32/100\n",
      "50490/50490 [==============================] - 8s - loss: 0.4603 - val_loss: 0.5562\n",
      "Epoch 33/100\n",
      "50490/50490 [==============================] - 8s - loss: 0.4580 - val_loss: 0.5604\n",
      "Epoch 34/100\n",
      "50490/50490 [==============================] - 8s - loss: 0.4562 - val_loss: 0.5609\n",
      "Epoch 35/100\n",
      "50490/50490 [==============================] - 8s - loss: 0.4543 - val_loss: 0.5633\n",
      "Epoch 36/100\n",
      "50490/50490 [==============================] - 8s - loss: 0.4519 - val_loss: 0.5626\n",
      "Epoch 37/100\n",
      "50490/50490 [==============================] - 8s - loss: 0.4500 - val_loss: 0.5690\n",
      "Epoch 38/100\n",
      "50490/50490 [==============================] - 8s - loss: 0.4481 - val_loss: 0.5651\n",
      "Epoch 39/100\n",
      "50490/50490 [==============================] - 8s - loss: 0.4473 - val_loss: 0.5631\n",
      "Epoch 40/100\n",
      "50490/50490 [==============================] - 8s - loss: 0.4455 - val_loss: 0.5650\n",
      "Epoch 41/100\n",
      "50490/50490 [==============================] - 8s - loss: 0.4436 - val_loss: 0.5644\n",
      "Epoch 42/100\n",
      "50490/50490 [==============================] - 8s - loss: 0.4417 - val_loss: 0.5657\n",
      "Epoch 43/100\n",
      "50490/50490 [==============================] - 8s - loss: 0.4406 - val_loss: 0.5666\n",
      "Epoch 44/100\n",
      "50490/50490 [==============================] - 8s - loss: 0.4391 - val_loss: 0.5680\n",
      "Epoch 45/100\n",
      "50490/50490 [==============================] - 8s - loss: 0.4367 - val_loss: 0.5772\n",
      "Epoch 46/100\n",
      "50490/50490 [==============================] - 8s - loss: 0.4355 - val_loss: 0.5708\n",
      "Epoch 47/100\n",
      "50490/50490 [==============================] - 8s - loss: 0.4347 - val_loss: 0.5693\n",
      "Epoch 48/100\n",
      "50490/50490 [==============================] - 8s - loss: 0.4337 - val_loss: 0.5744\n",
      "Epoch 49/100\n",
      "50490/50490 [==============================] - 8s - loss: 0.4318 - val_loss: 0.5717\n",
      "Epoch 50/100\n",
      "50490/50490 [==============================] - 8s - loss: 0.4315 - val_loss: 0.5703\n",
      "Epoch 51/100\n",
      "50490/50490 [==============================] - 8s - loss: 0.4295 - val_loss: 0.5761\n",
      "Epoch 52/100\n",
      "37312/50490 [=====================>........] - ETA: 2s - loss: 0.4248"
     ]
    }
   ],
   "source": [
    "hist = nn.fit(ss.fit_transform(Xtr), to_categorical(ytr), nb_epoch=100, validation_data=(ss.transform(Xval), to_categorical(yval)))"
   ]
  },
  {
   "cell_type": "code",
   "execution_count": null,
   "metadata": {
    "collapsed": false
   },
   "outputs": [],
   "source": [
    "start = 0\n",
    "plt.plot(hist.history['loss'][start:])\n",
    "plt.plot(hist.history['val_loss'][start:])\n",
    "plt.legend(['Train loss', 'Validation loss'])"
   ]
  },
  {
   "cell_type": "markdown",
   "metadata": {},
   "source": [
    "## MetaClassifier"
   ]
  },
  {
   "cell_type": "code",
   "execution_count": 72,
   "metadata": {
    "collapsed": true
   },
   "outputs": [],
   "source": [
    "clf1_c = lr.fit(Xtr, ytr).predict_proba(Xval)"
   ]
  },
  {
   "cell_type": "code",
   "execution_count": null,
   "metadata": {
    "collapsed": true
   },
   "outputs": [],
   "source": [
    "dXtr = xgb.DMatrix(Xtr, label=ytr)\n",
    "dXval = xgb.DMatrix(Xval, label=yval)\n",
    "xgb_Xtr_only = xgb.train(params, dXtr, num_boost_round=trees)"
   ]
  }
 ],
 "metadata": {
  "kernelspec": {
   "display_name": "Python 3",
   "language": "python",
   "name": "python3"
  },
  "language_info": {
   "codemirror_mode": {
    "name": "ipython",
    "version": 3
   },
   "file_extension": ".py",
   "mimetype": "text/x-python",
   "name": "python",
   "nbconvert_exporter": "python",
   "pygments_lexer": "ipython3",
   "version": "3.5.1"
  }
 },
 "nbformat": 4,
 "nbformat_minor": 0
}
